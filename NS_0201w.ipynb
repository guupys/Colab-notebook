{
  "cells": [
    {
      "cell_type": "markdown",
      "metadata": {
        "id": "view-in-github",
        "colab_type": "text"
      },
      "source": [
        "<a href=\"https://colab.research.google.com/github/guupys/Temp/blob/main/NS_0201w.ipynb\" target=\"_parent\"><img src=\"https://colab.research.google.com/assets/colab-badge.svg\" alt=\"Open In Colab\"/></a>"
      ]
    },
    {
      "cell_type": "markdown",
      "metadata": {
        "id": "i8G7voHuBVBJ"
      },
      "source": [
        "# 改善案のFastTextについて"
      ]
    },
    {
      "cell_type": "markdown",
      "metadata": {
        "id": "StdS0YlQLkV9"
      },
      "source": [
        "メモ：学習時のべうとる次元数の目安<br>\n",
        "参照：https://dot-blog.jp/news/fasttext-natural-language-machine-learning-tutorial/<br>\n",
        "小規模コーパス(～50M words):100次元<br>\n",
        "中規模コーパス(～200M words):200次元<br>\n",
        "大規模コーパス(300M～ words):300次元<br>"
      ]
    },
    {
      "cell_type": "markdown",
      "metadata": {
        "id": "C80mrofPQchr"
      },
      "source": [
        "モデルの種類について<br>\n",
        "参照：https://torch.classcat.com/2018/07/09/fasttext-tutorials-word-representations/<br>\n",
        "基本的にはSkipgramの方が良い？"
      ]
    },
    {
      "cell_type": "code",
      "execution_count": 1,
      "metadata": {
        "colab": {
          "base_uri": "https://localhost:8080/"
        },
        "id": "nWRBlGrXOU5d",
        "outputId": "f5ecf208-c89b-4edb-9731-219ffca56571"
      },
      "outputs": [
        {
          "output_type": "stream",
          "name": "stdout",
          "text": [
            "Successfully installed japanize-matplotlib-1.1.3\n"
          ]
        }
      ],
      "source": [
        "!pip install japanize-matplotlib | tail -n 1"
      ]
    },
    {
      "cell_type": "markdown",
      "metadata": {
        "id": "EQUnIgkTakto"
      },
      "source": [
        "## 学習済みのFastTextの利用"
      ]
    },
    {
      "cell_type": "code",
      "execution_count": null,
      "metadata": {
        "id": "pmL_TM9wt4OY"
      },
      "outputs": [],
      "source": [
        "import gensim\n",
        "# 学習済モデルのパス\n",
        "model_path = './drive/MyDrive/FastText/cc.ja.300.vec.gz'\n",
        "# ロードに10分くらいかかる\n",
        "model = gensim.models.KeyedVectors.load_word2vec_format(model_path, binary=False)"
      ]
    },
    {
      "cell_type": "code",
      "execution_count": null,
      "metadata": {
        "colab": {
          "base_uri": "https://localhost:8080/"
        },
        "id": "_obajiOnwRN-",
        "outputId": "9b65b42b-23f0-4862-ca86-5ea1e39ca7ac"
      },
      "outputs": [
        {
          "name": "stdout",
          "output_type": "stream",
          "text": [
            "vocab : 2000000\n",
            "vector dim : (300,)\n"
          ]
        },
        {
          "data": {
            "text/plain": [
              "[('甥', 0.8209505081176758),\n",
              " ('叔父', 0.6412274837493896),\n",
              " ('叔母', 0.6293267011642456),\n",
              " ('従姉', 0.6224151849746704),\n",
              " ('弟', 0.6069883108139038),\n",
              " ('従兄', 0.595562756061554),\n",
              " ('従姉妹', 0.594235360622406),\n",
              " ('伯父', 0.5939351916313171),\n",
              " ('義妹', 0.5894800424575806),\n",
              " ('従兄弟', 0.5876302719116211)]"
            ]
          },
          "execution_count": 2,
          "metadata": {},
          "output_type": "execute_result"
        }
      ],
      "source": [
        "# 登録している単語の数\n",
        "print(\"vocab :\", len(model.vocab.keys())) # 2000000\n",
        "# ひとつの単語ベクトルの次元\n",
        "print(\"vector dim :\", model['猫'].shape) # (300,)\n",
        "# 類似語検索\n",
        "model.most_similar(positive=['姪', '男性'], negative=['女性'])"
      ]
    },
    {
      "cell_type": "code",
      "execution_count": null,
      "metadata": {
        "colab": {
          "base_uri": "https://localhost:8080/"
        },
        "id": "PNTuW1fewUlR",
        "outputId": "1bdeac25-04d4-4e90-cc71-3b8b38e93ece"
      },
      "outputs": [
        {
          "name": "stdout",
          "output_type": "stream",
          "text": [
            "猫 - 犬 : 0.65053856\n",
            "猫 - 人 : 0.23371725\n"
          ]
        }
      ],
      "source": [
        "# 類似度計算\n",
        "print(\"猫 - 犬 :\", model.similarity('猫', '犬'))\n",
        "print(\"猫 - 人 :\", model.similarity('猫', '人'))"
      ]
    },
    {
      "cell_type": "code",
      "execution_count": null,
      "metadata": {
        "colab": {
          "base_uri": "https://localhost:8080/"
        },
        "id": "U2MZYbCbwU17",
        "outputId": "45cc3d26-669d-4794-cfb6-b608dff4118a"
      },
      "outputs": [
        {
          "name": "stdout",
          "output_type": "stream",
          "text": [
            "(4,)\n",
            "(40,)\n",
            "(40, 300)\n",
            "猫 ['ネコ', 'ねこ', '子猫', '仔猫', 'ニャンコ', '野良猫', '犬', 'ミケ', '野良ねこ', '飼猫']\n",
            "銃 ['拳銃', '銃器', '短銃', '小銃', 'ダルヌ', '猟銃', 'アサルトライフル', '散弾', 'レムリカ', '蟲砕']\n",
            "鉄 ['拐仙', '蕉館', '勒諸', 'ワン・アンダードッグ', '拐山', 'ブリキンガー', '珪輝', '拐李', 'ぱいぷ', '鋼鉄']\n",
            "病原菌 ['病原', '細菌', 'ウイルス', 'ばい菌', 'エボラウィルス', '伝染病', '感染', '菌', 'ウィルス', 'ゾンビウィルス']\n"
          ]
        }
      ],
      "source": [
        "import numpy as np\n",
        "\n",
        "# 入力した単語に類似した単語とベクトルを返す\n",
        "def similars(words, model):\n",
        "    vectors = []\n",
        "    cluster = []\n",
        "    label = []\n",
        "    for i in range(len(words)):\n",
        "        word = words[i]\n",
        "        similar = model.similar_by_word(word, topn=10)\n",
        "        for x in similar:\n",
        "            cluster.append(i)\n",
        "            label.append(word)\n",
        "            vectors.append(model[x[0]])   # 類似語のベクトル格納\n",
        "    return vectors, cluster, label\n",
        "\n",
        "words = ['猫', '銃', '鉄', '病原菌']\n",
        "vectors, cluster, label = similars(words, model)\n",
        "\n",
        "# ベクトルの次元を確認\n",
        "print(np.array(words).shape)   # wordsの種類\n",
        "print(np.array(cluster).shape) # wordsの種類×topnの数=40\n",
        "print(np.array(vectors).shape) # 40個の単語について300次元のベクトル\n",
        "\n",
        "# 類似した単語の確認\n",
        "for word in words:\n",
        "    similar = model.similar_by_word(word, topn=10)\n",
        "    print(word, [x[0] for x in similar])"
      ]
    },
    {
      "cell_type": "code",
      "execution_count": null,
      "metadata": {
        "colab": {
          "base_uri": "https://localhost:8080/",
          "height": 264
        },
        "id": "maDlq7oxwdES",
        "outputId": "8ad3257d-0c32-4c35-c1ba-d789d20e0aa7"
      },
      "outputs": [
        {
          "data": {
            "image/png": "[encoded data removed]",
            "text/plain": [
              "<Figure size 432x288 with 1 Axes>"
            ]
          },
          "metadata": {},
          "output_type": "display_data"
        }
      ],
      "source": [
        "from sklearn.decomposition import PCA\n",
        "import matplotlib.pyplot as plt\n",
        "import japanize_matplotlib \n",
        "\n",
        "def draw_scatter_plot(vectors, words, cluster):\n",
        "    # 色の設定\n",
        "    colors = [\"b\", \"g\", \"r\", \"c\", \"m\", \"y\", \"k\"]\n",
        "    # 各単語を2次元に圧縮して、可視化のためにx, yに格納\n",
        "    pca = PCA(n_components=2)\n",
        "    coords = pca.fit_transform(vectors)\n",
        "    x = [v[0] for v in coords]\n",
        "    y = [v[1] for v in coords]\n",
        "    # matplotlibによる可視化\n",
        "    fig, ax = plt.subplots()\n",
        "    for i in range(len(words)):\n",
        "        xx = []\n",
        "        yy = []\n",
        "        for c, a, b in zip(cluster, x, y):\n",
        "            if i == c:\n",
        "                xx.append(a)\n",
        "                yy.append(b)\n",
        "        ax.scatter(xx, yy, c=colors[i % 7], label=words[i])\n",
        "    ax.legend(loc='upper right')\n",
        "    plt.show()\n",
        "\n",
        "draw_scatter_plot(vectors, words, cluster)"
      ]
    },
    {
      "cell_type": "code",
      "execution_count": 4,
      "metadata": {
        "colab": {
          "base_uri": "https://localhost:8080/"
        },
        "id": "iGcb3Lz35Xmo",
        "outputId": "f125afb9-d2ef-4c40-8568-3639706c30be"
      },
      "outputs": [
        {
          "output_type": "stream",
          "name": "stdout",
          "text": [
            "Cloning into 'mecab-ipadic-neologd'...\n",
            "remote: Enumerating objects: 75, done.\u001b[K\n",
            "remote: Counting objects: 100% (75/75), done.\u001b[K\n",
            "remote: Compressing objects: 100% (74/74), done.\u001b[K\n",
            "remote: Total 75 (delta 5), reused 54 (delta 0), pack-reused 0\u001b[K\n",
            "Unpacking objects: 100% (75/75), done.\n",
            "^C\n"
          ]
        }
      ],
      "source": [
        "# 形態素分析ライブラリーMeCab と 辞書(mecab-ipadic-NEologd)のインストール \n",
        "!apt-get -q -y install sudo file mecab libmecab-dev mecab-ipadic-utf8 git curl python-mecab > /dev/null\n",
        "!git clone --depth 1 https://github.com/neologd/mecab-ipadic-neologd.git > /dev/null \n",
        "!echo yes | mecab-ipadic-neologd/bin/install-mecab-ipadic-neologd -n > /dev/null 2>&1\n",
        "!pip install mecab-python3 > /dev/null\n",
        "\n",
        "# シンボリックリンクによるエラー回避\n",
        "!ln -s /etc/mecabrc /usr/local/etc/mecabrc"
      ]
    },
    {
      "cell_type": "code",
      "execution_count": 5,
      "metadata": {
        "colab": {
          "base_uri": "https://localhost:8080/"
        },
        "id": "wOTPvsQq5eUq",
        "outputId": "fe806e30-7c3d-46b1-b5a2-60b610d09538"
      },
      "outputs": [
        {
          "output_type": "stream",
          "name": "stdout",
          "text": [
            "/usr/lib/x86_64-linux-gnu/mecab/dic/mecab-ipadic-neologd\n"
          ]
        }
      ],
      "source": [
        "!echo `mecab-config --dicdir`\"/mecab-ipadic-neologd\""
      ]
    },
    {
      "cell_type": "code",
      "execution_count": 6,
      "metadata": {
        "colab": {
          "base_uri": "https://localhost:8080/"
        },
        "id": "akLSD90x5fA6",
        "outputId": "3b849668-5bda-4650-9439-eb868db307b9"
      },
      "outputs": [
        {
          "output_type": "stream",
          "name": "stdout",
          "text": [
            "彼女 は ペンパイナッポーアッポーペン と 恋 ダンス を 踊っ た 。 \n",
            "\n"
          ]
        }
      ],
      "source": [
        "import MeCab\n",
        "m=MeCab.Tagger('-Owakati')\n",
        "sample_txt = \"彼女はペンパイナッポーアッポーペンと恋ダンスを踊った。\"\n",
        "print(m.parse(sample_txt))"
      ]
    },
    {
      "cell_type": "code",
      "execution_count": null,
      "metadata": {
        "id": "DVKF6PL9xEvH"
      },
      "outputs": [],
      "source": [
        "def sentence_vector(sentence, unknowns=[]):\n",
        "    \"\"\"\n",
        "    文章ベクトルを求める関数。\n",
        "    300次元のベクトルを返す。未知の単語で文章ベクトルが求められないときはNoneを返す。\n",
        "    @param sentence 文章\n",
        "    @param unknowns 不明な語があったら格納する配列。呼び出しもとから渡すこと。\n",
        "    \"\"\"\n",
        "    _sv = np.empty((0,300), np.float32)\n",
        "    for w in m.parse(sentence).split():\n",
        "        try:\n",
        "          wv = model[w]\n",
        "          _sv = np.append(_sv, np.array([wv]), axis=0)\n",
        "        except KeyError:\n",
        "          if w not in unknowns:\n",
        "            unknowns.append(w)\n",
        "    if _sv.shape[0]>0:\n",
        "      return np.array([np.average(_sv, axis = 0)])\n",
        "    else:\n",
        "      print('Ignore sentence', sentence)\n",
        "      return None"
      ]
    },
    {
      "cell_type": "code",
      "execution_count": null,
      "metadata": {
        "id": "kqbB3zZz4WvT",
        "colab": {
          "base_uri": "https://localhost:8080/",
          "height": 297
        },
        "outputId": "13f83cce-5c33-40aa-cbe7-c9101760a238"
      },
      "outputs": [
        {
          "output_type": "error",
          "ename": "NameError",
          "evalue": "ignored",
          "traceback": [
            "\u001b[0;31m---------------------------------------------------------------------------\u001b[0m",
            "\u001b[0;31mNameError\u001b[0m                                 Traceback (most recent call last)",
            "\u001b[0;32m<ipython-input-9-6cbbe4b291b0>\u001b[0m in \u001b[0;36m<module>\u001b[0;34m()\u001b[0m\n\u001b[0;32m----> 1\u001b[0;31m \u001b[0mprint\u001b[0m\u001b[0;34m(\u001b[0m\u001b[0msentence_vector\u001b[0m\u001b[0;34m(\u001b[0m\u001b[0;34m'レストランの予約がしたいのですが'\u001b[0m\u001b[0;34m)\u001b[0m\u001b[0;34m)\u001b[0m\u001b[0;34m\u001b[0m\u001b[0;34m\u001b[0m\u001b[0m\n\u001b[0m",
            "\u001b[0;32m<ipython-input-8-ce97ab875bd1>\u001b[0m in \u001b[0;36msentence_vector\u001b[0;34m(sentence, unknowns)\u001b[0m\n\u001b[1;32m      9\u001b[0m     \u001b[0;32mfor\u001b[0m \u001b[0mw\u001b[0m \u001b[0;32min\u001b[0m \u001b[0mm\u001b[0m\u001b[0;34m.\u001b[0m\u001b[0mparse\u001b[0m\u001b[0;34m(\u001b[0m\u001b[0msentence\u001b[0m\u001b[0;34m)\u001b[0m\u001b[0;34m.\u001b[0m\u001b[0msplit\u001b[0m\u001b[0;34m(\u001b[0m\u001b[0;34m)\u001b[0m\u001b[0;34m:\u001b[0m\u001b[0;34m\u001b[0m\u001b[0;34m\u001b[0m\u001b[0m\n\u001b[1;32m     10\u001b[0m         \u001b[0;32mtry\u001b[0m\u001b[0;34m:\u001b[0m\u001b[0;34m\u001b[0m\u001b[0;34m\u001b[0m\u001b[0m\n\u001b[0;32m---> 11\u001b[0;31m           \u001b[0mwv\u001b[0m \u001b[0;34m=\u001b[0m \u001b[0mmodel\u001b[0m\u001b[0;34m[\u001b[0m\u001b[0mw\u001b[0m\u001b[0;34m]\u001b[0m\u001b[0;34m\u001b[0m\u001b[0;34m\u001b[0m\u001b[0m\n\u001b[0m\u001b[1;32m     12\u001b[0m           \u001b[0m_sv\u001b[0m \u001b[0;34m=\u001b[0m \u001b[0mnp\u001b[0m\u001b[0;34m.\u001b[0m\u001b[0mappend\u001b[0m\u001b[0;34m(\u001b[0m\u001b[0m_sv\u001b[0m\u001b[0;34m,\u001b[0m \u001b[0mnp\u001b[0m\u001b[0;34m.\u001b[0m\u001b[0marray\u001b[0m\u001b[0;34m(\u001b[0m\u001b[0;34m[\u001b[0m\u001b[0mwv\u001b[0m\u001b[0;34m]\u001b[0m\u001b[0;34m)\u001b[0m\u001b[0;34m,\u001b[0m \u001b[0maxis\u001b[0m\u001b[0;34m=\u001b[0m\u001b[0;36m0\u001b[0m\u001b[0;34m)\u001b[0m\u001b[0;34m\u001b[0m\u001b[0;34m\u001b[0m\u001b[0m\n\u001b[1;32m     13\u001b[0m         \u001b[0;32mexcept\u001b[0m \u001b[0mKeyError\u001b[0m\u001b[0;34m:\u001b[0m\u001b[0;34m\u001b[0m\u001b[0;34m\u001b[0m\u001b[0m\n",
            "\u001b[0;31mNameError\u001b[0m: name 'model' is not defined"
          ]
        }
      ],
      "source": [
        "print(sentence_vector('レストランの予約がしたいのですが'))"
      ]
    },
    {
      "cell_type": "code",
      "execution_count": null,
      "metadata": {
        "colab": {
          "base_uri": "https://localhost:8080/",
          "height": 385
        },
        "id": "G9_3VimT4Za7",
        "outputId": "873239f7-cebe-476d-e46f-e42aeb063484"
      },
      "outputs": [
        {
          "ename": "FileNotFoundError",
          "evalue": "ignored",
          "output_type": "error",
          "traceback": [
            "\u001b[0;31m---------------------------------------------------------------------------\u001b[0m",
            "\u001b[0;31mFileNotFoundError\u001b[0m                         Traceback (most recent call last)",
            "\u001b[0;32m<ipython-input-19-b897862e0670>\u001b[0m in \u001b[0;36m<module>\u001b[0;34m()\u001b[0m\n\u001b[1;32m      4\u001b[0m \u001b[0;31m# 質問種別,質問文、の形式になっている。\u001b[0m\u001b[0;34m\u001b[0m\u001b[0;34m\u001b[0m\u001b[0;34m\u001b[0m\u001b[0m\n\u001b[1;32m      5\u001b[0m \u001b[0;31m# index_col=Falseを付けないと1列目の数字を正しく読まない\u001b[0m\u001b[0;34m\u001b[0m\u001b[0;34m\u001b[0m\u001b[0;34m\u001b[0m\u001b[0m\n\u001b[0;32m----> 6\u001b[0;31m \u001b[0mfeatures_df\u001b[0m \u001b[0;34m=\u001b[0m \u001b[0mpd\u001b[0m\u001b[0;34m.\u001b[0m\u001b[0mread_csv\u001b[0m\u001b[0;34m(\u001b[0m\u001b[0;34m'sample_corpus1.csv'\u001b[0m\u001b[0;34m,\u001b[0m\u001b[0mencoding\u001b[0m\u001b[0;34m=\u001b[0m\u001b[0;34m\"cp932\"\u001b[0m\u001b[0;34m,\u001b[0m \u001b[0mindex_col\u001b[0m\u001b[0;34m=\u001b[0m\u001b[0;32mFalse\u001b[0m\u001b[0;34m,\u001b[0m \u001b[0mdtype\u001b[0m\u001b[0;34m=\u001b[0m\u001b[0mstr\u001b[0m\u001b[0;34m)\u001b[0m\u001b[0;34m\u001b[0m\u001b[0;34m\u001b[0m\u001b[0m\n\u001b[0m\u001b[1;32m      7\u001b[0m \u001b[0mcategories\u001b[0m \u001b[0;34m=\u001b[0m \u001b[0mfeatures_df\u001b[0m\u001b[0;34m[\u001b[0m\u001b[0;34m'category'\u001b[0m\u001b[0;34m]\u001b[0m\u001b[0;34m.\u001b[0m\u001b[0mastype\u001b[0m\u001b[0;34m(\u001b[0m\u001b[0;34m'category'\u001b[0m\u001b[0;34m)\u001b[0m\u001b[0;34m.\u001b[0m\u001b[0mcat\u001b[0m\u001b[0;34m.\u001b[0m\u001b[0mcodes\u001b[0m\u001b[0;34m.\u001b[0m\u001b[0mvalues\u001b[0m\u001b[0;34m.\u001b[0m\u001b[0mtolist\u001b[0m\u001b[0;34m(\u001b[0m\u001b[0;34m)\u001b[0m\u001b[0;34m\u001b[0m\u001b[0;34m\u001b[0m\u001b[0m\n\u001b[1;32m      8\u001b[0m \u001b[0mcatnum\u001b[0m \u001b[0;34m=\u001b[0m \u001b[0mmax\u001b[0m\u001b[0;34m(\u001b[0m\u001b[0mcategories\u001b[0m\u001b[0;34m)\u001b[0m\u001b[0;34m+\u001b[0m\u001b[0;36m1\u001b[0m\u001b[0;34m\u001b[0m\u001b[0;34m\u001b[0m\u001b[0m\n",
            "\u001b[0;32m/usr/local/lib/python3.7/dist-packages/pandas/util/_decorators.py\u001b[0m in \u001b[0;36mwrapper\u001b[0;34m(*args, **kwargs)\u001b[0m\n\u001b[1;32m    309\u001b[0m                     \u001b[0mstacklevel\u001b[0m\u001b[0;34m=\u001b[0m\u001b[0mstacklevel\u001b[0m\u001b[0;34m,\u001b[0m\u001b[0;34m\u001b[0m\u001b[0;34m\u001b[0m\u001b[0m\n\u001b[1;32m    310\u001b[0m                 )\n\u001b[0;32m--> 311\u001b[0;31m             \u001b[0;32mreturn\u001b[0m \u001b[0mfunc\u001b[0m\u001b[0;34m(\u001b[0m\u001b[0;34m*\u001b[0m\u001b[0margs\u001b[0m\u001b[0;34m,\u001b[0m \u001b[0;34m**\u001b[0m\u001b[0mkwargs\u001b[0m\u001b[0;34m)\u001b[0m\u001b[0;34m\u001b[0m\u001b[0;34m\u001b[0m\u001b[0m\n\u001b[0m\u001b[1;32m    312\u001b[0m \u001b[0;34m\u001b[0m\u001b[0m\n\u001b[1;32m    313\u001b[0m         \u001b[0;32mreturn\u001b[0m \u001b[0mwrapper\u001b[0m\u001b[0;34m\u001b[0m\u001b[0;34m\u001b[0m\u001b[0m\n",
            "\u001b[0;32m/usr/local/lib/python3.7/dist-packages/pandas/io/parsers/readers.py\u001b[0m in \u001b[0;36mread_csv\u001b[0;34m(filepath_or_buffer, sep, delimiter, header, names, index_col, usecols, squeeze, prefix, mangle_dupe_cols, dtype, engine, converters, true_values, false_values, skipinitialspace, skiprows, skipfooter, nrows, na_values, keep_default_na, na_filter, verbose, skip_blank_lines, parse_dates, infer_datetime_format, keep_date_col, date_parser, dayfirst, cache_dates, iterator, chunksize, compression, thousands, decimal, lineterminator, quotechar, quoting, doublequote, escapechar, comment, encoding, encoding_errors, dialect, error_bad_lines, warn_bad_lines, on_bad_lines, delim_whitespace, low_memory, memory_map, float_precision, storage_options)\u001b[0m\n\u001b[1;32m    584\u001b[0m     \u001b[0mkwds\u001b[0m\u001b[0;34m.\u001b[0m\u001b[0mupdate\u001b[0m\u001b[0;34m(\u001b[0m\u001b[0mkwds_defaults\u001b[0m\u001b[0;34m)\u001b[0m\u001b[0;34m\u001b[0m\u001b[0;34m\u001b[0m\u001b[0m\n\u001b[1;32m    585\u001b[0m \u001b[0;34m\u001b[0m\u001b[0m\n\u001b[0;32m--> 586\u001b[0;31m     \u001b[0;32mreturn\u001b[0m \u001b[0m_read\u001b[0m\u001b[0;34m(\u001b[0m\u001b[0mfilepath_or_buffer\u001b[0m\u001b[0;34m,\u001b[0m \u001b[0mkwds\u001b[0m\u001b[0;34m)\u001b[0m\u001b[0;34m\u001b[0m\u001b[0;34m\u001b[0m\u001b[0m\n\u001b[0m\u001b[1;32m    587\u001b[0m \u001b[0;34m\u001b[0m\u001b[0m\n\u001b[1;32m    588\u001b[0m \u001b[0;34m\u001b[0m\u001b[0m\n",
            "\u001b[0;32m/usr/local/lib/python3.7/dist-packages/pandas/io/parsers/readers.py\u001b[0m in \u001b[0;36m_read\u001b[0;34m(filepath_or_buffer, kwds)\u001b[0m\n\u001b[1;32m    480\u001b[0m \u001b[0;34m\u001b[0m\u001b[0m\n\u001b[1;32m    481\u001b[0m     \u001b[0;31m# Create the parser.\u001b[0m\u001b[0;34m\u001b[0m\u001b[0;34m\u001b[0m\u001b[0;34m\u001b[0m\u001b[0m\n\u001b[0;32m--> 482\u001b[0;31m     \u001b[0mparser\u001b[0m \u001b[0;34m=\u001b[0m \u001b[0mTextFileReader\u001b[0m\u001b[0;34m(\u001b[0m\u001b[0mfilepath_or_buffer\u001b[0m\u001b[0;34m,\u001b[0m \u001b[0;34m**\u001b[0m\u001b[0mkwds\u001b[0m\u001b[0;34m)\u001b[0m\u001b[0;34m\u001b[0m\u001b[0;34m\u001b[0m\u001b[0m\n\u001b[0m\u001b[1;32m    483\u001b[0m \u001b[0;34m\u001b[0m\u001b[0m\n\u001b[1;32m    484\u001b[0m     \u001b[0;32mif\u001b[0m \u001b[0mchunksize\u001b[0m \u001b[0;32mor\u001b[0m \u001b[0miterator\u001b[0m\u001b[0;34m:\u001b[0m\u001b[0;34m\u001b[0m\u001b[0;34m\u001b[0m\u001b[0m\n",
            "\u001b[0;32m/usr/local/lib/python3.7/dist-packages/pandas/io/parsers/readers.py\u001b[0m in \u001b[0;36m__init__\u001b[0;34m(self, f, engine, **kwds)\u001b[0m\n\u001b[1;32m    809\u001b[0m             \u001b[0mself\u001b[0m\u001b[0;34m.\u001b[0m\u001b[0moptions\u001b[0m\u001b[0;34m[\u001b[0m\u001b[0;34m\"has_index_names\"\u001b[0m\u001b[0;34m]\u001b[0m \u001b[0;34m=\u001b[0m \u001b[0mkwds\u001b[0m\u001b[0;34m[\u001b[0m\u001b[0;34m\"has_index_names\"\u001b[0m\u001b[0;34m]\u001b[0m\u001b[0;34m\u001b[0m\u001b[0;34m\u001b[0m\u001b[0m\n\u001b[1;32m    810\u001b[0m \u001b[0;34m\u001b[0m\u001b[0m\n\u001b[0;32m--> 811\u001b[0;31m         \u001b[0mself\u001b[0m\u001b[0;34m.\u001b[0m\u001b[0m_engine\u001b[0m \u001b[0;34m=\u001b[0m \u001b[0mself\u001b[0m\u001b[0;34m.\u001b[0m\u001b[0m_make_engine\u001b[0m\u001b[0;34m(\u001b[0m\u001b[0mself\u001b[0m\u001b[0;34m.\u001b[0m\u001b[0mengine\u001b[0m\u001b[0;34m)\u001b[0m\u001b[0;34m\u001b[0m\u001b[0;34m\u001b[0m\u001b[0m\n\u001b[0m\u001b[1;32m    812\u001b[0m \u001b[0;34m\u001b[0m\u001b[0m\n\u001b[1;32m    813\u001b[0m     \u001b[0;32mdef\u001b[0m \u001b[0mclose\u001b[0m\u001b[0;34m(\u001b[0m\u001b[0mself\u001b[0m\u001b[0;34m)\u001b[0m\u001b[0;34m:\u001b[0m\u001b[0;34m\u001b[0m\u001b[0;34m\u001b[0m\u001b[0m\n",
            "\u001b[0;32m/usr/local/lib/python3.7/dist-packages/pandas/io/parsers/readers.py\u001b[0m in \u001b[0;36m_make_engine\u001b[0;34m(self, engine)\u001b[0m\n\u001b[1;32m   1038\u001b[0m             )\n\u001b[1;32m   1039\u001b[0m         \u001b[0;31m# error: Too many arguments for \"ParserBase\"\u001b[0m\u001b[0;34m\u001b[0m\u001b[0;34m\u001b[0m\u001b[0;34m\u001b[0m\u001b[0m\n\u001b[0;32m-> 1040\u001b[0;31m         \u001b[0;32mreturn\u001b[0m \u001b[0mmapping\u001b[0m\u001b[0;34m[\u001b[0m\u001b[0mengine\u001b[0m\u001b[0;34m]\u001b[0m\u001b[0;34m(\u001b[0m\u001b[0mself\u001b[0m\u001b[0;34m.\u001b[0m\u001b[0mf\u001b[0m\u001b[0;34m,\u001b[0m \u001b[0;34m**\u001b[0m\u001b[0mself\u001b[0m\u001b[0;34m.\u001b[0m\u001b[0moptions\u001b[0m\u001b[0;34m)\u001b[0m  \u001b[0;31m# type: ignore[call-arg]\u001b[0m\u001b[0;34m\u001b[0m\u001b[0;34m\u001b[0m\u001b[0m\n\u001b[0m\u001b[1;32m   1041\u001b[0m \u001b[0;34m\u001b[0m\u001b[0m\n\u001b[1;32m   1042\u001b[0m     \u001b[0;32mdef\u001b[0m \u001b[0m_failover_to_python\u001b[0m\u001b[0;34m(\u001b[0m\u001b[0mself\u001b[0m\u001b[0;34m)\u001b[0m\u001b[0;34m:\u001b[0m\u001b[0;34m\u001b[0m\u001b[0;34m\u001b[0m\u001b[0m\n",
            "\u001b[0;32m/usr/local/lib/python3.7/dist-packages/pandas/io/parsers/c_parser_wrapper.py\u001b[0m in \u001b[0;36m__init__\u001b[0;34m(self, src, **kwds)\u001b[0m\n\u001b[1;32m     49\u001b[0m \u001b[0;34m\u001b[0m\u001b[0m\n\u001b[1;32m     50\u001b[0m         \u001b[0;31m# open handles\u001b[0m\u001b[0;34m\u001b[0m\u001b[0;34m\u001b[0m\u001b[0;34m\u001b[0m\u001b[0m\n\u001b[0;32m---> 51\u001b[0;31m         \u001b[0mself\u001b[0m\u001b[0;34m.\u001b[0m\u001b[0m_open_handles\u001b[0m\u001b[0;34m(\u001b[0m\u001b[0msrc\u001b[0m\u001b[0;34m,\u001b[0m \u001b[0mkwds\u001b[0m\u001b[0;34m)\u001b[0m\u001b[0;34m\u001b[0m\u001b[0;34m\u001b[0m\u001b[0m\n\u001b[0m\u001b[1;32m     52\u001b[0m         \u001b[0;32massert\u001b[0m \u001b[0mself\u001b[0m\u001b[0;34m.\u001b[0m\u001b[0mhandles\u001b[0m \u001b[0;32mis\u001b[0m \u001b[0;32mnot\u001b[0m \u001b[0;32mNone\u001b[0m\u001b[0;34m\u001b[0m\u001b[0;34m\u001b[0m\u001b[0m\n\u001b[1;32m     53\u001b[0m \u001b[0;34m\u001b[0m\u001b[0m\n",
            "\u001b[0;32m/usr/local/lib/python3.7/dist-packages/pandas/io/parsers/base_parser.py\u001b[0m in \u001b[0;36m_open_handles\u001b[0;34m(self, src, kwds)\u001b[0m\n\u001b[1;32m    227\u001b[0m             \u001b[0mmemory_map\u001b[0m\u001b[0;34m=\u001b[0m\u001b[0mkwds\u001b[0m\u001b[0;34m.\u001b[0m\u001b[0mget\u001b[0m\u001b[0;34m(\u001b[0m\u001b[0;34m\"memory_map\"\u001b[0m\u001b[0;34m,\u001b[0m \u001b[0;32mFalse\u001b[0m\u001b[0;34m)\u001b[0m\u001b[0;34m,\u001b[0m\u001b[0;34m\u001b[0m\u001b[0;34m\u001b[0m\u001b[0m\n\u001b[1;32m    228\u001b[0m             \u001b[0mstorage_options\u001b[0m\u001b[0;34m=\u001b[0m\u001b[0mkwds\u001b[0m\u001b[0;34m.\u001b[0m\u001b[0mget\u001b[0m\u001b[0;34m(\u001b[0m\u001b[0;34m\"storage_options\"\u001b[0m\u001b[0;34m,\u001b[0m \u001b[0;32mNone\u001b[0m\u001b[0;34m)\u001b[0m\u001b[0;34m,\u001b[0m\u001b[0;34m\u001b[0m\u001b[0;34m\u001b[0m\u001b[0m\n\u001b[0;32m--> 229\u001b[0;31m             \u001b[0merrors\u001b[0m\u001b[0;34m=\u001b[0m\u001b[0mkwds\u001b[0m\u001b[0;34m.\u001b[0m\u001b[0mget\u001b[0m\u001b[0;34m(\u001b[0m\u001b[0;34m\"encoding_errors\"\u001b[0m\u001b[0;34m,\u001b[0m \u001b[0;34m\"strict\"\u001b[0m\u001b[0;34m)\u001b[0m\u001b[0;34m,\u001b[0m\u001b[0;34m\u001b[0m\u001b[0;34m\u001b[0m\u001b[0m\n\u001b[0m\u001b[1;32m    230\u001b[0m         )\n\u001b[1;32m    231\u001b[0m \u001b[0;34m\u001b[0m\u001b[0m\n",
            "\u001b[0;32m/usr/local/lib/python3.7/dist-packages/pandas/io/common.py\u001b[0m in \u001b[0;36mget_handle\u001b[0;34m(path_or_buf, mode, encoding, compression, memory_map, is_text, errors, storage_options)\u001b[0m\n\u001b[1;32m    705\u001b[0m                 \u001b[0mencoding\u001b[0m\u001b[0;34m=\u001b[0m\u001b[0mioargs\u001b[0m\u001b[0;34m.\u001b[0m\u001b[0mencoding\u001b[0m\u001b[0;34m,\u001b[0m\u001b[0;34m\u001b[0m\u001b[0;34m\u001b[0m\u001b[0m\n\u001b[1;32m    706\u001b[0m                 \u001b[0merrors\u001b[0m\u001b[0;34m=\u001b[0m\u001b[0merrors\u001b[0m\u001b[0;34m,\u001b[0m\u001b[0;34m\u001b[0m\u001b[0;34m\u001b[0m\u001b[0m\n\u001b[0;32m--> 707\u001b[0;31m                 \u001b[0mnewline\u001b[0m\u001b[0;34m=\u001b[0m\u001b[0;34m\"\"\u001b[0m\u001b[0;34m,\u001b[0m\u001b[0;34m\u001b[0m\u001b[0;34m\u001b[0m\u001b[0m\n\u001b[0m\u001b[1;32m    708\u001b[0m             )\n\u001b[1;32m    709\u001b[0m         \u001b[0;32melse\u001b[0m\u001b[0;34m:\u001b[0m\u001b[0;34m\u001b[0m\u001b[0;34m\u001b[0m\u001b[0m\n",
            "\u001b[0;31mFileNotFoundError\u001b[0m: [Errno 2] No such file or directory: 'sample_corpus1.csv'"
          ]
        }
      ],
      "source": [
        "import pandas as pd\n",
        "\n",
        "# 質問リストのCSVを読み込む。\n",
        "# 質問種別,質問文、の形式になっている。\n",
        "# index_col=Falseを付けないと1列目の数字を正しく読まない\n",
        "features_df = pd.read_csv('sample_corpus1.csv',encoding=\"cp932\", index_col=False, dtype=str)\n",
        "categories = features_df['category'].astype('category').cat.codes.values.tolist()\n",
        "catnum = max(categories)+1\n",
        "print('corpus size:',features_df['input'].size)\n",
        "print('categories:',catnum)\n",
        "\n",
        "# 質問リストの先頭を表示\n",
        "print(features_df.head())\n",
        "\n",
        "# すべての質問文に対して文章ベクトルを求める\n",
        "unknowns = []\n",
        "sv = np.empty((0,300), np.float32)\n",
        "for sentence in features_df['input']:\n",
        "    _sv = sentence_vector(sentence, unknowns)\n",
        "    if _sv is not None:\n",
        "      sv = np.append(sv, np.array([np.average(_sv, axis = 0)]), axis=0)\n",
        "print('unknown words:',unknowns)\n",
        "print('vector size:',sv.shape)"
      ]
    },
    {
      "cell_type": "code",
      "execution_count": null,
      "metadata": {
        "colab": {
          "base_uri": "https://localhost:8080/",
          "height": 626
        },
        "id": "DBiJc4e6XBri",
        "outputId": "12c2ab57-92dc-4af9-9fa5-5c56375c4f23"
      },
      "outputs": [
        {
          "name": "stdout",
          "output_type": "stream",
          "text": [
            "reduced vector size: (257, 2)\n"
          ]
        },
        {
          "data": {
            "text/plain": [
              "<matplotlib.collections.PathCollection at 0x7f4f7f7a6ad0>"
            ]
          },
          "execution_count": 34,
          "metadata": {},
          "output_type": "execute_result"
        },
        {
          "data": {
            "image/png": "[encoded data removed]",
            "text/plain": [
              "<Figure size 720x720 with 1 Axes>"
            ]
          },
          "metadata": {},
          "output_type": "display_data"
        }
      ],
      "source": [
        "from sklearn.manifold import TSNE\n",
        "import matplotlib.cm as cm\n",
        "\n",
        "sv_tsne = TSNE(n_components=2, random_state=0).fit_transform(sv)\n",
        "print('reduced vector size:',sv_tsne.shape)\n",
        "\n",
        "# 先頭から10カテゴリまで色付け、それ以外は黒でプロット。\n",
        "colors = [cm.hsv(i/10) if i < 10 else (0,0,0,1) for i in categories]\n",
        "#colors = [cm.hsv(i/10) for i in categories]\n",
        "plt.figure(figsize=(10, 10))\n",
        "plt.scatter(sv_tsne[:, 0], sv_tsne[:, 1], c=colors)"
      ]
    },
    {
      "cell_type": "markdown",
      "metadata": {
        "id": "W2a-32k8aIQG"
      },
      "source": [
        "## FastTextの学習検討"
      ]
    },
    {
      "cell_type": "code",
      "execution_count": 2,
      "metadata": {
        "colab": {
          "base_uri": "https://localhost:8080/"
        },
        "id": "_Vw9q0EhXrVg",
        "outputId": "0b7cf1f1-7e87-4f5f-a14c-36f2b3219449"
      },
      "outputs": [
        {
          "output_type": "stream",
          "name": "stdout",
          "text": [
            "Successfully installed fasttext-0.9.2 pybind11-2.9.1\n"
          ]
        }
      ],
      "source": [
        "#パッケージのインストール\n",
        "!pip install fasttext | tail -n 1"
      ]
    },
    {
      "cell_type": "code",
      "execution_count": 11,
      "metadata": {
        "id": "G0gRdqkvX5v0"
      },
      "outputs": [],
      "source": [
        "# 分かち書きの文章準備\n",
        "with open(\"./drive/MyDrive/Classification.txt\", encoding=\"utf-8\") as f:\n",
        "  data = f.readlines()\n",
        "\n",
        "# 今回は文章だけを抽出\n",
        "text_list = []\n",
        "for idx in range(len(data)):\n",
        "  data_list = data[idx].split(\"\\t\")\n",
        "  #text = data_list[1].replace(\"\\n\",\"\")\n",
        "  text = m.parse(data_list[1])\n",
        "  text_list.append(text)"
      ]
    },
    {
      "cell_type": "code",
      "source": [
        "import os\n",
        "os.listdir()"
      ],
      "metadata": {
        "colab": {
          "base_uri": "https://localhost:8080/"
        },
        "id": "sAQWgqd7DitC",
        "outputId": "a88bf6f5-8453-47e1-ee12-1abf3303387d"
      },
      "execution_count": 8,
      "outputs": [
        {
          "output_type": "execute_result",
          "data": {
            "text/plain": [
              "['.config', 'drive', 'mecab-ipadic-neologd', 'sample_data']"
            ]
          },
          "metadata": {},
          "execution_count": 8
        }
      ]
    },
    {
      "cell_type": "code",
      "execution_count": 10,
      "metadata": {
        "id": "YnLZl4rSeg-q",
        "colab": {
          "base_uri": "https://localhost:8080/",
          "height": 190
        },
        "outputId": "d0b2e09c-30cb-487f-dcc9-d1512a9f63c0"
      },
      "outputs": [
        {
          "output_type": "error",
          "ename": "FileExistsError",
          "evalue": "ignored",
          "traceback": [
            "\u001b[0;31m---------------------------------------------------------------------------\u001b[0m",
            "\u001b[0;31mFileExistsError\u001b[0m                           Traceback (most recent call last)",
            "\u001b[0;32m<ipython-input-10-a2ae56744da1>\u001b[0m in \u001b[0;36m<module>\u001b[0;34m()\u001b[0m\n\u001b[0;32m----> 1\u001b[0;31m \u001b[0;32mwith\u001b[0m \u001b[0mopen\u001b[0m\u001b[0;34m(\u001b[0m\u001b[0;34m\"./drive/MyDrive/wakati_Classification.txt\"\u001b[0m\u001b[0;34m,\u001b[0m \u001b[0;34m\"x\"\u001b[0m\u001b[0;34m,\u001b[0m \u001b[0mencoding\u001b[0m\u001b[0;34m=\u001b[0m\u001b[0;34m\"utf-8\"\u001b[0m\u001b[0;34m)\u001b[0m \u001b[0;32mas\u001b[0m \u001b[0mf\u001b[0m\u001b[0;34m:\u001b[0m\u001b[0;34m\u001b[0m\u001b[0;34m\u001b[0m\u001b[0m\n\u001b[0m\u001b[1;32m      2\u001b[0m   \u001b[0mf\u001b[0m\u001b[0;34m.\u001b[0m\u001b[0mwritelines\u001b[0m\u001b[0;34m(\u001b[0m\u001b[0mtext_list\u001b[0m\u001b[0;34m)\u001b[0m\u001b[0;34m\u001b[0m\u001b[0;34m\u001b[0m\u001b[0m\n",
            "\u001b[0;31mFileExistsError\u001b[0m: [Errno 17] File exists: './drive/MyDrive/wakati_Classification.txt'"
          ]
        }
      ],
      "source": [
        "with open(\"./drive/MyDrive/wakati_Classification.txt\", \"x\", encoding=\"utf-8\") as f:\n",
        "  f.writelines(text_list)"
      ]
    },
    {
      "cell_type": "code",
      "execution_count": 12,
      "metadata": {
        "id": "wU2jBSghfObm"
      },
      "outputs": [],
      "source": [
        "# 動作確認\n",
        "import fasttext\n",
        "model_ft = fasttext.train_unsupervised('./drive/MyDrive/wakati_Classification.txt', model='skipgram')"
      ]
    },
    {
      "cell_type": "markdown",
      "metadata": {
        "id": "jjTgvNKB8h50"
      },
      "source": [
        "色々な記事を見る限り、ハイパラでかなりベクトルが変わるっぽい<br>\n",
        "```\n",
        "The following arguments for the dictionary are optional:\n",
        "  -minCount           minimal number of word occurrences [1]\n",
        "  -minCountLabel      minimal number of label occurrences [0]\n",
        "  -wordNgrams         max length of word ngram [1]\n",
        "  -bucket             number of buckets [2000000]\n",
        "  -minn               min length of char ngram [0]\n",
        "  -maxn               max length of char ngram [0]\n",
        "  -t                  sampling threshold [0.0001]\n",
        "  -label              labels prefix [__label__]\n",
        "\n",
        "The following arguments for training are optional:\n",
        "  -lr                 learning rate [0.1]\n",
        "  -lrUpdateRate       change the rate of updates for the learning rate [100]\n",
        "  -dim                size of word vectors [100]\n",
        "  -ws                 size of the context window [5]\n",
        "  -epoch              number of epochs [5]\n",
        "  -neg                number of negatives sampled [5]\n",
        "  -loss               loss function {ns, hs, softmax} [softmax]\n",
        "  -thread             number of threads [12]\n",
        "  -pretrainedVectors  pretrained word vectors for supervised learning []\n",
        "  -saveOutput         whether output params should be saved [0]\n",
        "\n",
        "The following arguments for quantization are optional:\n",
        "  -cutoff             number of words and ngrams to retain [0]\n",
        "  -retrain            finetune embeddings if a cutoff is applied [0]\n",
        "  -qnorm              quantizing the norm separately [0]\n",
        "  -qout               quantizing the classifier [0]\n",
        "  -dsub               size of each sub-vector [2]\n",
        "```\n",
        "\n"
      ]
    },
    {
      "cell_type": "code",
      "execution_count": 13,
      "metadata": {
        "colab": {
          "base_uri": "https://localhost:8080/"
        },
        "id": "Xnwhz40RgIdy",
        "outputId": "25e4bee7-f71c-4667-cead-87e0779ccad9"
      },
      "outputs": [
        {
          "output_type": "stream",
          "name": "stdout",
          "text": [
            "2391\n",
            "(100,)\n"
          ]
        }
      ],
      "source": [
        "print(len(model_ft.words))   # vocab数\n",
        "print(model_ft['有機'].shape)   # 100次元"
      ]
    },
    {
      "cell_type": "code",
      "execution_count": 17,
      "metadata": {
        "id": "SfKqNqb9gWmX"
      },
      "outputs": [],
      "source": [
        "model_ft.save_model(\"test_model.bin\")   # save_modelに対応しているのは.binだけ"
      ]
    },
    {
      "cell_type": "code",
      "execution_count": 18,
      "metadata": {
        "colab": {
          "base_uri": "https://localhost:8080/"
        },
        "id": "UZLBOCpfvND5",
        "outputId": "6c4c9462-56aa-4a01-b74a-18c51d762991"
      },
      "outputs": [
        {
          "output_type": "stream",
          "name": "stderr",
          "text": [
            "Warning : `load_model` does not return WordVectorModel or SupervisedModel any more, but a `FastText` object which is very similar.\n"
          ]
        }
      ],
      "source": [
        "from fasttext import load_model\n",
        "\n",
        "# original BIN model loading\n",
        "f = load_model(\"test_model.bin\")\n",
        "\n",
        "# get all words from model\n",
        "words = f.get_words()\n",
        "\n",
        "# binからのvecファイル作成\n",
        "with open('./drive/MyDrive/test_fasttext.vec','w', encoding=\"utf-8\") as file_out:\n",
        "    # the first line must contain number of total words and vector dimension\n",
        "    file_out.write(str(len(words)) + \" \" + str(f.get_dimension()) + \"\\n\")\n",
        "    # line by line, you append vectors to VEC file\n",
        "    for w in words:\n",
        "        v = f.get_word_vector(w)\n",
        "        vstr = \"\"\n",
        "        for vi in v:\n",
        "            vstr += \" \" + str(vi)\n",
        "        try:\n",
        "            file_out.write(w + vstr+'\\n')\n",
        "        except:\n",
        "            pass"
      ]
    },
    {
      "cell_type": "code",
      "execution_count": 14,
      "metadata": {
        "colab": {
          "base_uri": "https://localhost:8080/"
        },
        "id": "tqRtVqhtyrBU",
        "outputId": "e4b2d5cc-fe37-45c2-f9c3-6a6e864c1780"
      },
      "outputs": [
        {
          "output_type": "execute_result",
          "data": {
            "text/plain": [
              "array([-0.2307631 ,  0.48616007,  0.07909437,  0.27160865,  0.5513428 ,\n",
              "        0.33643183,  0.14443454, -0.14305763,  0.4291587 ,  0.2265924 ,\n",
              "        0.25130743,  0.49449974,  0.3395594 , -0.2310876 , -0.34252554,\n",
              "       -0.21994925, -0.02105968, -0.2609067 , -0.13290991, -0.17853916,\n",
              "       -0.09475432,  0.26901558,  0.57578444,  0.06363399, -0.05231218,\n",
              "        0.32009643,  0.29915708, -0.24263121,  0.06527887,  0.17349814,\n",
              "       -0.04869232, -0.3882302 , -0.05664854, -0.1567582 , -0.33545876,\n",
              "       -0.48236114,  0.2029171 , -0.02290487, -0.13318653,  0.0105214 ,\n",
              "       -0.01744312,  0.11146604, -0.11659017,  0.1461581 ,  0.4415756 ,\n",
              "       -0.2991585 , -0.03221069, -0.11805682, -0.4914365 , -0.18963744,\n",
              "       -0.28267518,  0.05663749, -0.5116369 ,  0.13559352, -0.81729144,\n",
              "        0.20796913, -0.2160092 ,  0.11624551, -0.09322718,  0.03232428,\n",
              "       -0.23828712, -0.11785129,  0.10440815,  0.6642458 , -0.03712737,\n",
              "        0.1575549 , -0.3023479 ,  0.22212513,  0.21773072, -0.00388849,\n",
              "       -0.27494463, -0.0944299 ,  0.07394831, -0.10327755, -0.43257844,\n",
              "       -0.05471988,  0.07733856, -0.14924607,  0.34411284,  0.02728726,\n",
              "        0.02768002, -0.43976718, -0.53352964, -0.62277037,  0.15891057,\n",
              "        0.1633614 , -0.2300568 , -0.11959839, -0.25168315,  0.15837625,\n",
              "        0.30270374, -0.20522651, -0.02038419,  0.25637382, -0.18236512,\n",
              "       -0.58564407,  0.32956088,  0.14972764, -0.43778467,  0.08267219],\n",
              "      dtype=float32)"
            ]
          },
          "metadata": {},
          "execution_count": 14
        }
      ],
      "source": [
        "# 元のモデルの分散表現\n",
        "model_ft['有機']"
      ]
    },
    {
      "cell_type": "markdown",
      "metadata": {
        "id": "mKahS0zP2rGw"
      },
      "source": [
        "注意！<br>\n",
        "fasttextのモデルだと訓練時に使用していない単語もベクトル化する<br>\n",
        "サブワード分割して単語がある限りは、分割したサブワードの合計を出力する<br>\n",
        "元のモデルで「有機EL」をベクトルに出来てもgensimでは出来なかったから判明<br>\n",
        "この機能で派生語などに対応している"
      ]
    },
    {
      "cell_type": "code",
      "execution_count": 19,
      "metadata": {
        "colab": {
          "base_uri": "https://localhost:8080/"
        },
        "id": "Blo0hxnDzeUv",
        "outputId": "ca7c18c7-0030-4b1e-ec1d-c911f3b8d03f"
      },
      "outputs": [
        {
          "output_type": "execute_result",
          "data": {
            "text/plain": [
              "True"
            ]
          },
          "metadata": {},
          "execution_count": 19
        }
      ],
      "source": [
        "import gensim\n",
        "# fastTextで作成したモデルをgensimで読み込んで出力した分散表現\n",
        "model_path = './drive/MyDrive/test_fasttext.vec'\n",
        "model_tf2 = gensim.models.KeyedVectors.load_word2vec_format(model_path, binary=False)\n",
        "all(model_tf2['有機'] == model_ft['有機'])"
      ]
    },
    {
      "cell_type": "markdown",
      "source": [
        "## 学習したFastTextモデルで可視化"
      ],
      "metadata": {
        "id": "JrQ9bKmPFn_v"
      }
    },
    {
      "cell_type": "code",
      "source": [
        "# 入力文章を分かち書きにして、各単語のベクトルを格納\n",
        "def sentence_vector(sentence, unknowns=[]):\n",
        "    m=MeCab.Tagger('-Owakati')\n",
        "    _sv = np.empty((0,100), np.float32)\n",
        "    for w in m.parse(sentence).split():  # 文章中の各単語のベクトルを格納\n",
        "        try:\n",
        "          wv = model_tf2[w]\n",
        "          _sv = np.append(_sv, np.array([wv]), axis=0)\n",
        "        except KeyError:\n",
        "          if w not in unknowns:\n",
        "            unknowns.append(w)\n",
        "    if _sv.shape[0]>0:\n",
        "      return np.array([np.average(_sv, axis = 0)])  # 各次元の平均を取って文章ベクトルとする\n",
        "    else:\n",
        "      print('Ignore sentence', sentence)   # もし全て未知語なら何もしない\n",
        "      return None"
      ],
      "metadata": {
        "id": "zmLXPgo4HcCO"
      },
      "execution_count": 20,
      "outputs": []
    },
    {
      "cell_type": "code",
      "source": [
        "import pandas as pd\n",
        "\n",
        "with open(\"./drive/MyDrive/Classification.txt\", encoding=\"utf-8\") as f:\n",
        "  data = f.readlines()\n",
        "\n",
        "# 今回は文章だけを抽出\n",
        "text_list = []\n",
        "label_list = []\n",
        "for idx in range(len(data)):\n",
        "  data_list = data[idx].split(\"\\t\")\n",
        "  text = data_list[1].replace(\"\\n\",\"\")\n",
        "  label = data_list[0]\n",
        "  text_list.append(text)\n",
        "  label_list.append(label)\n",
        "text_df = pd.DataFrame({\"text\":text_list, \"label\":label_list})\n",
        "categories = text_df['label'].astype('category').cat.codes.values.tolist()\n",
        "catnum = max(categories)+1\n",
        "print('corpus size:',text_df['text'].size)\n",
        "print('categories:',catnum)"
      ],
      "metadata": {
        "colab": {
          "base_uri": "https://localhost:8080/"
        },
        "id": "a5ZMB-irFEMh",
        "outputId": "0d808132-6e91-44ae-877d-4e04590e39ca"
      },
      "execution_count": 21,
      "outputs": [
        {
          "output_type": "stream",
          "name": "stdout",
          "text": [
            "corpus size: 4264\n",
            "categories: 7\n"
          ]
        }
      ]
    },
    {
      "cell_type": "code",
      "source": [
        "import numpy as np\n",
        "# すべての質問文に対して文章ベクトルを求める\n",
        "unknowns = []\n",
        "sv = np.empty((0,100), np.float32)\n",
        "for sentence in text_df['text']:\n",
        "    _sv = sentence_vector(sentence, unknowns)\n",
        "    if _sv is not None:\n",
        "      sv = np.append(sv, np.array([np.average(_sv, axis = 0)]), axis=0)\n",
        "print('unknown words:',unknowns)\n",
        "print('vector size:',sv.shape)"
      ],
      "metadata": {
        "colab": {
          "base_uri": "https://localhost:8080/"
        },
        "id": "zDZgcPdtPHYw",
        "outputId": "f5b268d5-d90d-4bff-cdfe-ef24496c80cb"
      },
      "execution_count": 24,
      "outputs": [
        {
          "output_type": "stream",
          "name": "stdout",
          "text": [
            "unknown words: ['フェナントロリン', 'ＮＢｐｈｅｎ', '刃', 'ＤＢｑ', '叉', '強める', 'フォトエレクトロニクスデバイス', '≦（', '該微', 'Ｖｓｓ', 'Ｖｃａｔ', 'Ｖａｎｏ', '環状', '谷', '山側', '傾向', 'リング', '指', '学', '超え', '該曲', '向かい合う', '板の間', '各回', '短期間', '同時', 'ｕ', 'り', 'Ｑ２', '帯域', 'はずれる', 'なかなか', '戻ら', 'はずれ', '戻す', '折り畳ん', 'カバーフィルム', 'にわたって', '離隔', 'クライオポンプ', '排気', '指紋', '兼ね備え', '検討', '引っ張り', '可変', '重心', '最小', '｜', '発し', '受', 'ベンゾナフトフラニル', 'アン', 'トリル', 'ｋＰａ', 'ＬＰＳＡＳ', 'ベンゾフロピリダジン', 'いい', '－［', '’’－（', '’’－', 'テルフェニル', 'ジメチル', 'ｏＹＧＴＢｉＦ', '回廊', 'ＩＮ', 'ＯＵＴ', '過多', '本明', '細書', '該熱', '描く', 'アシスト', '硬度', '狭い', '空け', 'Ｈｅｔ', '価', 'メタフェニレン', '分析計', 'ソースドレイン', '入れ換える', 'ナフトフロピラジン', 'ジピバロイルメタナト', '向ける', '近赤外線', '近', 'ほか', 'ランタン', 'きわめて', '禁制', '境', '向い', '隔て', '磁気', '折りたたん', '磁力', '希少', 'ＲＧＢＹ', '向かい合い', 'インターフェース', '平方根', 'ロール', '巻か', 'とる', '引き出さ', '強く', '各層', '枠組み', 'アミノピレン', 'B', '110', '加わり', 'つながる', '招き', 'パワー', '向う', '途中', '閉じ込め', '高まる', 'キャンセル', 'リチウム', '体積', '可塑', '外装', '圧する', 'その間', '折れ曲がっ', 'ポリイミド', 'ＬＣ', 'ＭＳ', '反り', 'テスト', 'パストランジスタロジック', '検証', '不透明', '内容', '使い分ける', '多彩', '実施', '請求', '分解能', '遮ら', '揃っ', '該側', '洗浄', '解明', '不明', '未だ', '明らか', '可逆', '開い', 'アニオン', '飛行', '顔', '感情', '推定', '眼鏡', '収縮', '陰', '通し', '挙動', 'いえ', '５つ', '両端', '在', '面する', '薄暗い', 'インド', 'ロ', '優れる', '新しい', '的確', 'ダマシンプロセス', 'Ｅｃ', 'エネルギーアクセプター', 'もより', '投入', 'ヒューマンインターフェイス', '畳み', '亜', 'ふたつ', 'サブスレッショルドスイング', 'ぞ', '直行', 'トルエン', '置き換える', '防犯', '立証', '保全', '把持', '網', '暴漢', 'キナゾリン', '五員複素芳香環残基', 'カルベン', '該炭', '単発', '間欠', 'マイコン', 'ステンレス', '鋼', 'ジュラルミン', 'くっきり', 'どの', 'ストライプ', '選ん', '入り', 'くん', 'タブレット', 'ハンドヘルドゲーム', '片手', '持ち', 'ニュース', '読ん', 'カップ', 'ハンドヘルド', 'ゲーム', '両手', 'つかみ', '快適', 'グリップ', '縞', '理論', '蓄光', '蓄えれ', '徐', '冷', '至ら', '囲わ', '簡素', 'ウェアラブルデバイス', 'さまざま', '外観', 'ゲル', 'ゴム', '変位', 'マイクロクリスタルシリコン', 'レイヤー', '少し', 'タイプ', '階段', 'ブランキング', 'すべて', '巨視的', '長距離', '秩序', 'ジアゾ', '経由', 'オルト', 'オルトジハロゲン', 'アリールハロゲン', '外し', '外れ', 'を通じて', 'Ｓｋ', 'ＧＧｊ', 'ＧＢｊ', 'なれ', '通さ', '除い', '通す', '高けれ', '埋め込む', '追従', '面部', 'Ｓｎａ', 'Ｓｎｂ', 'Ｓｎｃ', '高品', 'それでいて', 'ラック', 'ピニオン', '動かす', '片', '許容', 'シングル', '合っ', '伸び', 'レチクル', 'ｍＡ', 'ピクセル', '書き込ん', 'そのまま', 'おく', 'マグネシウム', 'おこなわ', '淡い', '彩', '流動', '清浄', '残さ', 'カッター', 'み', '楕円', '手間', '省ける', 'アラルキル', '団', '子中', 'デクスター', '一元', '一元系酸化物半導体層上', 'Ｙｎ', '引き出す', '一角', '牽引', '開', '車内', '美観', '吊り', '下げ', '折り返し', '切れ目', '取り出せる', '傾斜', '交わる', '該平', '下ろし', '垂線', '足', '交点', '行え', '問わ', 'オーバー', 'コート', '迫り出す', 'モノ', '‐', 'トリ', '滞り', 'にあたって', '誤操作', '命令', '°＜', 'アップ', 'Ｍｎ', 'Ｎｉ', 'Ｃｏ', '遠ざけ', 'フレキシブルプリントサーキット', 'ノー', 'マリオン', '摺', '一次元', '輝', 'アンチモン', '最小限', 'マザー', '大量', '三角', '六角形', '当', '該透', '関わら', '一様', '圧着', '硬', '硬い', 'ジベンゾチオフェニレン', 'ジベンゾフラニレン', 'イミダゾ', '乏', 'パラジウム', '該被', '自身', 'そろえ', 'そろえる', 'まず', '無い', 'なし', '広がり', 'ねじれ', 'クアテルフェニレン', 'クアテルフェニル', '’’’－', 'ジベンゾベンゾフロキノキサリン', 'ジベンゾベンゾチエノキノキサリン', 'ハロゲノ', 'ヒドロキシ', '写真', '出す', '貫く', 'ふくむ', '切れ', 'なけれ', '共用', 'ハーフ', 'ＴＡＤＦ', '介する', 'ナフトビスベンゾフラン', 'ナフトビスベンゾチオフェン', 'ナフトベンゾフラノベンゾチオフェン', '日本工業規格', 'ＪＩＳ', '室内', '相関', '最上', '右端', '左端', 'お', 'よ', 'ＩｎＭＺｎＯｘ', 'ＩｎＭ', 'ＸＭ', 'Ｇｅ', 'Ｖｋ', 'ＴＦＴＴｒ', 'ＳＬ', 'モル', '吸光', '105', '108', 'ロジウム', '縦', '折りたたま', '思い', '至っ', '凹曲', '重み', '乗算', '合せ', '合せる', '押し', 'ＳＯＭＯ', '人工', '知能', '推論', '認知', 'ともなう', '瞬時', 'デュアル', 'モザイク', 'ＣＩＥ', '強め', 'あう', '柔軟', 'ベンゾフロキノキサリン', 'ベンゾチエノキノキサリン', '/', '蓄熱', '該基', 'しわ', '均', '耐える', 'リフレッシュ', 'フリッカー', 'クロマトグラフィー', 'アレイ', '分類', '属性', '揃う', 'δ', 'ＩｎｘＧａｙＯ', 'ビスベンゾフラン', 'ビスベンゾチオフェン', 'ら', '見かけ', 'フェナントレニル', 'ピリミジル', 'ジベンゾキノキサリニル', 'ベンゾイミダゾリル', 'ベンゾオキサゾリル', '番号', 'スタティック', 'はかる', '注視', '解析', '理想', 'ｇｍ', 'イネーブル', 'ロウ', 'ハイ', '誘起', 'ＭｎＸ', 'ペロブスカイト', '水蒸気', 'ｄａｙ', '豊か', '楽しめる', 'ｐｐｉ', '傾き', '立ち上がる', '上流', '下流', 'ＳＬｂ', 'ＳＬａ', '総数', 'シリサイド', '搬送波', '移', '考慮', '線路', 'シリアル', '本数', 'ベンゾフロピラジン', 'ベンゾチエノピラジン', 'ナフチレン', 'ターフェニル', 'ｅｔｃｈｅｄＥｘｐｏｎｅｎｔｉａｌＦｕｎｃｔｉｏｎ', 'ＳｉｎｇｌｅＥｘｐｏｎｅｎｔｉａｌＦｕｎｃｔｉｏｎ', '別言', 'フィッティング', 'ルール', '制約', '粒状', 'またがる', 'インク', 'ビカルバゾール', 'Ｆ１', 'アクリル', '切断', '析出', '一貫', '上辺', '下辺', '取り込む', 'トランスコンダクタンスアンプ', 'σ', 'フルオレニルジアリールアミン', 'ジフェニルアミン', '休止', 'センシング', '書き換える', 'ＩＤＳ', '割り当てる', '回避', '続く', '測光', 'トリアジン', 'トリフルオロメタンスルホン', '塩', '屋内', '海上', '場所', '生体', '暖め', 'やけど', 'させ', '該発', '身体', '内蔵', '発信', '皮膚', '自動', 'パターニング', 'リソグラフィ', 'サーバ', '衝突', '浪費', 'ゼロ', '生命', '存否', 'かかわる', '事態', '通話', 'メール', '連絡', '非常時', '臨時', '分ける', '行為', 'ロード', 'モノマー', '骨子', '嵌', '前駆', '曝し', 'アイドリング', '延長', 'セレクタ', 'エラー', '稼動', '比重', '泳動', '補う', '屋外', '望ま', 'いま', '印象', '包含', '想定', 'コンピュータ', '始点', '終点', '実数', 'ソフトウェア', 'ハードウェア', 'ユーザ', '要素', 'ホワイト', 'ＭＢ', '濃淡', '汎用', 'Ｌｏｆｆ', 'すぎる', '望め', '径', '正に', '反発', '軽く', '路上', 'オキシジフタル', '遮蔽', 'ＰＬＤ', 'コンフィギュレーションデータ', 'ガンマ', '映る', '加速度', '好み', 'にとって', '映す', 'ミ', 'アンダ', '並び', '替える', '替え', 'パラレル', '読み取る', '取付け', '時針', '分針', '秒針', 'チャンバー', '二酸化炭素', '比率', '保ち', '入れ替える', '加わる', '大小', 'もと', '手順', 'あらゆる', '℃）', '下限', 'Ｘ線', 'ジベンゾキナゾリン', '双極', 'モーメント', '仮定', 'ポインタ', '一体化', '混色', '依ら', '露', '該凸', '自動的', '計測', 'デジタルビデオデータ', '読む', '閲覧', '延伸', '結ん', 'しかしながら', '当然', 'ＥＧ', 'ｅｍ', 'ＥＥｘ', '送る', '細', '阻害', '使わ', '常温', '呈さ', '導出', '取り外さ', '何れ', 'メートル', '頻度', '分かれ', '縁', 'シクロメタル', 'ストッパー', 'ポリ', '受動', '偏り', '区間', 'I', ')。', 'Ｖth', '上回っ', 'II', '貯まっ', 'やがて', 'III', '表', 'タンタル', '基本', 'ＶＳＳ', 'ＶＳ', 'とおり', '遠ざける', 'ジグザグ', '斜め', '右', '左上', '左下', '現在', 'ある程度', 'ホールド', 'ヘ', 'テロ', '除', '長期間', 'Ｖｔｈ', 'ＩＣＰ', '1300', '1400', '1212', '1130', '1230', 'なくし', 'いろいろ', '改良', '蛇行', '並べる', '曲がり', '椅子', 'ソファ', '家具', '現れ', 'ゾルーゲル', 'ハプティックコントローラー', '緻密', '気', '棒状', '昇圧', '六', '雑音', 'ＳＮＲ', '－）', '（－）', '要', '判定', 'ピリジニル', 'ベンゾイミダゾ', 'チオフェン', 'ピロール', '強制', 'クリア', '無関係', 'スタンバイ', '一時', 'ＢＧＲ', '希釈', '水溶液', 'ｍｉｎ', '顔料', '過', '連なっ', 'エッジセンシティブラッチ', '親和', '五員環芳香族複素環', 'ペンタフルオロスルファニル', 'すそ', '単に', '本質', 'フォトン', 'ハイレベル', '指向', '進む', '桁', '速やか', '下図', '暴露', 'コバルト', '奇数', '偶数', '着眼', 'ウルツ', '鉱', 'コランダム', '監視', '起電', 'ベンゾトリフェニレン', 'ピリドインドール', 'キャビティ', '演色', 'エキシプレックス', 'ベンゾナフトフラニルアミン', 'データベース', '登録', '視点', '保っ', 'ビスカルバゾリル', '点数', 'コンバータ', '該電', '流', 'セトリング', '捉える', '後で', '濡れる', '既存', '非金属', '例', '示', '混雑', '左', '昇順', '剥がれる', '転換', '貼る', '送り', '噴射', '励', 'ベンゾフロピリジル', 'ベンゾチエノピリジル', '該犠', '牲層', '組み合せ', '合わ', '一括', 'セット', 'ビフェニレン', '作り', 'アリールアルキル', 'ピリミド', 'インドール', '損なう', 'トランジタ', 'プローブ', '陽', '動き', '渡り', '一部分', 'ヘリウム', 'ネオン', 'クリプトン', 'キセノン', '向かい合わ', 'おら', 'サーミスタアレイ', 'サーミスタ', '中断', '降', 'サスティン', '取り囲む', '追求', '官能', 'コネクター', 'ＴＡＢ', 'TapeAutomatedBonding', 'テープ', 'ＴＣＰ', 'TapeCarrierPackage', 'ＣＯＧ', 'ChipOnGlass', 'インライン', 'ｎｓ', 'ハロゲンドープ', 'お互い', '一因', '不純', 'さらす', '142', '152', 'ケトン', '’－（', 'ビピリミジン', '伴わ', '別に', '塞ぐ', '広がる', '該面', 'ソースフォロワ', '適度', 'ノルボルニル', 'ラジカルアニオン', '遊離', '積算', '減らさ', '配さ', '一旦', 'ＶＨＦ', 'ダイナミックロジック', 'ロジック', 'Ｓｅ', '該閾', '厚み', 'もちい', '施さ', '直接的', 'アライメント', 'メリット', 'Ｐｈ', '母', '該導', '直後', 'フェニルピラジン', '有る', '隣', '該六', 'トリシクロ', 'デカニル', 'アダマンチル', 'ホモ', '同軸', 'アキシャル', '物体', '引き起こし', 'ダーク', 'マップ', 'データセット', '割り込み', '関連付け', '…', '多数', '歪', 'クロロアリール', '精製', '投影', '112', '鋭角', 'ｍｅＶ', '始まっ', 'ゆっくり', '行く', '反る', '製', 'Ｕ', '拭き取る', '弊害', '危険', '展', '扱う', 'ＯＳ', 'テトラセン', 'ルブレン', '立ち上がり', '立ち', '下がり', 'セルフアライン', '応用', '介在', 'ＯＨ', '助長', '囲み', '起こす', '収まる', '公知', '明確', 'インキュベーション', '消灯', '万', '遍', '出', 'ランプ', 'ｃｄ', 'トリフェニルピラジナイト', 'ＩＩＩ', 'イットリウム', '陰性', 'ボロ', 'Ｍｇ', 'Ｃａ', '小さ', '利点', 'ナフタレンー', 'ーイル', 'ＮＢＰｈｅｎ', '向かい合っ', 'マグネット', '通る', '磁場', '其', '該回', '原料', 'メチル', 'エチル', 'ヒータ', '傾ける', '狭め', 'ガイド', '飛び出す', 'ジアリール', 'ピラジルトリフラート', 'トリアリールピラジン', '複', 'ジスピロ', 'アリールー', 'ピラジニル', 'ピリミジニル', 'キノリニル', 'イソキノリニル', 'キナゾリニル', '触れ', '種々', 'ブロモコハク', 'イミド', 'ＮＢＳ', 'ヨードコハク', 'ＮＩＳ', 'カリウム', '分光', '消失', '403', '404', '408', '確度', '保証', '避け', 'まとめ', 'エリア', '脱着', 'Ｇ７', '直', '枝', 'アルキルチオ', 'ロールシート', '出さ', '張力', 'ジベンゾキノキサリン', 'ビジベンゾフラン', 'ビジベンゾチオフェン', '難く', '°；', '内角', '°±', 'ピラー', '「', '」', 'トップゲートボトムコンタクト', '実', ',', 'A', '取り除い', '取り除き', '離さ', 'レアメタル', '丸み', '帯び', '132', '136', '138', '122', '126', '一可撓性基板上', 'フォトレジスト', '不明瞭', 'カレント', 'ジメチルフェニル', '～＋', '該一', '近づく', 'につれて', 'ＰＷＢ', '箔', '図れる', '勝る', '析', '渣', '映り', '該筐', 'イソキノリン', 'アルコキシフェニルピラジン', 'ＳｉＯ', '193', '遠い', '肉', '肉薄', 'モアレ', '景色', 'コレステリック', 'ＰＤＬＣ', 'ＰＮＬＣ', '該樹', '脂', 'エポキシ', 'バリウム', 'ゼオライト', '型式', '後段', '区分', '見込める', '読込み', '真っ直ぐ', '取り除く', '表側', '弱める', 'エピタキシャル成長', '470', '405', '409', '740', 'c', 'd', 'メトキシ', '滲む', '見える', '弁別', '求める', '割る', '偏差', '離散', 'シールド', '増強', '粗', '基づき', '競合', 'ＮＡＮＤ', '三つ', '耐久', '耐衝', '撃層', 'キノ', 'Ｂｉ', 'ｉｏｎｓ', 'ＴｏＦ', 'ＳＩＭＳ', 'シグナル', '表れる', '置き換え', '主として', '不規則', '合い', '凹み', '知覚', '内在', '絵素', '記録', '焼', '結', '該上', 'ＩｎＭＯ', '鉄', 'マンガン', 'ｏ', '開放', 'エア', 'ハンドリング', 'くびれ', 'ハング', '噴出', 'ならっ', '対策', 'そう', '入ら', '不十分', '遠ざかる', '活用', 'Ｔｉｎ', '幾何', '角錐', '６つ', '多方向', 'ＲＧＢＷ', 'び', '進める', '結ぶ', '該封', 'ひいては', 'アニール', '挟み込む', 'いわゆる', '重る', '望ましく', '役割', '適時', 'フェナントリル', '微妙', '乱反射', '起こる', 'プルアップトランジスタ', '仕切り', '弁', '重ね合わさ', 'クリーニングモード', 'ピラジンハライド', 'アリールピラジン', 'アリールハライド', 'エステル', 'ボリル', 'Ｈｉｇｈ', 'Ｌｏｗ', 'トリアリールアントラセン', '該信', '号', 'クティブマトリクス', '共存', 'ＧＮＤ', '持っ', 'スクライブ', 'きっかけ', 'つくっ', 'ゆく', 'ＩｒＬ', 'ｓｐ', '混成', '座', 'にかけて', 'ピリジルピリミジン', '窒', '拘', '速め', '波打っ', '延びる', '肉眼', 'ナノインプリント', '細線', '半数', '言い換え', 'たとえば', 'かかり', '望ましい', '離脱', '過大', 'クリーニング', '隔離', 'カットオフ', 'チャネルドープ', 'ウォール', 'テトラヒドロキノキサリン', 'P', '打ち', '終わり', 'オーバーラップ', '主要', '融', '該表', 'Ｌｏｖ', '安全', 'メンテナンス', '防', 'ＧＲＴＡ', '精密', '減り', '134', '147', 'ともなっ', 'ＣＭＯＳ', 'なくなり', '無くす', '片方', '増える', '拡げる', '頂点', '補填', '再度', '見越し', 'アレーン', 'エッジ', '粘性', '封じ込める', '豊富', 'シャープ', '富ん', '最長', '半分', '隣合っ', '対し', '用いれ', 'Ｒａ', '冷却', 'トリアゾ', 'ル', 'テトラヒドロ', 'フラットパネルディスプレイ', 'しか', '製品', '原価', 'どう', '費用', 'はかれる', '無くせ', 'フリット', 'ひび', '併存', '眼', '作り出す', '作り出さ', 'こん', '多値', 'でる', '越える', 'あらかじめ', '圧し', 'アリ', 'レーン', 'Ｃｌ', 'ＢＣｌ', 'ＳｉＣｌ', '以降', '記号', 'テキスト', '漫画', 'ピクチャー', '灯下', '太陽光', 'ＬＲＴＡ', 'アリールトリアジン', '低けれ', '現状', '充分', '言い', 'おい', '有', '受電', '送電', '吸蔵', '剥がし', 'こう', '変質', '張り合わさ', '異種', '挟み込み', '粉末', '融合', 'フラッシュ', '破れ', '外気', '弱い', '傾け', '障害', '剥き出し', '閉じ', 'きれ', '合わせれ', 'ホット', '正方形', '電解', '口径', '凹む', 'やすかっ', '太', '空洞', '克服', '白光', '速成', '繋げ', '揃え', 'アシロキシ', '常', '溶合', '取り囲み', '適当', '因っ', '回り込み', '回り', 'こみ', 'プレーナ', '高低', 'ひさし', 'ついで', 'プラグ', '課程', '阻止', '蝕', 'ＰＴＣＴｈｅｒｍｉｎｔｏｒ', '束', '気泡', '内包', '媒質', '直径', 'メガヘルツレーザビーム', 'ＬＤ', '片側', '非対称', '冗長', 'セグメント', '成型', 'ペレット', '併用', '分の', 'プレス', 'ボード', '差し込ん', '予備', '放射光', '細く', 'しみ', '出し', '早く', '解消', '本意', '前面', '防い', 'わずか', 'おこし', '図っ', 'たら', '上がる', '別個', '節電', '多少', '擬制', '満たし', '移行', '修繕', 'あまり', '界', '閉塞', '内面', 'マイナスフレネルレンズ', '密接', 'フレネルレンズ', '交換', '及ぼさ', '別途', '品種', '放射状', '公転', '自転', '向かう', 'ともに', '半球', '該高', '該低', '球状', 'パ', 'ターニング', 'ＣＦ', 'ＳｉＯＸ', '多量', 'じん性', '明るい', '遮っ', '周り', '描画', '入っ', 'シーケンシャル', '切替', '接線', '決まる', '重水', '重水素', '選定', '多重', '奇', '損ね', '占め', '缶', '代用', '後に', '細長い', '終端', '積み重なっ', '積み重なり', 'Ｏｕｔ', '確定', 'ＶｔｈＮ', '働き', 'ＳＰ', 'Ｌｏ', 'スポーツ', '用品', '遊技', 'トレーニング', '発電', '電送', '前もって', 'おおむね', '該正', 'スティックドライバ', '併せ', '見込ん', 'Ｖds', 'Ｖgs', 'ＶTh', 'しまっ', '臨界', '要し', 'シュウ', '弱酸', '最下', 'ＧａＯｘ', 'パルススパッタ', 'ジアミン', 'ＦｒＡＰｒｎ', 'ＴｈＡＰｒｎ', 'フタロシアニン', 'ダウン', 'タイム', '仕様', 'いかなる', '倍率', 'いまだ', '千', '止まっ', '微量', '流出', 'にわたり', '落ち', '二乗', '頻繁', '電球', 'システムオンパネル', 'セミ', '解放', 'マスクホルダ', 'ポンプ', '含める', 'キンク', '起こら', 'アクティブ', 'にとり', 'とっ', '立像', 'のも', '映し出す', '図り', '規模', '価格', '終え', '強', '磁性', 'メモリー', '軟質', '粉', '磁', '引き込み', '弱', '読み込ん', 'シャワー', '通っ', '作業', 'マルチチャンバー', '逸脱', '少量', '実効', 'わけ', 'ロス', 'lang', '=', 'EN', '-', 'US', '>', 'FET', '矢印', 'トータル', '完了', '針', '該針', '切り換え', '基体', '円柱', '円錐', '角柱', 'ドナードープ', '全く', '観点', '微粉', '末', '発揮', 'パーティクル', 'す', '本件', '固', '相', '一辺', '潜在', '異物', '光る', '異常', '好ましかっ', 'トレードオフ', '折', 'そこ', '計り', '破断', 'ペンダント', 'アルコキシド', 'ゾル', '調製', '単なる', 'ことなる', '特長', '生かし', '手法', '徹底的', 'リペア', '直前', '予防', '開け', '補っ', 'ゲルマニウム', '半減', 'べき', 'ポテンシャル', '組合せ', 'はく離', 'ニオブ', '9', '属', '10', '色素', 'Ｐｙ', '無機物', 'あい', '余分', 'ピコリナト', '該物', '滴下', 'リフロー', '≠', '圧層', '見いだし', 'アセナフトピリジン', 'ｅｔ', 'キノリル', 'アセナフトキノキサリン', '受け取り', 'アリールアントラセン', 'ヨードアントラセン', 'アミド', 'ベース', 'ＣＭＰ', 'ぼやけ', '疑似', 'インパルス', '昇降', 'ページ', 'めくり', '使い', '始める', '切り', '替わり', '違和感', 'ちらつき', 'アミンユニット', 'はめ込ま', 'に関し', 'グロー', '並置', '管', '壁面', '載', '置', '通り', 'バイポーラトランジスタ', 'リファレンス', '用意', 'さらし', '電場', 'ルミネッセンス', '装填', '高まっ', 'プレート', '粘', '又', '最低限', '見出す', 'ビフルオレン', 'シロキサン', 'ウェット', '懸', '濁', '十', '百', '隣合う', 'キャップ', '球面', 'シリンドリカルレンズ', 'ラテラル', '乱', '乱れる', '相違', 'スジ', '有線', 'ケーブル', 'ＳＲＡＭ', 'ＳｔａｔｉｃＲａｎｄｏｍＡｃｃｅｓｓＭｅｍｏｒｙ', '蓄える', '被膜', '頂', '等間隔', '底辺', '亀裂', 'プロファイル', '加水', '経る', '濡れ', 'ｓａｍ', 'ＣＫＢ', '半周', '期', '下がる', 'ＶＩＤＥＯ', 'ジフェニルアミノフェニル', 'ＴＰＡＰＱ', '11', '）～', 'メタ', 'パラ', '4', 'ＭＨｚ', 'ガウス', '際し', 'アリールカルバゾール', '吸', '汚', '溶', '伸ばす', 'カウント', 'カウンタ', 'ズレ', 'ＴＥＧ', '管理', '流せる', '中位', 'バイナリ', 'よる', '遙', '切り替わる', 'につき', '前半', '後半', '落とし', 'つくる', '該対', '両方向', 'クロスニコル', 'ニコル', '書き込も', '保た', '重い', 'イソプロピル', 'フルオロ', '原', '偏向', '焦点', '曝さ', 'バソフェナントロリン', 'スピロフルオレン', 'ノート', 'ＰＣ', '正しい', '表わす', '焼き付き', '坩堝', 'セラミックス', '線上', '波状', 'ＢＭ', 'カバレージ', 'ジメチルホルムアミド', 'ＤＭＦ', 'フェロセン', 'ｖ', 'Ｆｃ', '予測', '都度', '落とす', 'たる', 'スリミング', '正規', '浮き', '伝播', '失う', '該材', 'しかも', 'ビスフェニル', '時分', '割', 'たび', '調法', '足し', 'トリフェニルアミン', 'ベンジジン', '両極', '由来', '弱め', '妨げ', '増', 'アントラセンアリールテトラミン', '兼ねる', 'エージング', 'オリゴナフタレン', '0', 'ｅｘｐ', '目指す', 'イン', 'バーター', 'アニリン', 'Ｐｄ', 'なだらか', '実情', '数式', '挿電', 'ゴースト', 'よば', 'テレビジョン', 'ＧＷＥ', 'ＰＷＣ', '選択肢', '6', 'アルケニル', 'ハーフキャリ', '乗じ', '´－', 'ジフェニルベンジジン', '均等', '総和', '流さ', 'バイパス', '詰まり', 'フタ', '蛇腹', 'よれ', '冷え', '胴', '詰まる', '7', '5', '12', '8', 'ＣａＦ', 'ＭｇＦ', 'ＢａＦ', '一周', 'ウィンドウ', '引き起こさ', '液状', '延ばし', '個所', 'きる', '前者', '後者', '該当', '中間色', '固有', 'くる', 'ところで', '何らかの', 'コーティング', '伝わり', '防げる', '人為', '妨げる', '眼球', '小規模', '変型', 'MOS', 'コントロール', '格段', 'チャネルコンダクタンス', 'ｇｄ', 'ピラン', '急速', '達し', '捉え', 'トンネル', 'アルキルアリールアミノ', 'バラツ', 'ポリシリコントランジスタ', '切り換える', '独', '該溶', '各面', '兼ね', '流せ', 'ディプリーション', 'しかし', '使う', 'Ｖｄｓ', 'ｗ', '％～', 'ｗｔ', 'オレンジ', '本体', 'Ｔｈｉｎｆｉｌｍｔｒａｎｓｉｓｔｏｒ', 'ＬＤＤ', 'ピンチオフ', 'プロセスチャンバー', '頭部', '顔面', '荷重', '虚像', '写す', 'ひとつ', '往復', '先立っ', '次段', '下降', '避ける', 'クローズド', 'フィラー', '待た', '平ら', 'オーダー', 'ね', '招い', 'すぐれ', '載せ', '本来', 'クリーニンク', '゛', '欠点', 'ＲＦ', 'あわせる', '槽', '飛ぶ', '画期的', '注', '入電', 'クロム', '鉛', 'ＴｉＮ', 'ＴａＮ', 'コモン', 'わるく', '組み合わせる', 'ＶGS', '期待', 'L', 'W', '|', 'VDS', 'V', 'VGS', 'Vth', 'nm', 'cm', '□', '込む', '考え', '該膜', '減じ', '書', '込', 'ものの', 'ＧＰＵ', 'o', 'w', 'e', 's', 't', 'U', 'noccupiedMolecularOrbital', '拘わら', '仮に', 'ゲート・ドレイン', '本願', 'ＥL', 'ＣＰＵ', 'Ａｌ', 'ＡｌXＮY', 'C', 'h', 'emicalMechanicalPolishing', 'づつ', '組み込ま', '四方', 'さい', 'かける', 'Ｌｉ', 'Ｎａ', 'ＡｌＭｇ', 'ＭｇＡｇ', '集合', 'せよ', '弾', 'Ｉｄ', 'ＰＶＡ', 'ポリビニルアルコール', '拭い', '改', '比例', '見合っ', '502', '504', '507', '505', '508', '506', '保有', 'ないしは', 'ごく', '僅か', 'ＤＬＣ', 'ＡｌＮ', '包装', '促す', 'メッキ', '引き回さ', '406', '407', '光沢', 'ＩDS', 'ＶDS', 'おけ', '正比例', 'EL', 'バルク', 'インターネット', '送受信', '数字', '特殊', '普通', '漢字', '日本語', 'パーソナルコンピュータ', 'ますます', '数種類', 'ＧＯＬＤ', 'バラつき', 'づらく', 'づらい', 'はり合わ', 'センサー', '段数', '余裕', '貢献', '高圧', '流体', '吹き', '崩壊', '石英', 'ブラック', 'デート', '閉じ込める', 'スピンコータ', '相成', 'ｐｐｂ', '殆ど', '已', 'ベンゾカルバゾール', 'トリベンゾカルバゾール', '取り込ん', 'ＨＤＲ', 'アップコンバート', '取出し', 'つなぎ目', '発す', 'るまた', '溶出', '離し', '対比', '見やすく', 'つける', '合し', 'ハード', 'タッチセンサー', 'すき', 'ま', 'しみこむ', 'ＯＨＨＯ', '遠く', '促進', 'ドラム', '貼っ', 'シリル', 'アルキレン', 'カルボニル', '光っ', '離す', 'パッシブ', '上がり', '縦横', '嵩張る', '切り出し', '出荷', '切り出す', '品', '呼べる']\n",
            "vector size: (4264, 100)\n"
          ]
        }
      ]
    },
    {
      "cell_type": "code",
      "source": [
        "from sklearn.manifold import TSNE\n",
        "import matplotlib.cm as cm\n",
        "import matplotlib.pyplot as plt\n",
        "\n",
        "sv_tsne = TSNE(n_components=2, random_state=0).fit_transform(sv)\n",
        "print('reduced vector size:',sv_tsne.shape)\n",
        "\n",
        "plt.figure(figsize=(10, 10))\n",
        "plt.scatter(sv_tsne[:, 0], sv_tsne[:, 1], c=categories, alpha=0.7)\n",
        "plt.colorbar()\n",
        "plt.show()"
      ],
      "metadata": {
        "colab": {
          "base_uri": "https://localhost:8080/",
          "height": 705
        },
        "id": "1aB33fR0NAii",
        "outputId": "209baf3c-bc79-4ee4-cb81-5a230f6f161a"
      },
      "execution_count": 25,
      "outputs": [
        {
          "output_type": "stream",
          "name": "stderr",
          "text": [
            "/usr/local/lib/python3.7/dist-packages/sklearn/manifold/_t_sne.py:783: FutureWarning: The default initialization in TSNE will change from 'random' to 'pca' in 1.2.\n",
            "  FutureWarning,\n",
            "/usr/local/lib/python3.7/dist-packages/sklearn/manifold/_t_sne.py:793: FutureWarning: The default learning rate in TSNE will change from 200.0 to 'auto' in 1.2.\n",
            "  FutureWarning,\n"
          ]
        },
        {
          "output_type": "stream",
          "name": "stdout",
          "text": [
            "reduced vector size: (4264, 2)\n"
          ]
        },
        {
          "output_type": "display_data",
          "data": {
            "image/png": "[encoded data removed]",
            "text/plain": [
              "<Figure size 720x720 with 2 Axes>"
            ]
          },
          "metadata": {
            "needs_background": "light"
          }
        }
      ]
    },
    {
      "cell_type": "code",
      "source": [
        "# 分かち書きの文章準備\n",
        "with open(\"./drive/MyDrive/Classification.txt\", encoding=\"utf-8\") as f:\n",
        "  data = f.readlines()\n",
        "\n",
        "# 今回はラベルだけを抽出\n",
        "lab_list = []\n",
        "for idx in range(len(data)):\n",
        "  data_list = data[idx].split(\"\\t\")\n",
        "  label = data_list[0]\n",
        "  #text = m.parse(data_list[1])\n",
        "  lab_list.append(label)"
      ],
      "metadata": {
        "id": "-dMfj-TxC3Vc"
      },
      "execution_count": 26,
      "outputs": []
    },
    {
      "cell_type": "code",
      "source": [
        "plot_lab = [\"T\"]\n",
        "plot_idx = [main_df.index[main_df[\"label\"] == i].tolist() for i in plot_lab]\n",
        "\n",
        "for lab, idx in zip(plot_lab, plot_idx):\n",
        "    xx = [x[i] for i in idx]\n",
        "    yy = [y[i] for i in idx]\n",
        "    plt.scatter(xx, yy, label = \"Target\", marker=\"*\", color=\"red\", s=150, alpha=1)\n",
        "    \n",
        "plot_lab = [\"AA\", \"A\", \"B\", \"C\", \"D\"]\n",
        "plot_idx = [main_df.index[main_df[\"label\"] == i].tolist() for i in plot_lab]\n",
        "\n",
        "for lab, idx in zip(plot_lab, plot_idx):\n",
        "    xx = [x[i] for i in idx]\n",
        "    yy = [y[i] for i in idx]\n",
        "    plt.scatter(xx, yy, label = lab, s=20, alpha=0.4)\n",
        "\n",
        "plot_lab = [\"Z\", \"nan\"]\n",
        "plot_idx = [main_df.index[main_df[\"label\"] == i].tolist() for i in plot_lab]\n",
        "\n",
        "for lab, idx in zip(plot_lab, plot_idx):\n",
        "    xx = [x[i] for i in idx]\n",
        "    yy = [y[i] for i in idx]\n",
        "    plt.scatter(xx, yy, label = lab, s=5, alpha=0.2)\n",
        "\n",
        "plt.legend(bbox_to_anchor=(1.05,1))\n",
        "plt.xlim(-8,8)\n",
        "plt.ylim(-8,8)\n",
        "plt.xlabel(\"PC1\")\n",
        "plt.ylabel(\"PC2\")\n",
        "plt.title(\"Abstract Emb by Word2vec\")\n",
        "plt.show()"
      ],
      "metadata": {
        "id": "jObFOS8mEcz2"
      },
      "execution_count": null,
      "outputs": []
    },
    {
      "cell_type": "code",
      "source": [
        "lab_list.index[lab_list ==\"AA\"]"
      ],
      "metadata": {
        "colab": {
          "base_uri": "https://localhost:8080/",
          "height": 172
        },
        "id": "6mmLysE3DLkA",
        "outputId": "be85030e-5ac2-40e2-acf7-6e32678a200d"
      },
      "execution_count": 29,
      "outputs": [
        {
          "output_type": "error",
          "ename": "TypeError",
          "evalue": "ignored",
          "traceback": [
            "\u001b[0;31m---------------------------------------------------------------------------\u001b[0m",
            "\u001b[0;31mTypeError\u001b[0m                                 Traceback (most recent call last)",
            "\u001b[0;32m<ipython-input-29-4e9bf05b5b4a>\u001b[0m in \u001b[0;36m<module>\u001b[0;34m()\u001b[0m\n\u001b[0;32m----> 1\u001b[0;31m \u001b[0mlab_list\u001b[0m\u001b[0;34m.\u001b[0m\u001b[0mindex\u001b[0m\u001b[0;34m[\u001b[0m\u001b[0mlab_list\u001b[0m \u001b[0;34m==\u001b[0m\u001b[0;34m\"AA\"\u001b[0m\u001b[0;34m]\u001b[0m\u001b[0;34m\u001b[0m\u001b[0;34m\u001b[0m\u001b[0m\n\u001b[0m",
            "\u001b[0;31mTypeError\u001b[0m: 'builtin_function_or_method' object is not subscriptable"
          ]
        }
      ]
    },
    {
      "cell_type": "markdown",
      "metadata": {
        "id": "8oIYv3tu6NQz"
      },
      "source": [
        "MeCabじゃなくてもいい？<br>\n",
        "Sentencepieceとかで分かち書きにして学習させるのもあり？<br>\n",
        "sentencepieceで単語分割して出てきた頻出単語(長めの単語)をMecabに追加するとか？"
      ]
    },
    {
      "cell_type": "markdown",
      "metadata": {
        "id": "2zUSN6GJ84dg"
      },
      "source": [
        "MeCabに追加するのはかなり面倒そう<br>\n",
        "スコアとか品詞とかが要る<br>\n",
        "huggingfaceの追加を検討"
      ]
    },
    {
      "cell_type": "markdown",
      "metadata": {
        "id": "ekLjPb6L9z0v"
      },
      "source": [
        "# 独自の辞書の作成について"
      ]
    },
    {
      "cell_type": "markdown",
      "metadata": {
        "id": "Ldfhai6h95V6"
      },
      "source": [
        "## SentencePieceモデルの作成"
      ]
    },
    {
      "cell_type": "code",
      "execution_count": null,
      "metadata": {
        "colab": {
          "base_uri": "https://localhost:8080/"
        },
        "id": "qqlnAnzd6Trn",
        "outputId": "3e3b92b6-116e-4d41-dbc8-c3467af6ffbf"
      },
      "outputs": [
        {
          "output_type": "stream",
          "name": "stdout",
          "text": [
            "Successfully installed sentencepiece-0.1.96\n"
          ]
        }
      ],
      "source": [
        "!pip install sentencepiece | tail -n 1"
      ]
    },
    {
      "cell_type": "code",
      "execution_count": null,
      "metadata": {
        "id": "G8A3REbXHLVK"
      },
      "outputs": [],
      "source": [
        "import sentencepiece as spm\n",
        "\n",
        "# 学習用の文章準備\n",
        "with open(\"./drive/MyDrive/Classification.txt\", encoding=\"utf-8\") as f:\n",
        "  data = f.readlines()\n",
        "\n",
        "# 今回は文章だけを抽出\n",
        "text_list = []\n",
        "for idx in range(len(data)):\n",
        "  data_list = data[idx].split(\"\\t\")\n",
        "  text = data_list[1]\n",
        "  text_list.append(text)\n",
        "\n",
        "#with open(\"./drive/MyDrive/sentences.txt\", \"x\", encoding=\"utf-8\") as f:\n",
        "#  f.writelines(text_list)\n",
        "# vocab_sizeはdefault=8000だけどfastTextのsizeが2400くらいなので2000まで削減\n",
        "spm.SentencePieceTrainer.Train(\n",
        "    '--input=./drive/MyDrive/sentences.txt, --model_prefix=./drive/MyDrive/sentencepiece_2000 --character_coverage=0.9995 --vocab_size=2000 --pad_id=3'\n",
        ")"
      ]
    },
    {
      "cell_type": "code",
      "execution_count": null,
      "metadata": {
        "colab": {
          "base_uri": "https://localhost:8080/"
        },
        "id": "kAruSXlRHWJi",
        "outputId": "54f566d3-79d6-4524-f621-a3466888907b"
      },
      "outputs": [
        {
          "output_type": "execute_result",
          "data": {
            "text/plain": [
              "True"
            ]
          },
          "metadata": {},
          "execution_count": 88
        }
      ],
      "source": [
        "sp = spm.SentencePieceProcessor()\n",
        "sp.Load(\"./drive/MyDrive/sentencepiece_2000.model\")"
      ]
    },
    {
      "cell_type": "code",
      "execution_count": null,
      "metadata": {
        "colab": {
          "base_uri": "https://localhost:8080/",
          "height": 89
        },
        "id": "4Lk8mSw5IX43",
        "outputId": "d1ad8083-6357-4b2a-ded3-ca5b6ad4528b"
      },
      "outputs": [
        {
          "output_type": "execute_result",
          "data": {
            "application/vnd.google.colaboratory.intrinsic+json": {
              "type": "string"
            },
            "text/plain": [
              "'非発光時に背面側の様子を観察可能な発光装置、照明装置、または表示装置などを提供する。複数の発光部を有し、発光部以外の領域は、可視光を透過する領域を有する発光装置である。または、複数の可視光を透過する透光部を有し、透光部以外の領域に、発光することが可能な発光部を有する発光装置である。非発光時には、可視光を透過する領域を介して発光装置の背面側の様子を視認することができる。また、発光時には、発光部から発せられた光の拡散により、発光装置の背面側の様子を視認しにくくすることが可能である。\\n'"
            ]
          },
          "metadata": {},
          "execution_count": 89
        }
      ],
      "source": [
        "text_list[0]"
      ]
    },
    {
      "cell_type": "code",
      "execution_count": null,
      "metadata": {
        "colab": {
          "base_uri": "https://localhost:8080/"
        },
        "id": "RAC_OedCLINP",
        "outputId": "717aed39-0a5d-4700-c9fe-d6e383fca2ad"
      },
      "outputs": [
        {
          "output_type": "stream",
          "name": "stdout",
          "text": [
            "['▁', '非', '発光', '時', 'に', '背', '面', '側', 'の', '様', '子', 'を', '観', '察', '可能な', '発光装置', '、', '照明装置', '、', 'または', '表示装置', 'など', 'を提供する', '。', '複数の', '発光', '部', 'を有し', '、', '発光', '部', '以外', 'の領域は', '、', '可視光', 'を', '透過', 'する', '領域を有する', '発光装置', 'である', '。', 'または', '、', '複数の', '可視光', 'を', '透過', 'する', '透', '光', '部', 'を有し', '、', '透', '光', '部', '以外', 'の', '領域に', '、', '発光する', 'ことが可能な', '発光', '部', 'を有する発光装置', 'である', '。', '非', '発光', '時', 'には', '、', '可視光', 'を', '透過', 'する', '領域', 'を介して', '発光装置', 'の', '背', '面', '側', 'の', '様', '子', 'を', '視', '認', 'することができる', '。', 'また', '、', '発光', '時', 'には', '、', '発光', '部', 'から', '発', 'せ', 'られ', 'た', '光', 'の', '拡', '散', 'により', '、', '発光装置', 'の', '背', '面', '側', 'の', '様', '子', 'を', '視', '認', 'し', 'に', 'く', 'く', 'すること', 'が可能で', 'ある', '。']\n"
          ]
        }
      ],
      "source": [
        "print(sp.EncodeAsPieces(text_list[0]))"
      ]
    },
    {
      "cell_type": "code",
      "execution_count": null,
      "metadata": {
        "colab": {
          "base_uri": "https://localhost:8080/"
        },
        "id": "Rqw7kP37LNqn",
        "outputId": "639c9ea8-bf3f-4733-a384-354dc51ec1e1"
      },
      "outputs": [
        {
          "output_type": "stream",
          "name": "stdout",
          "text": [
            "語彙数: 2000\n"
          ]
        }
      ],
      "source": [
        "print(\"語彙数:\", sp.GetPieceSize())"
      ]
    },
    {
      "cell_type": "markdown",
      "source": [
        "## SentencePieceモデルからのVocab取り出し"
      ],
      "metadata": {
        "id": "vpHt43E3Yy3S"
      }
    },
    {
      "cell_type": "code",
      "execution_count": null,
      "metadata": {
        "colab": {
          "base_uri": "https://localhost:8080/"
        },
        "id": "aoh-EjaOXIsq",
        "outputId": "927d48bb-ee34-4617-c859-738dad0052c6"
      },
      "outputs": [
        {
          "output_type": "stream",
          "name": "stdout",
          "text": [
            "['<unk>', '<s>', '</s>', '<pad>', 'の', '、', '。', '第', '1', '2', 'と', 'を', 'は', 'に', 'が', 'する', '▁', '3', 'を有する', 'し']\n"
          ]
        }
      ],
      "source": [
        "# sentencepieceからのvocab取り出し\n",
        "vocabs = [sp.IdToPiece(id) for id in range(sp.GetPieceSize())]\n",
        "print(vocabs[:20])"
      ]
    },
    {
      "cell_type": "code",
      "execution_count": null,
      "metadata": {
        "colab": {
          "base_uri": "https://localhost:8080/"
        },
        "id": "jCnAsYkxZxJG",
        "outputId": "90ec49a1-abf7-47eb-a14e-67a0fe9cde71"
      },
      "outputs": [
        {
          "output_type": "stream",
          "name": "stdout",
          "text": [
            "['▁酸化物半導体を用いた半導体装置', '発光効率の高い発光素子を提供する', '利便性または信頼性に優れた新規な', '信頼性の高い半導体装置を提供する', '発光効率が高い発光素子を提供する', '発光装置および電子機器を提供する', 'ソース電極層及びドレイン電極層', 'トランジスタを有する半導体装置', '信頼性の高い発光装置を提供する', '寿命の長い発光素子を提供する', '▁外部量子効率が高い発光素子', '燐光性化合物の吸収スペクトル', 'を提供することを課題とする', 'ソース電極及びドレイン電極', '安定した電気的特性を付与し', '発光性の有機化合物を含む層', 'ソース領域及びドレイン領域', 'エレクトロルミネッセンス層', '置換もしくは無置換の炭素数', 'を提供することを課題の一']\n"
          ]
        }
      ],
      "source": [
        "sorted_vocab = sorted(vocabs, key=len, reverse=True)\n",
        "print(sorted_vocab[:20])\n",
        "# 各特許に共通する長い表現が多い"
      ]
    },
    {
      "cell_type": "code",
      "execution_count": null,
      "metadata": {
        "id": "j4BbP55ob34z",
        "colab": {
          "base_uri": "https://localhost:8080/"
        },
        "outputId": "75d4b9b7-8551-4ba2-99fb-726670574f53"
      },
      "outputs": [
        {
          "output_type": "stream",
          "name": "stdout",
          "text": [
            "['</s>', 'を有する', '発光素子', 'において', '発光装置', 'を形成し', '表示装置', 'を介して', 'を用いて', '半導体層']\n"
          ]
        }
      ],
      "source": [
        "pick_vocab = [voc for voc in sorted_vocab if len(voc) == 4]\n",
        "print(pick_vocab[:10]) # 文字数指定だと要らない表現も多い？"
      ]
    },
    {
      "cell_type": "code",
      "execution_count": null,
      "metadata": {
        "id": "eJAiPKwxceQv"
      },
      "outputs": [],
      "source": [
        "import time\n",
        "import sys\n",
        "from itertools import chain\n",
        "from collections import defaultdict, Counter\n",
        "from multiprocessing import Pool\n",
        "from functools import partial\n",
        "from math import log\n",
        "from torch.nn.utils.rnn import pad_sequence"
      ]
    },
    {
      "cell_type": "code",
      "execution_count": null,
      "metadata": {
        "id": "tYe23HqTfFPq"
      },
      "outputs": [],
      "source": [
        "def spm_process(sent):\n",
        "    return sp.EncodeAsPieces(sent)\n",
        "\n",
        "def spm_counter(text, nthreads=2):\n",
        "    vocab_counter = Counter()\n",
        "    with Pool(nthreads) as p:   # 並列処理\n",
        "        vocab_counter.update(chain.from_iterable(p.map(spm_process, text)))  # 与えたコーパスのtokenの出現頻度を計算\n",
        "    return vocab_counter"
      ]
    },
    {
      "cell_type": "code",
      "execution_count": null,
      "metadata": {
        "id": "IrGTz4tmhL-M"
      },
      "outputs": [],
      "source": [
        "vocab_counter = spm_counter(text_list)"
      ]
    },
    {
      "cell_type": "code",
      "execution_count": null,
      "metadata": {
        "colab": {
          "base_uri": "https://localhost:8080/"
        },
        "id": "P-6hGfUmhTEp",
        "outputId": "4012b937-0daa-40f2-a02c-238c860da01d"
      },
      "outputs": [
        {
          "output_type": "stream",
          "name": "stdout",
          "text": [
            "[('において', 1415), ('前記', 1401), ('を含む', 1372), ('酸化物半導体層', 1342), ('な', 1328), ('ス', 1326), ('4', 1294), ('化', 1251), ('した', 1247), ('光', 1237), ('ッ', 1209), ('である', 1192), ('性', 1190), ('ル', 1186), ('た', 1174), ('材料', 1137), ('薄膜トランジスタ', 1112), ('から', 1111), ('上に', 1100), ('部', 1068), ('を提供する', 1064), ('酸化物半導体膜', 1045), ('トランジスタ', 1033), ('とする', 1025), ('の電極', 1023), ('発光装置', 1021), ('して', 1020), ('素子', 1008), ('膜', 1003), ('用', 1000), ('された', 987), ('EL', 965), ('該', 965), ('を形成し', 958), ('を形成する', 937), ('基板', 910), ('領域', 907), ('ク', 883), ('5', 883), ('および', 880)]\n",
            "filter前: 2190 , filter後 753\n"
          ]
        },
        {
          "output_type": "execute_result",
          "data": {
            "text/plain": [
              "[('を有する', 2901),\n",
              " ('発光素子', 2278),\n",
              " ('を有し', 1999),\n",
              " ('または', 1677),\n",
              " ('において', 1415),\n",
              " ('を含む', 1372),\n",
              " ('酸化物半導体層', 1342),\n",
              " ('である', 1192),\n",
              " ('薄膜トランジスタ', 1112),\n",
              " ('を提供する', 1064),\n",
              " ('酸化物半導体膜', 1045),\n",
              " ('トランジスタ', 1033),\n",
              " ('とする', 1025),\n",
              " ('の電極', 1023),\n",
              " ('発光装置', 1021),\n",
              " ('された', 987),\n",
              " ('を形成し', 958),\n",
              " ('を形成する', 937),\n",
              " ('および', 880),\n",
              " ('として', 852),\n",
              " ('表示装置', 845),\n",
              " ('ことができる', 825),\n",
              " ('及び第', 808),\n",
              " ('される', 757),\n",
              " ('半導体装置', 746),\n",
              " ('前記第', 726),\n",
              " ('複数の', 673),\n",
              " ('よりも', 635),\n",
              " ('のトランジスタ', 620),\n",
              " ('の基板', 585)]"
            ]
          },
          "metadata": {},
          "execution_count": 100
        }
      ],
      "source": [
        "# counterを出現頻度順に並び替え\n",
        "print(vocab_counter.most_common()[30:70])  # 結構色々な表現がある　前記第～　とかの数値表現どうする？\n",
        "# 3文字以上を試しに抽出\n",
        "counter_list = [count for count in vocab_counter.most_common() if len(count[0]) >= 3]\n",
        "print(\"filter前:\", len(vocab_counter), \", filter後\", len(counter_list))\n",
        "counter_list[:30]  # いい感じかな？"
      ]
    },
    {
      "cell_type": "markdown",
      "metadata": {
        "id": "ezDv9L_SkBhY"
      },
      "source": [
        "## 得られた語彙をtokenizerに追加"
      ]
    },
    {
      "cell_type": "code",
      "execution_count": null,
      "metadata": {
        "colab": {
          "base_uri": "https://localhost:8080/"
        },
        "id": "hMiKoX2JLh4E",
        "outputId": "4a72e2f7-8757-4c9f-cfaf-998852ae05b5"
      },
      "outputs": [
        {
          "output_type": "stream",
          "name": "stdout",
          "text": [
            "Successfully installed huggingface-hub-0.4.0 pyyaml-6.0 sacremoses-0.0.47 tokenizers-0.11.4 transformers-4.16.2\n",
            "Successfully installed fugashi-1.1.1\n",
            "Successfully installed ipadic-1.0.0\n"
          ]
        }
      ],
      "source": [
        "!pip install transformers | tail -n 1\n",
        "!pip install fugashi | tail -n 1\n",
        "!pip install ipadic | tail -n 1"
      ]
    },
    {
      "cell_type": "code",
      "execution_count": null,
      "metadata": {
        "colab": {
          "base_uri": "https://localhost:8080/",
          "height": 151,
          "referenced_widgets": [
            "9aa61f14d4e94848a7dfa821fb8524c8",
            "4b5b5569320043d1905054805beb592a",
            "d1dd44cf4d114c5b92bf3f8a8b7e3352",
            "3ff4d9dd426f459b9fdac8220119d37a",
            "1f3fb8f4a0874f73b4e5c94a85e8a94b",
            "d58951dd0c244c249a72b997cd8ef9d6",
            "e1a56e8334d94df69c09da5511dc76ec",
            "6960698f54b64682870ad226c0875b3a",
            "9f9a7be0946b46048da6432a980b0e18",
            "7346337ac03247f0a42b005912b74ac7",
            "88c67ec3e0eb4b54a696be870db9255a",
            "7a54498d046a4e29864d700cc0eadd15",
            "49e49c1e30fc4fada957443d0b376910",
            "db770bd5d2db4c388a7818285c9bc89b",
            "fd12f1a6dc4347059abd0efc60e4b8ed",
            "8601fdc15fe64cd9b9d5e402ed7a6356",
            "5f2d51e648f14b4caa3470983a4768d4",
            "f0d2954525e343999219c0ed8e429921",
            "f1d3db1cb80e499bba7a1e4762e6bfe5",
            "3dfb9aa550e84a34b8641b1846d74a0a",
            "eddeb5e8fc0f45cd9156521e17640f80",
            "86b6e6ba402640a78dbc11bc5a2d1844",
            "4b2201da9ef14f09aa92d790633da1f6",
            "96101d409d4b407aa619f78547002d0d",
            "af2e7058a4f041d7ba820538d0b63e70",
            "5f21922657ff4e7089f2a9d229c9aa36",
            "a81ce3dce6e64cc796e1fd2c369d7c4c",
            "35ab2705edf5405cb6ee03b5dd5161c0",
            "37e5be18973c498d866bf753f9440c72",
            "3da8469b569241908c0d1100aab2043a",
            "31185c2f73b34a4b9e8eb6aa077804fd",
            "e07edf6ebb194d6aaf49ba555cfdfa72",
            "e7b3b94a154d49ca9c8b0f38673f3297"
          ]
        },
        "id": "0XYJ5FwpRtXs",
        "outputId": "07c11e58-93a8-4752-840a-4503b8c6345e"
      },
      "outputs": [
        {
          "output_type": "display_data",
          "data": {
            "application/vnd.jupyter.widget-view+json": {
              "model_id": "9aa61f14d4e94848a7dfa821fb8524c8",
              "version_minor": 0,
              "version_major": 2
            },
            "text/plain": [
              "Downloading:   0%|          | 0.00/110 [00:00<?, ?B/s]"
            ]
          },
          "metadata": {}
        },
        {
          "output_type": "display_data",
          "data": {
            "application/vnd.jupyter.widget-view+json": {
              "model_id": "7a54498d046a4e29864d700cc0eadd15",
              "version_minor": 0,
              "version_major": 2
            },
            "text/plain": [
              "Downloading:   0%|          | 0.00/479 [00:00<?, ?B/s]"
            ]
          },
          "metadata": {}
        },
        {
          "output_type": "display_data",
          "data": {
            "application/vnd.jupyter.widget-view+json": {
              "model_id": "4b2201da9ef14f09aa92d790633da1f6",
              "version_minor": 0,
              "version_major": 2
            },
            "text/plain": [
              "Downloading:   0%|          | 0.00/252k [00:00<?, ?B/s]"
            ]
          },
          "metadata": {}
        },
        {
          "output_type": "stream",
          "name": "stdout",
          "text": [
            "['非', '発光', '時', 'に', '背面', '側', 'の', '様子', 'を', '観察', '可能', 'な', '発光', '装置', '、', '照明', '装置', '、', 'または', '表示', '装置', 'など', 'を', '提供', 'する', '。', '複数', 'の', '発光', '部', 'を', '有し', '、', '発光', '部', '以外', 'の', '領域', 'は', '、', '可視', '光', 'を', '透過', 'する', '領域', 'を', '有する', '発光', '装置', 'で', 'ある', '。', 'または', '、', '複数', 'の', '可視', '光', 'を', '透過', 'する', '透', '光', '部', 'を', '有し', '、', '透', '光', '部', '以外', 'の', '領域', 'に', '、', '発光', 'する', 'こと', 'が', '可能', 'な', '発光', '部', 'を', '有する', '発光', '装置', 'で', 'ある', '。', '非', '発光', '時', 'に', 'は', '、', '可視', '光', 'を', '透過', 'する', '領域', 'を', '介し', 'て', '発光', '装置', 'の', '背面', '側', 'の', '様子', 'を', '視認', 'する', 'こと', 'が', 'できる', '。', 'また', '、', '発光', '時', 'に', 'は', '、', '発光', '部', 'から', '発せ', 'られ', 'た', '光', 'の', '拡散', 'により', '、', '発光', '装置', 'の', '背面', '側', 'の', '様子', 'を', '視認', 'し', 'にくく', 'する', 'こと', 'が', '可能', 'で', 'ある', '。']\n"
          ]
        }
      ],
      "source": [
        "from transformers import AutoTokenizer\n",
        "tokenizer = AutoTokenizer.from_pretrained(\"cl-tohoku/bert-base-japanese-whole-word-masking\")\n",
        "print(tokenizer.tokenize(text_list[0]))"
      ]
    },
    {
      "cell_type": "code",
      "execution_count": null,
      "metadata": {
        "colab": {
          "base_uri": "https://localhost:8080/"
        },
        "id": "-AWbcSNNiAs5",
        "outputId": "a69675a8-dda0-4b2d-b8c5-3e62ec013516"
      },
      "outputs": [
        {
          "output_type": "stream",
          "name": "stdout",
          "text": [
            "32000\n"
          ]
        }
      ],
      "source": [
        "# デフォルトの辞書確認\n",
        "print(len(tokenizer.vocab))  # 長さは32000\n",
        "# 辞書型なので、keyを抽出\n",
        "default_key = tokenizer.vocab.keys()"
      ]
    },
    {
      "cell_type": "code",
      "execution_count": null,
      "metadata": {
        "colab": {
          "base_uri": "https://localhost:8080/"
        },
        "id": "u8A5vcVWkKfl",
        "outputId": "e769f26a-9040-438a-eb8e-0ef938587a80"
      },
      "outputs": [
        {
          "output_type": "stream",
          "name": "stdout",
          "text": [
            "照合前: 753 照合後: 655 除去: 98\n"
          ]
        }
      ],
      "source": [
        "# spmの頻出後の内、元の辞書に含まれていない単語を抽出\n",
        "spm_token_list = [token[0] for token in counter_list]   #単語部分だけを抽出\n",
        "add_token = [token for token in spm_token_list if token not in default_key]\n",
        "nadd_token =[token for token in spm_token_list if token in default_key]\n",
        "print(\"照合前:\", len(spm_token_list), \"照合後:\", len(add_token), \"除去:\", len(nadd_token))"
      ]
    },
    {
      "cell_type": "code",
      "execution_count": null,
      "metadata": {
        "colab": {
          "base_uri": "https://localhost:8080/"
        },
        "id": "7trXoOt6l63M",
        "outputId": "a1619c72-d0d2-48f4-8a85-febaa5b114e7"
      },
      "outputs": [
        {
          "output_type": "execute_result",
          "data": {
            "text/plain": [
              "96"
            ]
          },
          "metadata": {},
          "execution_count": 103
        }
      ],
      "source": [
        "# 確認\n",
        "check_list = []\n",
        "for token in spm_token_list:\n",
        "  token_id = tokenizer.encode(token, add_special_tokens=False)   # FalseにしないとCLSとSEPが付く\n",
        "  if len(token_id) == 1 or token_id == [tokenizer.unk_token_id]:\n",
        "    check_list.append(token)   # これが追加されたtoken\n",
        "len(check_list)"
      ]
    },
    {
      "cell_type": "code",
      "execution_count": null,
      "metadata": {
        "colab": {
          "base_uri": "https://localhost:8080/"
        },
        "id": "noCCEBcInNg_",
        "outputId": "cb289fbc-9d0d-443c-e59a-7aeaaad233ce"
      },
      "outputs": [
        {
          "output_type": "execute_result",
          "data": {
            "text/plain": [
              "['させる', 'なおかつ']"
            ]
          },
          "metadata": {},
          "execution_count": 104
        }
      ],
      "source": [
        "error_word = [word for word in nadd_token if word not in check_list]\n",
        "error_word"
      ]
    },
    {
      "cell_type": "code",
      "execution_count": null,
      "metadata": {
        "colab": {
          "base_uri": "https://localhost:8080/"
        },
        "id": "56M4vTZlvdw6",
        "outputId": "67f7313b-df83-49e3-9bee-c95ac84e0b24"
      },
      "outputs": [
        {
          "output_type": "execute_result",
          "data": {
            "text/plain": [
              "True"
            ]
          },
          "metadata": {},
          "execution_count": 105
        }
      ],
      "source": [
        "\"なおかつ\" in default_key"
      ]
    },
    {
      "cell_type": "code",
      "execution_count": null,
      "metadata": {
        "colab": {
          "base_uri": "https://localhost:8080/"
        },
        "id": "_zjCsj1Rza7O",
        "outputId": "31021f97-ad41-441e-c20e-9d6d000af868"
      },
      "outputs": [
        {
          "output_type": "execute_result",
          "data": {
            "text/plain": [
              "[521, 772]"
            ]
          },
          "metadata": {},
          "execution_count": 106
        }
      ],
      "source": [
        "tokenizer.encode(\"なおかつ\", add_special_tokens=False)"
      ]
    },
    {
      "cell_type": "markdown",
      "metadata": {
        "id": "ic2fLEZK2VxU"
      },
      "source": [
        "vocabにあるはずなのにencodeでは分割される⇒なぜ？"
      ]
    },
    {
      "cell_type": "code",
      "execution_count": null,
      "metadata": {
        "colab": {
          "base_uri": "https://localhost:8080/"
        },
        "id": "Ue4dZg1n1Nn_",
        "outputId": "f9280058-5a73-4453-9e05-9e333ca19530"
      },
      "outputs": [
        {
          "output_type": "stream",
          "name": "stdout",
          "text": [
            "追加前: 32000\n",
            "追加後: 32000\n"
          ]
        }
      ],
      "source": [
        "print(\"追加前:\", len(tokenizer.vocab))\n",
        "num_added_toks = tokenizer.add_tokens(add_token)\n",
        "print(\"追加後:\", len(tokenizer.vocab))"
      ]
    },
    {
      "cell_type": "markdown",
      "metadata": {
        "id": "8BsMa8tc68_e"
      },
      "source": [
        "encodeで[unk]認定されない限り追加はされない"
      ]
    },
    {
      "cell_type": "markdown",
      "metadata": {
        "id": "qpJBY1k4-cHd"
      },
      "source": [
        "いったん保留"
      ]
    },
    {
      "cell_type": "markdown",
      "metadata": {
        "id": "ldEUSXFB-eTo"
      },
      "source": [
        "# 単語の重み検討"
      ]
    },
    {
      "cell_type": "markdown",
      "source": [
        "## IDF辞書作成 (BERT Score参照)"
      ],
      "metadata": {
        "id": "CnypGSgFnfEY"
      }
    },
    {
      "cell_type": "code",
      "execution_count": null,
      "metadata": {
        "id": "OB6Wf_3o4Cix"
      },
      "outputs": [],
      "source": [
        "m=MeCab.Tagger('-Owakati')\n",
        "\n",
        "def idf_process(sent):\n",
        "    token = m.parse(sent).split(\" \")\n",
        "    return set(token)\n",
        "\n",
        "def get_idf_dict(arr, nthreads=2):\n",
        "    idf_count = Counter()   # tokenのカウント\n",
        "    num_docs = len(arr)\n",
        "\n",
        "    with Pool(nthreads) as p:   # 並列処理\n",
        "        idf_count.update(chain.from_iterable(p.map(idf_process, arr)))  # 与えたコーパスのtokenの出現頻度を計算\n",
        "\n",
        "    idf_dict = defaultdict(lambda: log((num_docs + 1) / (1)))   # 初期値を変更 log(全文書数+1/1)\n",
        "    idf_dict.update({idx: log((num_docs + 1) / (c + 1)) for (idx, c) in idf_count.items()})  # IDF計算 log(全文書数+1/出現数+1) pythonの初期値が0のため+1の処理\n",
        "    return idf_dict"
      ]
    },
    {
      "cell_type": "code",
      "execution_count": null,
      "metadata": {
        "id": "PV6SHEMrCYd8"
      },
      "outputs": [],
      "source": [
        "idf_dict = get_idf_dict(text_list)"
      ]
    },
    {
      "cell_type": "code",
      "execution_count": null,
      "metadata": {
        "colab": {
          "base_uri": "https://localhost:8080/"
        },
        "id": "PueDQwbUCaLn",
        "outputId": "0436fb9e-cda6-4ece-a58d-9103c29f1016"
      },
      "outputs": [
        {
          "output_type": "stream",
          "name": "stdout",
          "text": [
            "4447\n"
          ]
        }
      ],
      "source": [
        "print(len(idf_dict))\n",
        "# fastTextのvocab数より多くなっている⇒fastTextの方はsubwordで減っている？"
      ]
    },
    {
      "cell_type": "markdown",
      "source": [
        "## TF辞書作成"
      ],
      "metadata": {
        "id": "hWasvllonsw0"
      }
    },
    {
      "cell_type": "code",
      "source": [
        "from collections import defaultdict\n",
        "\n",
        "def get_tf_dict(sent):\n",
        "  token = m.parse(text_list[0]).split(\" \")\n",
        "  num_token = len(token)\n",
        "  tf_counter = Counter(token)\n",
        "  tf_dict = defaultdict(lambda: 0)   # 初期値0の辞書\n",
        "  tf_dict.update({idx: ((c + 1) / (num_token + 1)) for (idx, c) in tf_counter.items()})\n",
        "  return tf_dict"
      ],
      "metadata": {
        "id": "6XUjykc3rI3Z"
      },
      "execution_count": null,
      "outputs": []
    },
    {
      "cell_type": "code",
      "source": [
        "test_dict = get_tf_dict(text_list[0])\n",
        "len(test_dict)"
      ],
      "metadata": {
        "colab": {
          "base_uri": "https://localhost:8080/"
        },
        "id": "MiK4LNXGrI02",
        "outputId": "b502803d-5740-4c08-8d13-a99bc2887d5c"
      },
      "execution_count": null,
      "outputs": [
        {
          "output_type": "execute_result",
          "data": {
            "text/plain": [
              "50"
            ]
          },
          "metadata": {},
          "execution_count": 159
        }
      ]
    },
    {
      "cell_type": "markdown",
      "source": [
        "TFの計算は出来たけど文章長さでベクトルの絶対値が大きく変わりそう<br>\n",
        "最後に文章長さで平均取れば問題ない？"
      ],
      "metadata": {
        "id": "5S7RpKTBFCKp"
      }
    },
    {
      "cell_type": "markdown",
      "source": [
        "## SklearnでのTF-IDF算出"
      ],
      "metadata": {
        "id": "vurcrwh8FNmT"
      }
    },
    {
      "cell_type": "markdown",
      "source": [
        "直接算出する場合"
      ],
      "metadata": {
        "id": "vFesXukqFpjE"
      }
    },
    {
      "cell_type": "code",
      "execution_count": null,
      "metadata": {
        "id": "b403s6sxDp7M"
      },
      "outputs": [],
      "source": [
        "from sklearn.feature_extraction.text import TfidfVectorizer\n",
        "vectorizer = TfidfVectorizer()\n",
        "\n",
        "tfidf_text = []\n",
        "for i in range(len(text_list)):\n",
        "  tfidf_text.append(m.parse(text_list[i]).strip())\n",
        "\n",
        "vectorizer.fit(tfidf_text)\n",
        "vec_tfidf = vectorizer.transform(tfidf_text)"
      ]
    },
    {
      "cell_type": "code",
      "source": [
        "print(vec_tfidf.shape)\n",
        "print(vec_tfidf[0].sum())\n",
        "print(vec_tfidf[1].sum())\n",
        "print(vec_tfidf[2].sum())"
      ],
      "metadata": {
        "colab": {
          "base_uri": "https://localhost:8080/"
        },
        "id": "3Qt-DqpqiUDR",
        "outputId": "a6fca0a5-4ecb-4c46-abbe-8687dfa933a6"
      },
      "execution_count": null,
      "outputs": [
        {
          "output_type": "stream",
          "name": "stdout",
          "text": [
            "(4264, 3827)\n",
            "4.30136993764376\n",
            "4.30136993764376\n",
            "4.7829729391683395\n"
          ]
        }
      ]
    },
    {
      "cell_type": "markdown",
      "source": [
        "TF(出現頻度の行列)から算出する場合"
      ],
      "metadata": {
        "id": "3rr_pubCFsah"
      }
    },
    {
      "cell_type": "code",
      "source": [
        "from sklearn.feature_extraction.text import CountVectorizer\n",
        "\n",
        "vectorizer = CountVectorizer()\n",
        "vectorizer.fit(tfidf_text)\n",
        "X = vectorizer.transform(tfidf_text)\n",
        "print(vectorizer.get_feature_names())\n",
        "print(len(vectorizer.get_feature_names()))\n",
        "print(X.shape)"
      ],
      "metadata": {
        "colab": {
          "base_uri": "https://localhost:8080/"
        },
        "id": "4M5rFV06iPM0",
        "outputId": "79b7feb9-bc46-490f-865d-567c5a8665dc"
      },
      "execution_count": null,
      "outputs": [
        {
          "output_type": "stream",
          "name": "stdout",
          "text": [
            "['10', '101', '102', '103', '104', '105', '106', '107', '108', '11', '110', '112', '1130', '12', '1212', '122', '1230', '126', '1300', '132', '134', '136', '138', '1400', '142', '147', '152', '193', '403', '404', '405', '406', '407', '408', '409', '470', '502', '504', '505', '506', '507', '508', '650', '651', '740', 'chiponglass', 'cm', 'el', 'emicalmechanicalpolishing', 'en', 'fet', 'ii', 'iii', 'lang', 'mos', 'nm', 'noccupiedmolecularorbital', 'tapeautomatedbonding', 'tapecarrierpackage', 'us', 'vds', 'vgs', 'vth', 'あい', 'あう', 'あたり', 'あっ', 'あと', 'あまり', 'あらかじめ', 'あらゆる', 'あり', 'ある', 'あるいは', 'ある程度', 'あれ', 'あわ', 'あわせ', 'あわせる', 'いい', 'いう', 'いえ', 'いかなる', 'いく', 'いずれ', 'いま', 'いまだ', 'いる', 'いれ', 'いろいろ', 'いわゆる', 'うち', 'うる', 'おい', 'おおむね', 'おき', 'おく', 'おけ', 'おこし', 'おこない', 'おこなう', 'おこなわ', 'および', 'おら', 'おり', 'お互い', 'かかり', 'かかる', 'かかわる', 'かけ', 'かける', 'かつ', 'から', 'きい', 'きっかけ', 'きる', 'きれ', 'きれい', 'きわめて', 'くっきり', 'くびれ', 'くる', 'くん', 'こう', 'こうして', 'ここ', 'こと', 'ことなる', 'この', 'こみ', 'これ', 'これら', 'こん', 'ごく', 'ごと', 'さい', 'させ', 'させる', 'さまざま', 'さらし', 'さらす', 'さらなる', 'さらに', 'しか', 'しかし', 'しかしながら', 'しかも', 'しき', 'したがっ', 'したがって', 'しまい', 'しまう', 'しまっ', 'しみ', 'しみこむ', 'しよ', 'しわ', 'じん性', 'すき', 'すぎる', 'すぐれ', 'すそ', 'すなわち', 'すばやく', 'すべて', 'する', 'すれ', 'ずつ', 'ずらし', 'ずれ', 'せよ', 'せり出し', 'せる', 'せれ', 'そう', 'そこ', 'そこで', 'そして', 'その', 'そのまま', 'その他', 'その後', 'その間', 'それ', 'それぞれ', 'それでいて', 'それら', 'そろえ', 'そろえる', 'たい', 'ただし', 'たとえば', 'たび', 'ため', 'たら', 'たり', 'たる', 'たわみ', 'だけ', 'ちらつき', 'ついで', 'つかみ', 'つき', 'つくっ', 'つくる', 'つけ', 'つける', 'つつ', 'つながる', 'つなぎ目', 'つまり', 'づつ', 'づらい', 'づらく', 'でき', 'できる', 'できるだけ', 'でも', 'でる', 'という', 'といった', 'とう', 'とおり', 'とき', 'とくに', 'ところ', 'ところで', 'として', 'とっ', 'とともに', 'とも', 'ともなう', 'ともなっ', 'ともに', 'とる', 'と共に', 'どう', 'どうし', 'どちら', 'どの', 'ない', 'ないしは', 'なお', 'なおかつ', 'なか', 'なかっ', 'なかなか', 'ながら', 'ながれ', 'なく', 'なくし', 'なくす', 'なくなり', 'なけれ', 'なし', 'なす', 'なだらか', 'なっ', 'など', 'なまり', 'なら', 'ならっ', 'ならびに', 'なり', 'なる', 'なれ', 'にあたって', 'にあたり', 'において', 'における', 'にかけて', 'にくい', 'にくく', 'について', 'につき', 'につれて', 'にて', 'にとって', 'にとり', 'によって', 'により', 'による', 'にわたって', 'にわたり', 'に対し', 'に対して', 'に対する', 'に従って', 'に関し', 'に関して', 'に関する', 'に際し', 'に際して', 'ねじれ', 'のし', 'のち', 'ので', 'のみ', 'のも', 'のり', 'はかる', 'はかれる', 'はく離', 'はじめ', 'はずれ', 'はずれる', 'はみ出', 'はめ込ま', 'はり合わ', 'ばらつい', 'ばらつき', 'ばらつく', 'ひいては', 'ひさし', 'ひとつ', 'ひび', 'ふくむ', 'ふたつ', 'べき', 'べく', 'ほか', 'ほとんど', 'ほど', 'ほぼ', 'ぼやけ', 'ますます', 'まず', 'また', 'またがる', 'または', 'まで', 'まとめ', 'まま', 'みる', 'むら', 'めくり', 'もう', 'もしくは', 'もたらし', 'もちい', 'もっ', 'もつ', 'もと', 'もの', 'ものの', 'もより', 'やがて', 'やけど', 'やすい', 'やすかっ', 'やすく', 'ゆく', 'ゆっくり', 'よい', 'よう', 'よく', 'よじれ', 'よって', 'よば', 'よら', 'より', 'よる', 'よれ', 'られ', 'られる', 'りん', 'るまた', 'れる', 'わけ', 'わずか', 'わるく', 'を通して', 'を通じて', 'アイドリング', 'アキシャル', 'アクセプタ', 'アクセプター', 'アクティブ', 'アクティブマトリクス', 'アクリル', 'アシスト', 'アシル', 'アシロキシ', 'アセナフトキノキサリン', 'アセナフトピリジン', 'アダマンチル', 'アップ', 'アップコンバート', 'アドレス', 'アナログ', 'アニオン', 'アニリン', 'アニール', 'アノード', 'アミ', 'アミド', 'アミノピレン', 'アミン', 'アミンユニット', 'アモルファス', 'アライメント', 'アラルキル', 'アリ', 'アリール', 'アリールアミン', 'アリールアルキル', 'アリールアントラセン', 'アリールカルバゾール', 'アリールトリアジン', 'アリールハライド', 'アリールハロゲン', 'アリールピラジン', 'アリールピリミジン', 'アリールボロン', 'アリールー', 'アリーレン', 'アルカリ', 'アルキル', 'アルキルアリールアミノ', 'アルキルチオ', 'アルキレン', 'アルケニル', 'アルコキシ', 'アルコキシカルボニル', 'アルコキシド', 'アルコキシフェニルピラジン', 'アルコキシル', 'アルゴン', 'アルミニウム', 'アレイ', 'アレーン', 'アン', 'アンダ', 'アンチモン', 'アンテナ', 'アントラセン', 'アントラセンアリールテトラミン', 'アンプ', 'アンモニア', 'アーム', 'イオン', 'イオン化', 'イソキノリニル', 'イソキノリン', 'イソプロピル', 'イットリウム', 'イネーブル', 'イミダゾ', 'イミド', 'イリジウム', 'イル', 'イン', 'インキュベーション', 'インク', 'インクジェット', 'インジウム', 'インターネット', 'インターフェース', 'インド', 'インドール', 'インバータ', 'インパルス', 'インライン', 'ウィンドウ', 'ウェアラブルデバイス', 'ウェット', 'ウエット', 'ウエットエッチング', 'ウォール', 'ウルツ', 'エア', 'エキサイプレックス', 'エキシプレックス', 'エステル', 'エチル', 'エッジ', 'エッジセンシティブラッチ', 'エッチ', 'エッチング', 'エネルギー', 'エネルギーアクセプター', 'エピタキシャル成長', 'エポキシ', 'エミッション', 'エラー', 'エリア', 'エリアセンサ', 'エレクトロルミネセンス', 'エレクトロルミネッセンス', 'エンハンスメント', 'エージング', 'オキサジアゾール', 'オキシジフタル', 'オフ', 'オフセット', 'オペアンプ', 'オリゴナフタレン', 'オルト', 'オルトジハロゲン', 'オルトメタル', 'オレンジ', 'オン', 'オンオフ', 'オーダー', 'オーバー', 'オーバーラップ', 'オーミック', 'カウンタ', 'カウント', 'カソード', 'カッター', 'カットオフ', 'カップ', 'カップリング', 'カバレージ', 'カバー', 'カバーフィルム', 'カメラ', 'カラー', 'カリウム', 'カルバゾリル', 'カルバゾール', 'カルベン', 'カルボニル', 'カレント', 'カーブ', 'ガイド', 'ガウス', 'ガス', 'ガスバリア', 'ガラス', 'ガラスフリット', 'ガリウム', 'ガンマ', 'キセノン', 'キナゾリニル', 'キナゾリン', 'キノ', 'キノキサリニル', 'キノキサリン', 'キノリニル', 'キノリル', 'キャップ', 'キャパシタ', 'キャビティ', 'キャリア', 'キャンセル', 'キレート', 'キンク', 'キー', 'ギャップ', 'クアテルフェニル', 'クアテルフェニレン', 'クティブマトリクス', 'クラ', 'クライオポンプ', 'クラスタ', 'クラック', 'クリア', 'クリスタル', 'クリプトン', 'クリーニンク', 'クリーニング', 'クリーニングモード', 'クロス', 'クロスニコル', 'クロック', 'クロマトグラフィー', 'クロム', 'クロロアリール', 'クローズド', 'グラフ', 'グリップ', 'グロー', 'ケイ素', 'ケトン', 'ケーブル', 'ゲスト', 'ゲル', 'ゲルマニウム', 'ゲート', 'ゲートドライバ', 'ゲーム', 'コスト', 'コストダウン', 'コネクター', 'コバルト', 'コプラナ', 'コモン', 'コランダム', 'コレステリック', 'コンタクト', 'コンデンサ', 'コントラスト', 'コントローラ', 'コントロール', 'コンバータ', 'コンバート', 'コンピュータ', 'コンフィギュレーションデータ', 'コーティング', 'コート', 'コード', 'ゴミ', 'ゴム', 'ゴースト', 'サイズ', 'サイド', 'サスティン', 'サステイン', 'サブ', 'サブスレッショルドスイング', 'サンプリング', 'サンプル', 'サーバ', 'サーミスタ', 'サーミスタアレイ', 'シアノ', 'シクロアルキル', 'シクロメタル', 'シグナル', 'システム', 'システムオンパネル', 'シフト', 'シフトレジスタ', 'シャッター', 'シャドーマスク', 'シャワー', 'シャープ', 'シュウ', 'シュリンク', 'ショア', 'ショット', 'ショート', 'シラン', 'シリアル', 'シリコン', 'シリサイド', 'シリル', 'シリンドリカルレンズ', 'シリンドリカルレンズアレイ', 'シロキサン', 'シングル', 'シングレット', 'シンプル', 'シーケンシャル', 'シース', 'シート', 'シール', 'シールド', 'ジアジン', 'ジアゾ', 'ジアミン', 'ジアリール', 'ジアリールアミノ', 'ジアリールアミン', 'ジアルキルアミノ', 'ジイル', 'ジグザグ', 'ジケトン', 'ジスピロ', 'ジピバロイルメタナト', 'ジフェニル', 'ジフェニルアミノ', 'ジフェニルアミノフェニル', 'ジフェニルアミン', 'ジフェニルアントラセン', 'ジフェニルベンジジン', 'ジベンゾ', 'ジベンゾカルバゾール', 'ジベンゾキナゾリン', 'ジベンゾキノキサリニル', 'ジベンゾキノキサリン', 'ジベンゾチオフェニル', 'ジベンゾチオフェニレン', 'ジベンゾチオフェン', 'ジベンゾフラニル', 'ジベンゾフラニレン', 'ジベンゾフラン', 'ジベンゾベンゾチエノキノキサリン', 'ジベンゾベンゾフロキノキサリン', 'ジメチル', 'ジメチルフェニル', 'ジメチルホルムアミド', 'ジュラルミン', 'ジルコニウム', 'スイッチ', 'スイッチング', 'スキャン', 'スキャンチェーンレジスタ', 'スクライブ', 'スジ', 'スズ', 'スタガ', 'スタティック', 'スタンバイ', 'スター', 'スタート', 'スチル', 'スティックドライバ', 'ステップ', 'ステンレス', 'ステージ', 'ストッパー', 'ストップ', 'ストライプ', 'ストレス', 'スパッタ', 'スパッタリング', 'スピロ', 'スピロフルオレニル', 'スピロフルオレン', 'スピン', 'スピンコータ', 'スペクトル', 'スペーサ', 'スペース', 'スポット', 'スポーツ', 'スライド', 'スリット', 'スリミング', 'スループット', 'ズレ', 'セグメント', 'セット', 'セトリング', 'セパレータ', 'セミ', 'セラミックス', 'セル', 'セルフアライン', 'セレクタ', 'センサ', 'センサー', 'センシング', 'センス', 'ゼオライト', 'ゼロ', 'ソファ', 'ソフトウェア', 'ソフトエラー', 'ソース', 'ソースドライバ', 'ソースドレイン', 'ソースフォロワ', 'ゾル', 'ゾルーゲル', 'タイプ', 'タイミング', 'タイム', 'タッチ', 'タッチセンサ', 'タッチセンサユニット', 'タッチセンサー', 'タッチパネル', 'タブレット', 'タングステン', 'タンタル', 'タンデム', 'ターゲット', 'ターニング', 'ターフェニル', 'ダイオード', 'ダイナミックレンジ', 'ダイナミックロジック', 'ダウン', 'ダマシンプロセス', 'ダミー', 'ダメージ', 'ダーク', 'チェーン', 'チオフェン', 'チタン', 'チップ', 'チャネル', 'チャネルコンダクタンス', 'チャネルドープ', 'チャン', 'チャンバー', 'チャート', 'テキスト', 'テスト', 'テトラ', 'テトラセン', 'テトラヒドロ', 'テトラヒドロキノキサリン', 'テルフェニル', 'テレビジョン', 'テロ', 'テーパ', 'テーパー', 'テーブル', 'テープ', 'ディスプレイ', 'ディプリーション', 'デカニル', 'デクスター', 'デコーダ', 'デザイン', 'デジタル', 'デジタルビデオデータ', 'デバイス', 'デプレッション', 'デマルチプレクサ', 'デュアル', 'デューティ', 'デューティー', 'データ', 'データセット', 'データベース', 'デート', 'トップ', 'トップゲートボトムコンタクト', 'トラップ', 'トランジスタ', 'トランジタ', 'トランスコンダクタンスアンプ', 'トリ', 'トリアジン', 'トリアゾ', 'トリアゾロ', 'トリアゾール', 'トリアリールアミン', 'トリアリールアントラセン', 'トリアリールピラジン', 'トリシクロ', 'トリシクロアルキル', 'トリス', 'トリフェニルアミン', 'トリフェニルピラジナイト', 'トリフェニレニル', 'トリフェニレン', 'トリフルオロメタンスルホン', 'トリプレット', 'トリベンゾカルバゾール', 'トリル', 'トルエン', 'トレードオフ', 'トレーニング', 'トンネル', 'トーク', 'トータル', 'ドット', 'ドナー', 'ドナードープ', 'ドライ', 'ドライバ', 'ドラム', 'ドレイン', 'ドーパント', 'ドーピング', 'ドープ', 'ナノ', 'ナノインプリント', 'ナフタレン', 'ナフタレンー', 'ナフチル', 'ナフチレン', 'ナフト', 'ナフトビスベンゾチオフェン', 'ナフトビスベンゾフラン', 'ナフトフロピラジン', 'ナフトベンゾフラノベンゾチオフェン', 'ニオブ', 'ニコル', 'ニッケル', 'ニトロ', 'ニュース', 'ニューラルネットワーク', 'ネオン', 'ノイズ', 'ノズル', 'ノルボルニル', 'ノー', 'ノート', 'ノード', 'ノーマリーオフ', 'ノーマリーオン', 'ハイ', 'ハイブリッド', 'ハイレベル', 'ハフニウム', 'ハプティック', 'ハプティックコントローラー', 'ハロアルキル', 'ハロゲノ', 'ハロゲン', 'ハロゲンドープ', 'ハロゲンペロブスカイト', 'ハロー', 'ハング', 'ハンドヘルド', 'ハンドヘルドゲーム', 'ハンドリング', 'ハード', 'ハードウェア', 'ハーフ', 'ハーフキャリ', 'バイアス', 'バイナリ', 'バイパス', 'バイポーラ', 'バイポーラトランジスタ', 'バインダ', 'バソフェナントロリン', 'バック', 'バックプレーン', 'バッテリー', 'バッファ', 'バッファー', 'バナジウム', 'バラ', 'バラつき', 'バラツ', 'バラツキ', 'バランス', 'バリア', 'バリウム', 'バリエーション', 'バルク', 'バンク', 'バンド', 'バー', 'バーター', 'パス', 'パストランジスタロジック', 'パターニング', 'パターン', 'パッケージ', 'パッシブ', 'パッシベーション', 'パッド', 'パネル', 'パラ', 'パラジウム', 'パラメータ', 'パラレル', 'パルス', 'パルススパッタ', 'パワー', 'パーシャル', 'パーソナルコンピュータ', 'パーティクル', 'ヒドロキシ', 'ヒューマンインターフェイス', 'ヒンジ', 'ヒータ', 'ビカルバゾール', 'ビジベンゾチオフェン', 'ビジベンゾフラン', 'ビス', 'ビスカルバゾリル', 'ビスフェニル', 'ビスベンゾチオフェン', 'ビスベンゾフラン', 'ビット', 'ビデオ', 'ビニル', 'ビピリジン', 'ビピリミジン', 'ビフェニル', 'ビフェニルジイル', 'ビフェニレン', 'ビフルオレン', 'ビーム', 'ピクセル', 'ピクチャー', 'ピコリナト', 'ピッチ', 'ピニオン', 'ピラジニル', 'ピラジルトリフラート', 'ピラジン', 'ピラジンハライド', 'ピラン', 'ピラー', 'ピリジニル', 'ピリジル', 'ピリジルピリミジン', 'ピリジン', 'ピリドインドール', 'ピリミジニル', 'ピリミジル', 'ピリミジン', 'ピリミド', 'ピレン', 'ピロール', 'ピン', 'ピンチオフ', 'ピーク', 'ピーリング', 'フィッティング', 'フィラー', 'フィルタ', 'フィルター', 'フィルム', 'フィードバック', 'フェナントリジン', 'フェナントリル', 'フェナントレニル', 'フェナントレン', 'フェナントロリン', 'フェニル', 'フェニルピラジン', 'フェニレン', 'フェノキサジン', 'フェノキシ', 'フェノチアジン', 'フェルスター', 'フェロセン', 'フォト', 'フォトエレクトロニクスデバイス', 'フォトセンサ', 'フォトリソグラフィ', 'フォトレジスト', 'フォトン', 'フタ', 'フタロシアニン', 'フッ', 'フッ素', 'フラッシュ', 'フラットパネルディスプレイ', 'フラニル', 'フラン', 'フリッカー', 'フリット', 'フリットガラス', 'フリットペースト', 'フリップフロップ', 'フル', 'フルオレニル', 'フルオレニルジアリールアミン', 'フルオレン', 'フルオロ', 'フレキシブル', 'フレキシブルプリントサーキット', 'フレネルレンズ', 'フレーム', 'フロピラジン', 'フローティング', 'ブチル', 'ブック', 'ブラック', 'ブラックマトリクス', 'ブランキング', 'ブロッキング', 'ブロック', 'ブロモコハク', 'ブロード', 'ブートストラップ', 'プラグ', 'プラス', 'プラスチック', 'プラズマ', 'プリチャージ', 'プリント', 'プルアップトランジスタ', 'プレス', 'プレナー', 'プレート', 'プレーナ', 'プログラム', 'プロセス', 'プロセスチャンバー', 'プロセッサ', 'プロファイル', 'プローブ', 'ヘッド', 'ヘテロ', 'ヘテロアリール', 'ヘリウム', 'ベクトル', 'ベン', 'ベンジジン', 'ベンゼン', 'ベンゾ', 'ベンゾイミダゾ', 'ベンゾイミダゾリル', 'ベンゾイミダゾール', 'ベンゾオキサゾリル', 'ベンゾオキサゾール', 'ベンゾカルバゾール', 'ベンゾチエノ', 'ベンゾチエノキノキサリン', 'ベンゾチエノピラジン', 'ベンゾチエノピリジル', 'ベンゾチエノピリミジン', 'ベンゾトリフェニレン', 'ベンゾナフトフラニル', 'ベンゾナフトフラニルアミン', 'ベンゾナフトフラン', 'ベンゾフロ', 'ベンゾフロキノキサリン', 'ベンゾフロピラジン', 'ベンゾフロピリジル', 'ベンゾフロピリダジン', 'ベンゾフロピリミジン', 'ベース', 'ペリレン', 'ペレット', 'ペロブスカイト', 'ペンタフルオロスルファニル', 'ペンダント', 'ページ', 'ペースト', 'ホウ素', 'ホスト', 'ホット', 'ホモ', 'ホルダ', 'ホワイト', 'ホール', 'ホールド', 'ボタン', 'ボトム', 'ボリル', 'ボルト', 'ボロ', 'ボロン', 'ボンディング', 'ボード', 'ポインタ', 'ポジ', 'ポテンシャル', 'ポリ', 'ポリイミド', 'ポリシリコントランジスタ', 'ポリビニルアルコール', 'ポリマー', 'ポンプ', 'マイクロ', 'マイクロキャビティ', 'マイクロクリスタルシリコン', 'マイクロレンズアレイ', 'マイコン', 'マイナス', 'マイナスフレネルレンズ', 'マグネシウム', 'マグネット', 'マザー', 'マスク', 'マスクホルダ', 'マップ', 'マトリクス', 'マリオン', 'マルチ', 'マルチチャンバー', 'マンガン', 'マージン', 'ミラー', 'ミリ', 'ムラ', 'メガヘルツレーザビーム', 'メタ', 'メタフェニレン', 'メタル', 'メチル', 'メッキ', 'メトキシ', 'メモリ', 'メモリー', 'メリット', 'メンテナンス', 'メートル', 'メール', 'モアレ', 'モザイク', 'モジュール', 'モニタ', 'モニター', 'モノ', 'モノアニオン', 'モノマー', 'モリブデン', 'モル', 'モード', 'モーメント', 'ヤング', 'ユニット', 'ユーザ', 'ユーザー', 'ヨウ', 'ヨードアントラセン', 'ヨードコハク', 'ライト', 'ライン', 'ラジカル', 'ラジカルアニオン', 'ラック', 'ラッチ', 'ラテラル', 'ランタン', 'ランプ', 'リセット', 'リソグラフィ', 'リチウム', 'リファレンス', 'リフレッシュ', 'リフロー', 'リペア', 'リミッタ', 'リレー', 'リン', 'リング', 'リーク', 'ルツボ', 'ルテニウム', 'ルブレン', 'ルミネッセンス', 'ルー', 'ルール', 'レアメタル', 'レイアウト', 'レイヤー', 'レジスタ', 'レジスト', 'レチクル', 'レニウム', 'レベル', 'レベルシフタ', 'レンズ', 'レーザ', 'レーザー', 'レート', 'レーン', 'ロウ', 'ロウレベル', 'ロジウム', 'ロジック', 'ロス', 'ロード', 'ローラ', 'ロール', 'ロールシート', 'ーイル', '一つ', '一の島', '一体', '一体化', '一元', '一元系酸化物半導体層上', '一可撓性基板上', '一周', '一因', '一定', '一対', '一層', '一度', '一括', '一方', '一方向', '一旦', '一時', '一様', '一次元', '一種', '一端', '一群', '一致', '一般', '一行', '一覧', '一角', '一貫', '一辺', '一部', '一部分', '丈夫', '三つ', '三原色', '三角', '三重', '上がり', '上がる', '上げ', '上げる', '上下', '上乗せ', '上位', '上側', '上回っ', '上層', '上方', '上昇', '上流', '上端', '上記', '上辺', '上述', '上部', '上面', '下がり', '下がる', '下げ', '下げる', '下ろし', '下位', '下図', '下地', '下層', '下方', '下流', '下端', '下記', '下辺', '下部', '下降', '下限', '下面', '不具合', '不十分', '不安定', '不明', '不明瞭', '不純', '不純物', '不良', '不要', '不規則', '不足', '不透明', '与え', '与える', '且つ', '両側', '両手', '両方', '両方向', '両極', '両立', '両端', '両者', '両隣', '両面', '並び', '並びに', '並べ', '並べる', '並ん', '並列', '並置', '並行', '中位', '中央', '中心', '中断', '中空', '中立', '中間', '中間色', '丸み', '主として', '主成分', '主要', '乃至', '乗じ', '乗算', '乱れる', '乱反射', '乾燥', '亀裂', '予め', '予備', '予測', '予防', '事態', '二つ', '二乗', '二酸化炭素', '互い', '互いに', '五員環芳香族複素環', '五員複素芳香環残基', '亜鉛', '交わる', '交互', '交差', '交換', '交流', '交点', '人工', '人為', '人間', '介さ', '介し', '介する', '介在', '仕事', '仕切ら', '仕切り', '仕様', '他方', '他端', '付き', '付け', '付ける', '付与', '付加', '付着', '付近', '代え', '代わり', '代用', '代表', '以上', '以下', '以内', '以外', '以降', '仮に', '仮定', '任意', '休止', '伝える', '伝わり', '伝導', '伝播', '伝送', '伝達', '伴い', '伴う', '伴っ', '伴わ', '伸ばす', '伸び', '伸張', '但し', '位する', '位相', '位置', '低い', '低く', '低けれ', '低下', '低減', '低温', '低級', '体内', '体積', '何らかの', '何れ', '余分', '余裕', '作り', '作り出さ', '作り出す', '作動', '作成', '作業', '作用', '作製', '併せ', '併存', '併用', '使い', '使い分ける', '使う', '使っ', '使わ', '使用', '例えば', '例示', '供与', '供給', '依ら', '依存', '依然として', '価値', '価格', '侵入', '係る', '係数', '促す', '促進', '保た', '保ち', '保っ', '保つ', '保全', '保存', '保持', '保有', '保証', '保護', '信号', '信頼', '修復', '修正', '修理', '修繕', '個々', '個別', '個所', '倍率', '偏り', '偏向', '偏差', '停止', '側壁', '側部', '側面', '偶数', '備え', '備える', '傾き', '傾け', '傾ける', '傾向', '傾斜', '僅か', '働き', '優れ', '優れる', '優先', '元々', '元素', '充分', '充填', '充電', '先立っ', '先端', '光っ', '光る', '光学', '光度', '光沢', '光源', '光量', '克服', '入っ', '入ら', '入り', '入り込む', '入る', '入れ換える', '入れ替える', '入出力', '入力', '入射', '入電', '全く', '全て', '全体', '全部', '全面', '公知', '公転', '六方', '六角形', '共に', '共存', '共役', '共振', '共有', '共用', '共通', '共鳴', '具体', '具備', '兼ね', '兼ねる', '兼ね備え', '兼用', '内また', '内側', '内包', '内在', '内壁', '内容', '内蔵', '内角', '内部', '内面', '円周', '円柱', '円滑', '円錐', '再び', '再度', '再現', '冗長', '写す', '写り', '写真', '冷え', '冷却', '凝固', '処理', '凸面', '凹み', '凹む', '凹凸', '凹形', '凹曲', '凹部', '出さ', '出し', '出す', '出力', '出射', '出来', '出来る', '出現', '出荷', '分かれ', '分け', '分ける', '分の', '分光', '分割', '分子', '分岐', '分布', '分散', '分断', '分析', '分析計', '分解', '分解能', '分針', '分離', '分類', '切り', '切り出し', '切り出す', '切り換え', '切り換える', '切り替え', '切り替える', '切り替わる', '切れ', '切れ目', '切れ込み', '切削', '切断', '切替', '列方向', '初期', '判定', '判断', '別々', '別に', '別個', '別言', '別途', '利便', '利点', '利用', '到達', '制御', '制約', '制限', '削減', '前もって', '前半', '前後', '前者', '前記', '前述', '前面', '前駆', '剥がし', '剥がす', '剥がれ', '剥がれる', '剥き出し', '剥す', '剥離', '割り当てる', '割り込み', '割る', '割れ', '割合', '劈開', '加え', '加える', '加わっ', '加わり', '加わる', '加工', '加水', '加熱', '加算', '加速度', '劣化', '助長', '励起', '効果', '効率', '動かす', '動き', '動作', '動画', '勝る', '勾配', '包む', '包含', '包装', '化合', '化学', '化物', '区分', '区間', '十分', '半値', '半分', '半周', '半導体', '半径', '半数', '半減', '半球', '単なる', '単に', '単一', '単位', '単体', '単数', '単発', '単純', '単色', '占め', '占める', '占有', '印刷', '印加', '印象', '危険', '即ち', '厚い', '厚く', '厚み', '原価', '原因', '原子', '原料', '参照', '又は', '及び', '及ぶ', '及ぼさ', '及ぼす', '双方', '双極', '反り', '反る', '反対', '反射', '反応', '反映', '反発', '反転', '収まる', '収束', '収納', '収縮', '取ら', '取り', '取り付け', '取り出さ', '取り出し', '取り出す', '取り出せる', '取り囲み', '取り囲む', '取り外さ', '取り扱う', '取り込み', '取り込む', '取り込ん', '取り除い', '取り除き', '取り除く', '取る', '取付け', '取出し', '取得', '受け', '受ける', '受け取り', '受け取る', '受け渡し', '受信', '受光', '受動', '受容', '受電', '口径', '可動', '可塑', '可変', '可能', '可視', '可逆', '台形', '右目', '右端', '各々', '各回', '各層', '各種', '各面', '合い', '合う', '合し', '合せ', '合せる', '合っ', '合わ', '合わさ', '合わせ', '合わせる', '合わせれ', '合成', '合計', '合金', '吊り', '同じ', '同一', '同列', '同士', '同時', '同時に', '同期', '同様', '同種', '同軸', '吐出', '吐出し', '向い', '向う', '向かい合い', '向かい合う', '向かい合っ', '向かい合わ', '向かい合わせ', '向かう', '向かっ', '向き', '向け', '向ける', '向上', '含ま', '含み', '含む', '含め', '含める', '含ん', '含有', '含浸', '吸光', '吸収', '吸引', '吸湿', '吸着', '吸蔵', '吹き', '呈さ', '呈し', '呈する', '周り', '周囲', '周期', '周波数', '周縁', '周辺', '呼ば', '呼ぶ', '呼べる', '命令', '品位', '品種', '品質', '問わ', '問題', '器具', '噴出', '噴射', '四方', '回り', '回り込み', '回収', '回廊', '回復', '回折', '回数', '回路', '回転', '回避', '因っ', '因子', '困難', '囲う', '囲ま', '囲み', '囲む', '囲わ', '囲ん', '図っ', '図ら', '図り', '図る', '図れる', '固体', '固化', '固定', '固有', '固着', '土手', '圧さ', '圧し', '圧する', '圧力', '圧層', '圧着', '圧縮', '圧電', '在し', '均一', '均等', '均質', '坩堝', '垂直', '垂線', '型式', '埋める', '埋め込ま', '埋め込み', '埋め込む', '埋没', '基づい', '基づき', '基づく', '基体', '基底', '基本', '基板', '基準', '堆積', '場合', '場所', '塑性', '塗り', '塗布', '塞ぐ', '塩素', '境界', '増える', '増やさ', '増やし', '増やす', '増加', '増大', '増幅', '増幅器', '増強', '壁面', '壊れる', '変え', '変える', '変位', '変動', '変化', '変型', '変形', '変換', '変更', '変調', '変質', '外し', '外れ', '外側', '外力', '外周', '外形', '外気', '外縁', '外装', '外観', '外部', '多い', '多く', '多値', '多元', '多孔', '多少', '多層', '多彩', '多数', '多方向', '多様', '多色', '多重', '多量', '多面', '大き', '大きい', '大きく', '大きな', '大型', '大小', '大幅', '大気', '大量', '太陽', '太陽光', '失う', '奇数', '奥行き', '好ましい', '好ましかっ', '好ましく', '好み', '好適', '妨げ', '妨げる', '始まっ', '始め', '始める', '始点', '姿勢', '媒体', '媒質', '子中', '存否', '存在', '学習', '安価', '安全', '安定', '完了', '完全', '完成', '官能', '定まる', '定め', '定める', '定常', '定期', '実効', '実情', '実数', '実施', '実現', '実用', '実行', '実装', '実質', '実際', '室内', '室温', '家具', '容器', '容易', '容積', '容量', '寄与', '寄生', '密封', '密度', '密接', '密着', '密閉', '富ん', '対し', '対向', '対峙', '対応', '対比', '対称', '対策', '対象', '寿命', '封じ込める', '封入', '射出', '導体', '導入', '導出', '導通', '小さ', '小さい', '小さく', '小さな', '小型', '小規模', '少し', '少ない', '少なく', '少なくとも', '少量', '局所', '屈折', '屈曲', '屋内', '屋外', '展開', '属する', '属性', '層間', '山側', '崩壊', '嵩張る', '工夫', '工業', '工程', '左上', '左下', '左右', '左目', '左端', '巨視的', '差し引い', '差し込ん', '差異', '巻か', '巻き', '希土類', '希少', '希釈', '帯び', '帯域', '帯状', '帯電', '帰還', '常に', '常時', '常温', '幅広い', '干渉', '平ら', '平均', '平坦', '平方根', '平板', '平行', '平面', '幾何', '広い', '広がっ', '広がり', '広がる', '広く', '広げ', '広げる', '底辺', '底面', '度合い', '座標', '延ばし', '延び', '延びる', '延伸', '延長', '弁別', '弊害', '引き', '引き出さ', '引き出し', '引き出す', '引き回さ', '引き回し', '引き起こさ', '引き起こし', '引き起こす', '引き込み', '引き離す', '引っ張り', '引張', '弱い', '弱く', '弱め', '弱める', '弱酸', '張り合わさ', '張力', '強い', '強く', '強め', '強める', '強制', '強度', '弾性', '当たり', '当たる', '当然', '当該', '形態', '形成', '形状', '影響', '役割', '往復', '待た', '後で', '後に', '後半', '後段', '後者', '従って', '従来', '得る', '復元', '復調', '微妙', '微小', '微少', '微粉', '微粒子', '微細', '微量', '徹底的', '必要', '応じ', '応力', '応用', '応答', '快適', '思い', '急速', '性能', '性質', '恐れ', '悪い', '悪化', '悪影響', '情報', '情報処理', '想到', '想定', '意図', '感じ', '感光', '感度', '感情', '態様', '成す', '成る', '成分', '成型', '成形', '成長', '或いは', '戻す', '戻ら', '戻る', '所定', '所望', '手段', '手法', '手間', '手順', '打ち', '扱う', '技術', '把持', '抑え', '抑える', '抑制', '抑止', '投入', '投影', '折り', '折りたたま', '折りたたみ', '折りたたむ', '折りたたん', '折り曲げ', '折り曲げる', '折り畳ま', '折り畳み', '折り畳む', '折り畳ん', '折り返し', '折れ曲がっ', '抵抗', '押し', '押圧', '抽出', '担う', '拘わら', '招い', '招き', '招く', '拡げる', '拡大', '拡張', '拡散', '拭い', '拭き取り', '拭き取る', '持する', '持た', '持ち', '持っ', '持つ', '指向', '指定', '指数', '指紋', '挙げ', '挙動', '挟ま', '挟み', '挟み込み', '挟み込む', '挟む', '挟ん', '振幅', '挿入', '挿電', '捉え', '捉える', '捕獲', '据置', '授受', '排気', '排除', '掛け合わ', '採用', '接し', '接する', '接合', '接地', '接点', '接着', '接続', '接線', '接触', '推定', '推論', '揃う', '揃え', '揃える', '揃っ', '描く', '描画', '提供', '提案', '揮発', '損なう', '損なわ', '損ね', '損傷', '損失', '搬性', '搬送', '搬送波', '搭載', '携帯', '撃層', '撮像', '撮影', '操作', '擬似', '擬制', '支持', '支援', '改善', '改良', '放出', '放射', '放射光', '放射状', '放熱', '放電', '教師', '散乱', '散布', '数字', '数式', '数種類', '整合', '整数', '整流', '文字', '斜め', '斜面', '断熱', '断線', '断面', '新しい', '新た', '新規', '方位', '方向', '方式', '方法', '施さ', '施し', '施す', '既存', '日本工業規格', '日本語', '早く', '昇圧', '昇華', '昇降', '昇順', '明らか', '明る', '明るい', '明るく', '明度', '明瞭', '明確', '易い', '映し出す', '映す', '映り', '映る', '映像', '時分', '時針', '時間', '普通', '景色', '暖め', '暴漢', '暴露', '曝さ', '曝し', '曝す', '曲がっ', '曲がり', '曲がる', '曲げ', '曲げる', '曲折', '曲線', '曲面', '更に', '更新', '書き換え', '書き換える', '書き込ま', '書き込み', '書き込む', '書き込も', '書き込ん', '書籍', '書込み', '替え', '替える', '替わり', '最も', '最上', '最下', '最低', '最低限', '最初', '最大', '最小', '最小限', '最後', '最短', '最終', '最適', '最長', '最高', '有さ', '有し', '有する', '有すれ', '有る', '有利', '有効', '有機', '有機物', '有無', '有用', '有線', '有色', '望ま', '望ましい', '望ましく', '望め', '期待', '期間', '未だ', '未満', '本件', '本体', '本意', '本数', '本明', '本有', '本来', '本質', '本願', '材料', '材質', '条件', '板の間', '析出', '枚数', '枠組み', '架橋', '柔らかい', '柔軟', '柱状', '格子', '格段', '格納', '棒状', '椅子', '検出', '検査', '検知', '検討', '検証', '楕円', '極めて', '極力', '極大', '極性', '楽しめる', '概ね', '概略', '構成', '構造', '様々', '様子', '標準', '横断', '樹脂', '橙色', '機器', '機械', '機構', '機能', '欠き', '欠乏', '欠損', '欠点', '欠陥', '次いで', '次に', '次元', '次段', '止さ', '止し', '止まっ', '正しい', '正に', '正常', '正方形', '正比例', '正確', '正規', '正面', '歩留まり', '歩留り', '歪み', '殆ど', '残さ', '残り', '残る', '残像', '残存', '残留', '残部', '段差', '段数', '段階', '比べ', '比例', '比率', '比較', '比較的', '比重', '気体', '気化', '気圧', '気密', '気泡', '水分', '水平', '水溶液', '水素', '水蒸気', '水酸基', '求め', '求める', '汎用', '汚染', '決まる', '決定', '沿う', '沿っ', '法線', '波形', '波打っ', '波状', '波長', '注入', '注目', '注視', '泳動', '洗浄', '活かす', '活性', '活用', '流さ', '流し', '流す', '流せ', '流せる', '流れ', '流れる', '流体', '流出', '流動', '流量', '浅い', '浪費', '浮き', '浮遊', '海上', '浸入', '浸透', '消光', '消去', '消失', '消滅', '消灯', '消費', '液体', '液晶', '液状', '淡い', '深い', '深く', '混入', '混合', '混在', '混成', '混色', '混雑', '添加', '清浄', '減じ', '減らさ', '減らし', '減らす', '減り', '減圧', '減少', '減衰', '渡さ', '渡っ', '渡り', '温度', '測光', '測定', '湾曲', '湿度', '湿式', '湿性', '満たし', '満たす', '準備', '溝部', '溶出', '溶剤', '溶合', '溶媒', '溶液', '溶着', '溶融', '溶解', '滑らか', '滞り', '滲む', '滴下', '漏れ', '演算', '演色', '漢字', '漫画', '潜在', '濃度', '濃淡', '濡れ', '濡れる', '灯下', '炭化', '炭素', '点在', '点数', '点灯', '無い', '無く', '無くす', '無くせ', '無機', '無機物', '無線', '無関係', '無駄', '焦点', '焼き', '焼き付き', '焼成', '照射', '照度', '照明', '熱処理', '燐光', '片側', '片手', '片方', '片面', '物上', '物体', '物性', '物理', '物質', '牲層', '特に', '特定', '特徴', '特性', '特殊', '特長', '牽引', '犠牲', '犯罪', '状態', '状況', '独立', '狭い', '狭く', '狭め', '珪素', '現れ', '現れる', '現像', '現在', '現状', '現象', '球状', '球面', '理想', '理論', '環境', '環状', '生かし', '生じ', '生じる', '生ずる', '生体', '生命', '生成', '生産', '用い', '用いる', '用いれ', '用品', '用意', '用材', '用途', '由来', '画像', '画期的', '画素', '画質', '画面', '界面', '略称', '番号', '番目', '異なっ', '異なら', '異なり', '異なる', '異常', '異物', '異種', '畳み', '疑似', '疲労', '発し', '発す', '発する', '発せ', '発信', '発光', '発振', '発振器', '発揮', '発明', '発熱', '発現', '発生', '発電', '登録', '白光', '白色', '白金', '的確', '皮膚', '皮膜', '監視', '目指す', '目的', '直交', '直列', '直前', '直径', '直後', '直接', '直接的', '直流', '直線', '直行', '相乗', '相互', '相対', '相当', '相性', '相成', '相殺', '相違', '相関', '省く', '省ける', '省略', '真っ直ぐ', '真性', '真空', '眼球', '眼鏡', '着目', '着眼', '着色', '瞬時', '矢印', '知ら', '知能', '知覚', '矩形', '短い', '短く', '短時間', '短期間', '短波', '短絡', '短縮', '石英', '研磨', '破れ', '破壊', '破損', '破断', '硫黄', '硬い', '硬化', '硬度', '確保', '確定', '確実', '確度', '確率', '確立', '確認', '磁力', '磁場', '磁性', '磁気', '示さ', '示し', '示す', '禁制', '秒針', '秩序', '移動', '移行', '程度', '種々', '種類', '稼動', '積み重なっ', '積み重なり', '積分', '積層', '積算', '空け', '空気', '空洞', '空間', '空隙', '突出', '突起', '窒化', '窒素', '立ち', '立ち上がり', '立ち上がる', '立体', '立像', '立証', '端子', '端末', '競合', '等しい', '等しく', '等間隔', '箇所', '算出', '管理', '節電', '範囲', '簡便', '簡単', '簡易', '簡略', '簡素', '粉末', '粒子', '粒状', '粘性', '粘着', '精密', '精度', '精細', '精製', '系統', '純度', '素子', '素早く', '紫外線', '累積', '細い', '細く', '細書', '細線', '細長い', '終え', '終わり', '終了', '終点', '終端', '組み合せ', '組み合わせ', '組み合わせる', '組み込ま', '組み込み', '組み込ん', '組合せ', '組成', '経る', '経時', '経由', '経路', '結ぶ', '結ん', '結合', '結晶', '結果', '絵素', '絶対', '絶縁', '継ぎ目', '続い', '続き', '続く', '続ける', '維持', '綴じ', '総和', '総数', '緑色', '線上', '線形', '線路', '緩和', '緩衝', '緻密', '縦横', '縮小', '繊細', '繊維', '繋がる', '繋げ', '繰り返し', '繰り返す', '置き換え', '置き換える', '置換', '美観', '考え', '考慮', '耐え', '耐える', '耐久', '耐圧', '耐性', '耐湿', '耐熱', '耐衝', '肉眼', '肉薄', '背景', '背面', '能力', '脱水', '脱着', '膜質', '膨張', '臨時', '臨界', '自体', '自動', '自動的', '自己', '自然', '自由', '自発', '自身', '自転', '臭素', '至っ', '至ら', '良い', '良く', '良品', '良好', '良質', '色素', '色調', '芳香', '若しくは', '荷重', '落ち', '落とし', '落とす', '著しく', '蒸発', '蒸着', '蓄える', '蓄えれ', '蓄光', '蓄熱', '蓄積', '蓄電', '薄い', '薄く', '薄型', '薄暗い', '薄膜', '薄膜トランジスタ', '虚像', '蛇腹', '蛇行', '蛍光', '蝶番', '融合', '融点', '行い', '行う', '行え', '行える', '行く', '行っ', '行なう', '行わ', '行方', '行為', '衝撃', '衝突', '表さ', '表し', '表す', '表れる', '表わさ', '表わす', '表側', '表層', '表現', '表示', '表裏', '表記', '表面', '被写体', '被膜', '被覆', '装填', '装着', '装置', '裏側', '裏面', '補う', '補っ', '補償', '補助', '補填', '補正', '補色', '補間', '製品', '製造', '複合', '複数', '複数個', '複素', '複雑', '要し', '要する', '要因', '要旨', '要求', '要素', '覆い', '覆う', '覆っ', '覆わ', '見いだし', '見え', '見える', '見かけ', '見やすく', '見る', '見出し', '見出す', '見合っ', '見越し', '見込める', '見込ん', '規則', '規定', '規格', '規模', '規正', '視差', '視点', '視覚', '視認', '視野', '親和', '親和力', '観察', '観測', '観点', '角度', '角柱', '角錐', '解像度', '解放', '解明', '解析', '解決', '解消', '触れ', '触れる', '触媒', '言い', '言い換え', '計り', '計測', '計算', '記号', '記憶', '記録', '設け', '設ける', '設けれ', '設定', '設置', '設計', '許容', '評価', '試験', '詰まり', '詰まる', '該一', '該上', '該低', '該信', '該側', '該光', '該六', '該凸', '該半', '該回', '該基', '該対', '該封', '該導', '該層', '該平', '該当', '該微', '該曲', '該有', '該材', '該樹', '該正', '該活', '該溶', '該炭', '該熱', '該燐', '該物', '該犠', '該発', '該第', '該筐', '該膜', '該表', '該被', '該複', '該透', '該配', '該酸', '該針', '該閾', '該電', '該非', '該面', '該領', '該高', '認知', '認識', '誘導', '誘導体', '誘起', '誘電', '誤動作', '誤操作', '読み出し', '読み出す', '読み取り', '読み取る', '読み込ん', '読む', '読ん', '読込み', '課程', '課題', '調整', '調法', '調節', '調製', '請求', '論理', '識別', '豊か', '豊富', '負担', '負荷', '貢献', '貫く', '貫通', '貯まっ', '費用', '貼っ', '貼り', '貼る', '質量', '赤色', '走査', '起き', '起こす', '起こら', '起こり', '起こる', '起因', '起点', '起電', '超え', '超える', '越える', '足かせ', '足し', '距離', '路上', '身体', '車内', '軌跡', '軌道', '軟質', '転写', '転換', '転移', '転置', '転載', '転送', '軽く', '軽減', '軽量', '載せ', '輝度', '輪郭', '輸送', '込み', '込む', '近い', '近く', '近づく', '近づける', '近傍', '近接', '近赤外線', '迫り出す', '追加', '追従', '追求', '送り', '送る', '送信', '送受信', '送電', '透明', '透水', '透過', '逐次', '途中', '通さ', '通し', '通す', '通っ', '通り', '通り抜け', '通る', '通信', '通常', '通話', '通過', '速い', '速く', '速め', '速やか', '速度', '速成', '連なっ', '連結', '連絡', '連続', '進む', '進める', '進ん', '進数', '進行', '逸脱', '遅い', '遅れ', '遅延', '遊技', '遊離', '運転', '過剰', '過多', '過大', '過程', '達し', '達する', '達成', '違い', '違和感', '遠い', '遠く', '遠ざかる', '遠ざけ', '遠ざける', '適し', '適切', '適宜', '適度', '適当', '適時', '適用', '遮っ', '遮ら', '遮る', '遮光', '遮断', '遮蔽', '遷移', '選ば', '選ん', '選定', '選択', '選択肢', '避け', '避ける', '還元', '部位', '部分', '部品', '部材', '都度', '配さ', '配し', '配する', '配列', '配向', '配線', '配置', '酸化', '酸素', '重い', '重なっ', '重なら', '重なり', '重なる', '重ね', '重ねる', '重ね合わ', '重ね合わさ', '重み', '重み付け', '重る', '重合', '重心', '重水', '重水素', '重畳', '重要', '重量', '量子', '量産', '金属', '鋭角', '錯体', '鑑み', '長い', '長く', '長寿', '長手', '長方形', '長時間', '長期', '長期間', '長波', '長距離', '閉じ', '閉じ込め', '閉じ込める', '閉塞', '閉曲線', '開い', '開け', '開口', '開始', '開放', '開示', '開閉', '間欠', '間隔', '間隙', '関わら', '関係', '関数', '関連付け', '閲覧', '閾値', '防い', '防ぎ', '防ぐ', '防げる', '防止', '防湿', '防犯', '阻害', '阻止', '降下', '限ら', '限り', '限定', '除い', '除く', '除去', '陰性', '陰極', '陽極', '階段', '隔て', '隔てる', '隔壁', '隔離', '隙間', '際し', '障壁', '障害', '隣り', '隣合う', '隣合っ', '隣接', '集中', '集合', '集積', '雑音', '離さ', '離し', '離す', '離れ', '離散', '離脱', '離間', '離隔', '難い', '難く', '雰囲気', '電位', '電位差', '電力', '電圧', '電場', '電子', '電材', '電極', '電気', '電池', '電流', '電源', '電球', '電界', '電磁波', '電荷', '電解', '電話', '電話機', '電送', '露光', '露出', '露呈', '露点', '青色', '静止', '静電気', '非対称', '非常', '非常時', '非破壊', '非線形', '非金属', '面する', '面取り', '面積', '面部', '頂点', '順に', '順序', '順次', '順番', '領域', '頭部', '頻度', '頻繁', '額縁', '顔料', '顔面', '顕在', '顕微鏡', '顕著', '飛び出す', '飛ぶ', '飛行', '飽和', '駆動', '骨子', '骨格', '高い', '高く', '高けれ', '高まっ', '高まる', '高め', '高める', '高低', '高信頼', '高分子', '高周波', '高品', '高圧', '高密度', '高性能', '高温', '高画質', '高速', '高階', '鮮やか', '鮮明', '黄色', '黒色', '００７', '１つ', '２つ', '３つ', '４つ', '５つ', '６つ', 'ａｌ', 'ａｌxｎy', 'ａｌｍｇ', 'ａｌｎ', 'ａｌｎxｏy', 'ａｒ', 'ａｔｏｍｓ', 'ｂａｆ', 'ｂｃｌ', 'ｂｇｒ', 'ｂｉ', 'ｂｍ', 'ｂｔ', 'ｃａ', 'ｃａｆ', 'ｃｄ', 'ｃｅ', 'ｃｆ', 'ｃｉｅ', 'ｃｋ', 'ｃｋｂ', 'ｃｌ', 'ｃｍ', 'ｃｍｏｓ', 'ｃｍｐ', 'ｃｏ', 'ｃｏｇ', 'ｃｐｕ', 'ｃｒ', 'ｃｓ', 'ｃｕ', 'ｃｖｄ', 'ｃｚ', 'ｄａｙ', 'ｄｂｑ', 'ｄｃ', 'ｄｌｃ', 'ｄｍｆ', 'ｄｔ', 'ｅl', 'ｅｃ', 'ｅｄｍｏｓ', 'ｅｅｘ', 'ｅｇ', 'ｅｌ', 'ｅｍ', 'ｅｓｄ', 'ｅｔ', 'ｅｔｃｈｅｄｅｘｐｏｎｅｎｔｉａｌｆｕｎｃｔｉｏｎ', 'ｅｖ', 'ｅｘｐ', 'ｆ１', 'ｆｃ', 'ｆｅ', 'ｆｅｔ', 'ｆｐｃ', 'ｆｒａｐｒｎ', 'ｇ１', 'ｇ２', 'ｇ７', 'ｇａ', 'ｇａｏｘ', 'ｇｂｊ', 'ｇｄ', 'ｇｅ', 'ｇｇｊ', 'ｇｍ', 'ｇｎｄ', 'ｇｏｌｄ', 'ｇｐａ', 'ｇｐｕ', 'ｇｒｊ', 'ｇｒｔａ', 'ｇｗｅ', 'ｈ２', 'ｈｄｒ', 'ｈｅｔ', 'ｈｉｇｈ', 'ｈｏｍｏ', 'ｉds', 'ｉｃ', 'ｉｃｐ', 'ｉｄ', 'ｉｄａｔａ', 'ｉｄｓ', 'ｉｇｚｏ', 'ｉｉｉ', 'ｉｎ', 'ｉｎｍ', 'ｉｎｍｏ', 'ｉｎｍｚｎｏｘ', 'ｉｎｘｇａｙｏ', 'ｉｏｎｓ', 'ｉｒ', 'ｉｒｌ', 'ｉｔｏ', 'ｊｉｓ', 'ｋｐａ', 'ｌａ', 'ｌｃ', 'ｌｄ', 'ｌｄｄ', 'ｌｅｄ', 'ｌｉ', 'ｌｏ', 'ｌｏｆｆ', 'ｌｏｖ', 'ｌｏｗ', 'ｌｐｓａｓ', 'ｌｒｔａ', 'ｌｕｍｏ', 'ｍａ', 'ｍｂ', 'ｍｅｖ', 'ｍｇ', 'ｍｇａｇ', 'ｍｇｆ', 'ｍｈｚ', 'ｍｉｎ', 'ｍｍ', 'ｍｎ', 'ｍｎｘ', 'ｍｏ', 'ｍｓ', 'ｎａ', 'ｎａｎｄ', 'ｎｂｐｈｅｎ', 'ｎｂｓ', 'ｎｄ', 'ｎｉ', 'ｎｉｓ', 'ｎｍ', 'ｎｓ', 'ｎｔｓｃ', 'ｏｆｆ', 'ｏｈ', 'ｏｈｈｏ', 'ｏｌｅｄ', 'ｏｍｏ', 'ｏｎ', 'ｏｓ', 'ｏｕｔ', 'ｏｙｇｔｂｉｆ', 'ｐａ', 'ｐｃ', 'ｐｄ', 'ｐｄｌｃ', 'ｐｈ', 'ｐｉｎ', 'ｐｌ', 'ｐｌｄ', 'ｐｎｌｃ', 'ｐｐｂ', 'ｐｐｉ', 'ｐｐｍ', 'ｐｔｃｔｈｅｒｍｉｎｔｏｒ', 'ｐｖａ', 'ｐｗｂ', 'ｐｗｃ', 'ｐｙ', 'ｑ２', 'ｒ１２', 'ｒａ', 'ｒｆ', 'ｒｇｂｗ', 'ｒｇｂｙ', 'ｓａｍ', 'ｓｅ', 'ｓｅｃ', 'ｓｉ', 'ｓｉｃｌ', 'ｓｉｈ', 'ｓｉｍｓ', 'ｓｉｎ', 'ｓｉｎｇｌｅｅｘｐｏｎｅｎｔｉａｌｆｕｎｃｔｉｏｎ', 'ｓｉｏ', 'ｓｉｏｘ', 'ｓｋ', 'ｓｌ', 'ｓｌａ', 'ｓｌｂ', 'ｓｎ', 'ｓｎａ', 'ｓｎｂ', 'ｓｎｃ', 'ｓｎｒ', 'ｓｏｉ', 'ｓｏｍｏ', 'ｓｐ', 'ｓｐｉｎｓ', 'ｓｒａｍ', 'ｓｔａｔｉｃｒａｎｄｏｍａｃｃｅｓｓｍｅｍｏｒｙ', 'ｓｗ', 'ｔａｂ', 'ｔａｄｆ', 'ｔａｎ', 'ｔｃｐ', 'ｔｅｇ', 'ｔｅｒｔ', 'ｔｆｔ', 'ｔｆｔｔｒ', 'ｔｈａｐｒｎ', 'ｔｈｉｎｆｉｌｍｔｒａｎｓｉｓｔｏｒ', 'ｔｉ', 'ｔｉｎ', 'ｔｏｆ', 'ｔｐａｐｑ', 'ｔｒ', 'ｔｔａ', 'ｖds', 'ｖgs', 'ｖth', 'ｖ２', 'ｖａｎｏ', 'ｖｃａｔ', 'ｖｄａｔａ', 'ｖｄｄ', 'ｖｄｓ', 'ｖｇｓ', 'ｖｈｆ', 'ｖｉｄｅｏ', 'ｖｋ', 'ｖｓ', 'ｖｓｓ', 'ｖｔｈ', 'ｖｔｈｎ', 'ｗｔ', 'ｘ線', 'ｘｍ', 'ｙｎ', 'ｚｎ', 'ｚｎｏ', 'ｚｒ']\n",
            "3827\n",
            "(4264, 3827)\n"
          ]
        },
        {
          "output_type": "stream",
          "name": "stderr",
          "text": [
            "/usr/local/lib/python3.7/dist-packages/sklearn/utils/deprecation.py:87: FutureWarning: Function get_feature_names is deprecated; get_feature_names is deprecated in 1.0 and will be removed in 1.2. Please use get_feature_names_out instead.\n",
            "  warnings.warn(msg, category=FutureWarning)\n"
          ]
        }
      ]
    },
    {
      "cell_type": "code",
      "source": [
        "from sklearn.feature_extraction.text import TfidfTransformer\n",
        "\n",
        "transformer = TfidfTransformer(smooth_idf=False)\n",
        "tfidf = transformer.fit_transform(X)\n",
        "tfidf.toarray()"
      ],
      "metadata": {
        "colab": {
          "base_uri": "https://localhost:8080/"
        },
        "id": "6rgEnHYKjOJ-",
        "outputId": "881f747e-9d76-45c1-e747-ca2743b81135"
      },
      "execution_count": null,
      "outputs": [
        {
          "output_type": "execute_result",
          "data": {
            "text/plain": [
              "array([[0., 0., 0., ..., 0., 0., 0.],\n",
              "       [0., 0., 0., ..., 0., 0., 0.],\n",
              "       [0., 0., 0., ..., 0., 0., 0.],\n",
              "       ...,\n",
              "       [0., 0., 0., ..., 0., 0., 0.],\n",
              "       [0., 0., 0., ..., 0., 0., 0.],\n",
              "       [0., 0., 0., ..., 0., 0., 0.]])"
            ]
          },
          "metadata": {},
          "execution_count": 126
        }
      ]
    },
    {
      "cell_type": "code",
      "source": [
        "print(tfidf.shape)\n",
        "print(tfidf[0].sum())\n",
        "print(tfidf[1].sum())\n",
        "print(tfidf[2].sum())"
      ],
      "metadata": {
        "colab": {
          "base_uri": "https://localhost:8080/"
        },
        "id": "hgb9dG-ojYya",
        "outputId": "c69bfe44-cd91-4b44-dabf-a0488b6afde0"
      },
      "execution_count": null,
      "outputs": [
        {
          "output_type": "stream",
          "name": "stdout",
          "text": [
            "(4264, 3827)\n",
            "4.268913343992472\n",
            "4.268913343992472\n",
            "4.768675102148696\n"
          ]
        }
      ]
    },
    {
      "cell_type": "markdown",
      "source": [
        "# Fine-Tuningのパラメータ最適化"
      ],
      "metadata": {
        "id": "k-wrAefAFy8E"
      }
    },
    {
      "cell_type": "code",
      "source": [
        "!pip install optuna | tail -n 1"
      ],
      "metadata": {
        "id": "SZ4YgiWNIwln",
        "colab": {
          "base_uri": "https://localhost:8080/"
        },
        "outputId": "d1299787-f012-4b79-d934-15768a965670"
      },
      "execution_count": null,
      "outputs": [
        {
          "output_type": "stream",
          "name": "stdout",
          "text": [
            "Successfully installed Mako-1.1.6 alembic-1.7.6 autopage-0.5.0 cliff-3.10.0 cmaes-0.8.2 cmd2-2.3.3 colorlog-6.6.0 optuna-2.10.0 pbr-5.8.0 pyperclip-1.8.2 stevedore-3.5.0\n"
          ]
        }
      ]
    },
    {
      "cell_type": "code",
      "execution_count": null,
      "metadata": {
        "id": "ce7aae14-017e-4f2a-8a53-65f898931896"
      },
      "outputs": [],
      "source": [
        "import os\n",
        "import time\n",
        "import tqdm\n",
        "import argparse\n",
        "import random\n",
        "import numpy as np\n",
        "import pandas as pd\n",
        "\n",
        "from sklearn.utils import class_weight\n",
        "from sklearn.model_selection import train_test_split\n",
        "from sklearn.metrics import confusion_matrix, accuracy_score, precision_score, recall_score, f1_score\n",
        "\n",
        "import torch\n",
        "import torch.nn as nn\n",
        "import torch.optim as optim\n",
        "import torch.nn.functional as F\n",
        "from transformers import BertModel, BertConfig\n",
        "from transformers import BertJapaneseTokenizer"
      ]
    },
    {
      "cell_type": "code",
      "execution_count": null,
      "metadata": {
        "id": "fc671dc3-d70e-499a-9ff8-3b97c8563a3b",
        "outputId": "e1ed595d-52ec-4275-ff7b-40c7c26127e7",
        "colab": {
          "base_uri": "https://localhost:8080/"
        }
      },
      "outputs": [
        {
          "output_type": "stream",
          "name": "stdout",
          "text": [
            "cpu\n"
          ]
        }
      ],
      "source": [
        "device = torch.device(\"cuda:0\" if torch.cuda.is_available() else \"cpu\")\n",
        "print(device)"
      ]
    },
    {
      "cell_type": "code",
      "execution_count": null,
      "metadata": {
        "id": "f08960b9-222d-49d8-942a-d628dfd3f56b"
      },
      "outputs": [],
      "source": [
        "# 乱数シード固定（再現性の担保）\n",
        "def fix_seed(seed):\n",
        "    random.seed(seed)\n",
        "    np.random.seed(seed)\n",
        "    torch.manual_seed(seed)\n",
        "    torch.cuda.manual_seed_all(seed)\n",
        "    torch.backends.cudnn.deterministic = True  # Pytorchの再現性確保\n",
        "    torch.backends.cudnn.benchmark = False     # True:再現性無くなるが高速化\n",
        "\n",
        "seed = 42\n",
        "fix_seed(seed)\n",
        "\n",
        "# データローダーのサブプロセスの乱数seedが固定\n",
        "def worker_init_fn(worker_id):\n",
        "    np.random.seed(np.random.get_state()[1][0] + worker_id)"
      ]
    },
    {
      "cell_type": "markdown",
      "metadata": {
        "tags": [],
        "id": "50a7d2fb-fcb7-410b-8ff1-74b2c4f071b6"
      },
      "source": [
        "## 1-1. 元データの読込"
      ]
    },
    {
      "cell_type": "code",
      "execution_count": null,
      "metadata": {
        "id": "c407a55f-a60f-4bf4-866b-b0af1fa8d92b"
      },
      "outputs": [],
      "source": [
        "with open(\"./drive/MyDrive/Classification.txt\", encoding=\"utf-8\") as text:\n",
        "    data = text.readlines()"
      ]
    },
    {
      "cell_type": "code",
      "execution_count": null,
      "metadata": {
        "id": "19670f0c-c730-4f2e-9ac2-5fb39482adfb"
      },
      "outputs": [],
      "source": [
        "label_list = []\n",
        "text_list  = []\n",
        "for i in range(len(data)):\n",
        "    label, text = data[i].split(\"\\t\")   # labelとtextを\\tで分割\n",
        "    text = text.replace(\"\\n\",\"\")        # 最後の改行を除去\n",
        "    label_list.append(label)\n",
        "    text_list.append(text)"
      ]
    },
    {
      "cell_type": "markdown",
      "metadata": {
        "tags": [],
        "id": "d0aa1b1f-4e0d-422e-9127-cb62eb457e95"
      },
      "source": [
        "## 1-4. 2値分類のデータ作成"
      ]
    },
    {
      "cell_type": "code",
      "execution_count": null,
      "metadata": {
        "id": "89eded7d-283b-4dc0-859f-dc4682d94e5c"
      },
      "outputs": [],
      "source": [
        "label_dict = {\"AA\":1, \"A\":1, \"B\":1, \"C\":1, \"D\":0, \"Z\":0, \"nan\":0}\n",
        "label_list_onehot = []\n",
        "for i in range(len(label_list)):\n",
        "    new_label = label_dict[label_list[i]]\n",
        "    label_list_onehot.append(new_label)"
      ]
    },
    {
      "cell_type": "code",
      "execution_count": null,
      "metadata": {
        "id": "f6f6b47d-bc0e-4ddc-af8b-e3b8aba426b8",
        "outputId": "8bd6adb7-7fc5-4f77-d9a6-bfb5739934d3",
        "colab": {
          "base_uri": "https://localhost:8080/"
        }
      },
      "outputs": [
        {
          "output_type": "stream",
          "name": "stdout",
          "text": [
            "train: 3411 , test: 853\n"
          ]
        }
      ],
      "source": [
        "X_train, X_test, y_train, y_test = train_test_split(text_list, label_list_onehot, test_size=0.2, random_state=seed, stratify=label_list_onehot)\n",
        "print(\"train:\", len(X_train), \", test:\", len(X_test))"
      ]
    },
    {
      "cell_type": "markdown",
      "metadata": {
        "tags": [],
        "id": "35eab439-2d09-4047-ba2e-006f50177811"
      },
      "source": [
        "## 2-1 2文入力タスクのためのデータ準備"
      ]
    },
    {
      "cell_type": "code",
      "execution_count": null,
      "metadata": {
        "id": "ddb7b257-b1a2-49fe-b83b-64eb6a6115b2",
        "outputId": "541fd183-cf57-4886-c720-5ce43d8ccc7a",
        "colab": {
          "base_uri": "https://localhost:8080/"
        }
      },
      "outputs": [
        {
          "output_type": "stream",
          "name": "stderr",
          "text": [
            "Some weights of the model checkpoint at cl-tohoku/bert-base-japanese-whole-word-masking were not used when initializing BertModel: ['cls.predictions.transform.LayerNorm.bias', 'cls.seq_relationship.weight', 'cls.seq_relationship.bias', 'cls.predictions.decoder.weight', 'cls.predictions.transform.dense.weight', 'cls.predictions.transform.LayerNorm.weight', 'cls.predictions.transform.dense.bias', 'cls.predictions.bias']\n",
            "- This IS expected if you are initializing BertModel from the checkpoint of a model trained on another task or with another architecture (e.g. initializing a BertForSequenceClassification model from a BertForPreTraining model).\n",
            "- This IS NOT expected if you are initializing BertModel from the checkpoint of a model that you expect to be exactly identical (initializing a BertForSequenceClassification model from a BertForSequenceClassification model).\n"
          ]
        }
      ],
      "source": [
        "dir_name = 'cl-tohoku/bert-base-japanese-whole-word-masking'\n",
        "tknz = BertJapaneseTokenizer.from_pretrained(dir_name)\n",
        "bert = BertModel.from_pretrained(dir_name)"
      ]
    },
    {
      "cell_type": "markdown",
      "source": [
        "target.txt無いから代用"
      ],
      "metadata": {
        "id": "7aMePwh3QIms"
      }
    },
    {
      "cell_type": "code",
      "execution_count": null,
      "metadata": {
        "id": "2026b53c-9d0d-425f-9b49-96583e3951ae"
      },
      "outputs": [],
      "source": [
        "# ２文入力の作成\n",
        "ref = X_train[0]\n",
        "X_train_pair = [tknz.sep_token.join([ref, sent]) for sent in X_train]\n",
        "X_test_pair  = [tknz.sep_token.join([ref, sent]) for sent in X_test]"
      ]
    },
    {
      "cell_type": "markdown",
      "metadata": {
        "tags": [],
        "id": "8729a87f-ac87-403e-a506-8e8a06e9bf68"
      },
      "source": [
        "## 2-2. バッチ処理有り・重み無し"
      ]
    },
    {
      "cell_type": "code",
      "execution_count": null,
      "metadata": {
        "id": "57fc03cb-a76b-4808-afbb-c6afa7e7767d"
      },
      "outputs": [],
      "source": [
        "from torch.utils.data import Dataset, DataLoader\n",
        "from torch.nn.utils.rnn import pad_sequence\n",
        "class Dcl_Dataset(Dataset):\n",
        "    def __init__(self, xdata, ydata):\n",
        "        self.data = xdata\n",
        "        self.label = ydata\n",
        "    def __len__(self):\n",
        "        return len(self.label)\n",
        "    def __getitem__(self, idx):\n",
        "        x = self.data[idx]\n",
        "        y = self.label[idx]\n",
        "        return (x,y)\n",
        "\n",
        "def Dcl_collate_fn(batch):\n",
        "    texts, labels= list(zip(*batch))\n",
        "    tokens = list([tknz.encode(text) for text in texts])\n",
        "    labels = list(labels)\n",
        "    return tokens, labels"
      ]
    },
    {
      "cell_type": "code",
      "execution_count": null,
      "metadata": {
        "id": "2205cde7-adc1-4f01-ab07-adc541cf309d"
      },
      "outputs": [],
      "source": [
        "# batch処理に対応するため、bertのforward部分を修正\n",
        "class DocCls(nn.Module):\n",
        "    def __init__(self, bert):\n",
        "        super().__init__()\n",
        "        self.bert = bert\n",
        "        self.cls  = nn.Linear(768, 2)\n",
        "    \n",
        "    def forward(self,x1,x2):\n",
        "        bout = self.bert(input_ids=x1, attention_mask=x2)\n",
        "        bs   = len(bout[0])\n",
        "        h0   = [bout[0][i][0] for i in range(bs)]\n",
        "        h0 = torch.stack(h0, dim=0)\n",
        "        return self.cls(h0)"
      ]
    },
    {
      "cell_type": "code",
      "execution_count": null,
      "metadata": {
        "id": "00b0e7cd-1cc7-4722-9971-3671c629c3b0"
      },
      "outputs": [],
      "source": [
        "# 結果出力用の関数定義\n",
        "def check_score(true_list, pred_list, multi=False):\n",
        "    if multi:\n",
        "        acc  = accuracy_score(true_list, pred_list)\n",
        "        rec  = recall_score(true_list, pred_list, average=None)\n",
        "        f1   = f1_score(true_list, pred_list, average=None)\n",
        "    else:\n",
        "        acc  = accuracy_score(true_list, pred_list)\n",
        "        rec  = recall_score(true_list, pred_list)\n",
        "        f1   = f1_score(true_list, pred_list)\n",
        "    return acc, rec, f1"
      ]
    },
    {
      "cell_type": "code",
      "execution_count": null,
      "metadata": {
        "id": "c2a36741-f41b-4ea7-bc8a-71bb986a1ebd"
      },
      "outputs": [],
      "source": [
        "batch_size = 5\n",
        "train_set = Dcl_Dataset(X_train_pair, y_train)\n",
        "train_loader = DataLoader(train_set, batch_size=batch_size,\n",
        "                          shuffle=True, collate_fn=Dcl_collate_fn,\n",
        "                          num_workers=2, pin_memory=True, worker_init_fn=worker_init_fn)\n",
        "test_set = Dcl_Dataset(X_test_pair, y_test)\n",
        "test_loader = DataLoader(test_set, batch_size=batch_size,\n",
        "                         shuffle=True, collate_fn=Dcl_collate_fn, \n",
        "                         num_workers=2, pin_memory=True, worker_init_fn=worker_init_fn)"
      ]
    },
    {
      "cell_type": "code",
      "source": [
        "#build model\n",
        "dir_name = 'cl-tohoku/bert-base-japanese-whole-word-masking'\n",
        "tokenizer = BertJapaneseTokenizer.from_pretrained(dir_name)\n",
        "bert = BertModel.from_pretrained(dir_name)\n",
        "model = DocCls(bert).to(device)\n",
        "criterion = nn.CrossEntropyLoss()\n",
        "softmax = nn.Softmax(dim=1)"
      ],
      "metadata": {
        "colab": {
          "base_uri": "https://localhost:8080/"
        },
        "id": "MPPqeEJYWvlU",
        "outputId": "647f3306-94cc-4bd7-b3de-54177276d0a9"
      },
      "execution_count": null,
      "outputs": [
        {
          "output_type": "stream",
          "name": "stderr",
          "text": [
            "Some weights of the model checkpoint at cl-tohoku/bert-base-japanese-whole-word-masking were not used when initializing BertModel: ['cls.predictions.transform.LayerNorm.bias', 'cls.seq_relationship.weight', 'cls.seq_relationship.bias', 'cls.predictions.decoder.weight', 'cls.predictions.transform.dense.weight', 'cls.predictions.transform.LayerNorm.weight', 'cls.predictions.transform.dense.bias', 'cls.predictions.bias']\n",
            "- This IS expected if you are initializing BertModel from the checkpoint of a model trained on another task or with another architecture (e.g. initializing a BertForSequenceClassification model from a BertForPreTraining model).\n",
            "- This IS NOT expected if you are initializing BertModel from the checkpoint of a model that you expect to be exactly identical (initializing a BertForSequenceClassification model from a BertForSequenceClassification model).\n"
          ]
        }
      ]
    },
    {
      "cell_type": "code",
      "source": [
        "# define forward\n",
        "def forward_step(batch_data, model, tokenizer, Predict=False):\n",
        "    # get inputs and outputs\n",
        "    xs, ys = batch_data\n",
        "    xs_pad, xmsk = [], []\n",
        "    for token_idx in range(len(xs)):   # batch処理(長さの異なる入力)のためにMASK入力を用意\n",
        "        token_id = xs[token_idx]\n",
        "        xs_pad.append(torch.LongTensor(token_id))\n",
        "        xmsk.append(torch.LongTensor([1] * len(token_id)))\n",
        "    xs_pad  = pad_sequence(xs_pad, batch_first=True).to(device)\n",
        "    xmsk    = pad_sequence(xmsk, batch_first=True).to(device)\n",
        "    ys = torch.LongTensor(ys).to(device)\n",
        "    # forward\n",
        "    outputs = model(xs_pad,xmsk)\n",
        "    if Predict:\n",
        "        pred = torch.argmax(softmax(outputs),dim=1)\n",
        "        true_list.extend(ys.flatten().cpu().numpy())\n",
        "        pred_list.extend(pred.flatten().cpu().numpy())\n",
        "    loss = criterion(outputs, ys)\n",
        "    return loss"
      ],
      "metadata": {
        "id": "yOD3bbOEXDCz"
      },
      "execution_count": null,
      "outputs": []
    },
    {
      "cell_type": "code",
      "source": [
        "import optuna"
      ],
      "metadata": {
        "id": "RPMcG7F4bJiw"
      },
      "execution_count": null,
      "outputs": []
    },
    {
      "cell_type": "code",
      "execution_count": null,
      "metadata": {
        "id": "58e546a9-9f9f-4286-8217-f9a63314ba0b"
      },
      "outputs": [],
      "source": [
        "def objective(trial):\n",
        "\n",
        "    # build optimizer\n",
        "    optimizer_name = trial.suggest_categorical(\"optimizer\", [\"Adam\", \"AdamW\", \"SGD\"])\n",
        "    lr = trial.suggest_float(\"lr\", 1e-5, 1e-1, log=True)\n",
        "    optimizer = getattr(optim, optimizer_name)(model.parameters(), lr=lr)\n",
        "        \n",
        "    print(\"----- Train start -----\")\n",
        "    n_step = 0\n",
        "    best_f1 = 0\n",
        "    for epoch_idx in range(10):\n",
        "        for train_batch in train_loader:\n",
        "            n_step += 1\n",
        "            \n",
        "            # forward\n",
        "            model.train()\n",
        "            loss = forward_step(train_batch, model, tokenizer)\n",
        "            # backward\n",
        "            loss.backward()\n",
        "            del loss\n",
        "            # update model parameters\n",
        "            optimizer.step()\n",
        "            # zero gradients\n",
        "            optimizer.zero_grad()\n",
        "\n",
        "        # evaluation on dev dataset\n",
        "        with torch.no_grad():\n",
        "            model.eval()\n",
        "            eval_model = model\n",
        "            true_list, pred_list = [], []\n",
        "            for test_batch in test_loader:\n",
        "                loss = forward_step(test_batch, eval_model, tokenizer, Predict=True)\n",
        "                dev_rep = loss.item()\n",
        "            acc, rec, f1 = check_score(true_list, pred_list)\n",
        "\n",
        "        trial.report(f1, epoch_idx)\n",
        "\n",
        "        # Handle pruning based on the intermediate value.\n",
        "        if trial.should_prune():\n",
        "            print(\"prune!!\")\n",
        "            raise optuna.exceptions.TrialPruned()\n",
        "\n",
        "    return f1"
      ]
    },
    {
      "cell_type": "code",
      "execution_count": null,
      "metadata": {
        "scrolled": true,
        "tags": [],
        "id": "712ec2e1-047b-4c21-af37-5b0230db89d3",
        "outputId": "cf95d700-e91e-4c67-c2c2-3662a20ac93c",
        "colab": {
          "base_uri": "https://localhost:8080/",
          "height": 445
        }
      },
      "outputs": [
        {
          "output_type": "stream",
          "name": "stderr",
          "text": [
            "\u001b[32m[I 2022-02-04 06:35:35,030]\u001b[0m A new study created in memory with name: no-name-d4d108b4-daac-4a91-9911-5c605f086f56\u001b[0m\n"
          ]
        },
        {
          "output_type": "stream",
          "name": "stdout",
          "text": [
            "----- Train start -----\n"
          ]
        },
        {
          "output_type": "error",
          "ename": "KeyboardInterrupt",
          "evalue": "ignored",
          "traceback": [
            "\u001b[0;31m---------------------------------------------------------------------------\u001b[0m",
            "\u001b[0;31mKeyboardInterrupt\u001b[0m                         Traceback (most recent call last)",
            "\u001b[0;32m<ipython-input-192-819d3c361188>\u001b[0m in \u001b[0;36m<module>\u001b[0;34m()\u001b[0m\n\u001b[1;32m      1\u001b[0m \u001b[0mstudy\u001b[0m \u001b[0;34m=\u001b[0m \u001b[0moptuna\u001b[0m\u001b[0;34m.\u001b[0m\u001b[0mcreate_study\u001b[0m\u001b[0;34m(\u001b[0m\u001b[0mdirection\u001b[0m\u001b[0;34m=\u001b[0m\u001b[0;34m\"maximize\"\u001b[0m\u001b[0;34m)\u001b[0m\u001b[0;34m\u001b[0m\u001b[0;34m\u001b[0m\u001b[0m\n\u001b[0;32m----> 2\u001b[0;31m \u001b[0mstudy\u001b[0m\u001b[0;34m.\u001b[0m\u001b[0moptimize\u001b[0m\u001b[0;34m(\u001b[0m\u001b[0mobjective\u001b[0m\u001b[0;34m,\u001b[0m \u001b[0mn_trials\u001b[0m\u001b[0;34m=\u001b[0m\u001b[0;36m100\u001b[0m\u001b[0;34m)\u001b[0m\u001b[0;34m\u001b[0m\u001b[0;34m\u001b[0m\u001b[0m\n\u001b[0m\u001b[1;32m      3\u001b[0m \u001b[0;34m\u001b[0m\u001b[0m\n\u001b[1;32m      4\u001b[0m \u001b[0mpruned_trials\u001b[0m \u001b[0;34m=\u001b[0m \u001b[0mstudy\u001b[0m\u001b[0;34m.\u001b[0m\u001b[0mget_trials\u001b[0m\u001b[0;34m(\u001b[0m\u001b[0mdeepcopy\u001b[0m\u001b[0;34m=\u001b[0m\u001b[0;32mFalse\u001b[0m\u001b[0;34m,\u001b[0m \u001b[0mstates\u001b[0m\u001b[0;34m=\u001b[0m\u001b[0;34m[\u001b[0m\u001b[0mTrialState\u001b[0m\u001b[0;34m.\u001b[0m\u001b[0mPRUNED\u001b[0m\u001b[0;34m]\u001b[0m\u001b[0;34m)\u001b[0m\u001b[0;34m\u001b[0m\u001b[0;34m\u001b[0m\u001b[0m\n\u001b[1;32m      5\u001b[0m \u001b[0mcomplete_trials\u001b[0m \u001b[0;34m=\u001b[0m \u001b[0mstudy\u001b[0m\u001b[0;34m.\u001b[0m\u001b[0mget_trials\u001b[0m\u001b[0;34m(\u001b[0m\u001b[0mdeepcopy\u001b[0m\u001b[0;34m=\u001b[0m\u001b[0;32mFalse\u001b[0m\u001b[0;34m,\u001b[0m \u001b[0mstates\u001b[0m\u001b[0;34m=\u001b[0m\u001b[0;34m[\u001b[0m\u001b[0mTrialState\u001b[0m\u001b[0;34m.\u001b[0m\u001b[0mCOMPLETE\u001b[0m\u001b[0;34m]\u001b[0m\u001b[0;34m)\u001b[0m\u001b[0;34m\u001b[0m\u001b[0;34m\u001b[0m\u001b[0m\n",
            "\u001b[0;32m/usr/local/lib/python3.7/dist-packages/optuna/study/study.py\u001b[0m in \u001b[0;36moptimize\u001b[0;34m(self, func, n_trials, timeout, n_jobs, catch, callbacks, gc_after_trial, show_progress_bar)\u001b[0m\n\u001b[1;32m    407\u001b[0m             \u001b[0mcallbacks\u001b[0m\u001b[0;34m=\u001b[0m\u001b[0mcallbacks\u001b[0m\u001b[0;34m,\u001b[0m\u001b[0;34m\u001b[0m\u001b[0;34m\u001b[0m\u001b[0m\n\u001b[1;32m    408\u001b[0m             \u001b[0mgc_after_trial\u001b[0m\u001b[0;34m=\u001b[0m\u001b[0mgc_after_trial\u001b[0m\u001b[0;34m,\u001b[0m\u001b[0;34m\u001b[0m\u001b[0;34m\u001b[0m\u001b[0m\n\u001b[0;32m--> 409\u001b[0;31m             \u001b[0mshow_progress_bar\u001b[0m\u001b[0;34m=\u001b[0m\u001b[0mshow_progress_bar\u001b[0m\u001b[0;34m,\u001b[0m\u001b[0;34m\u001b[0m\u001b[0;34m\u001b[0m\u001b[0m\n\u001b[0m\u001b[1;32m    410\u001b[0m         )\n\u001b[1;32m    411\u001b[0m \u001b[0;34m\u001b[0m\u001b[0m\n",
            "\u001b[0;32m/usr/local/lib/python3.7/dist-packages/optuna/study/_optimize.py\u001b[0m in \u001b[0;36m_optimize\u001b[0;34m(study, func, n_trials, timeout, n_jobs, catch, callbacks, gc_after_trial, show_progress_bar)\u001b[0m\n\u001b[1;32m     74\u001b[0m                 \u001b[0mreseed_sampler_rng\u001b[0m\u001b[0;34m=\u001b[0m\u001b[0;32mFalse\u001b[0m\u001b[0;34m,\u001b[0m\u001b[0;34m\u001b[0m\u001b[0;34m\u001b[0m\u001b[0m\n\u001b[1;32m     75\u001b[0m                 \u001b[0mtime_start\u001b[0m\u001b[0;34m=\u001b[0m\u001b[0;32mNone\u001b[0m\u001b[0;34m,\u001b[0m\u001b[0;34m\u001b[0m\u001b[0;34m\u001b[0m\u001b[0m\n\u001b[0;32m---> 76\u001b[0;31m                 \u001b[0mprogress_bar\u001b[0m\u001b[0;34m=\u001b[0m\u001b[0mprogress_bar\u001b[0m\u001b[0;34m,\u001b[0m\u001b[0;34m\u001b[0m\u001b[0;34m\u001b[0m\u001b[0m\n\u001b[0m\u001b[1;32m     77\u001b[0m             )\n\u001b[1;32m     78\u001b[0m         \u001b[0;32melse\u001b[0m\u001b[0;34m:\u001b[0m\u001b[0;34m\u001b[0m\u001b[0;34m\u001b[0m\u001b[0m\n",
            "\u001b[0;32m/usr/local/lib/python3.7/dist-packages/optuna/study/_optimize.py\u001b[0m in \u001b[0;36m_optimize_sequential\u001b[0;34m(study, func, n_trials, timeout, catch, callbacks, gc_after_trial, reseed_sampler_rng, time_start, progress_bar)\u001b[0m\n\u001b[1;32m    161\u001b[0m \u001b[0;34m\u001b[0m\u001b[0m\n\u001b[1;32m    162\u001b[0m         \u001b[0;32mtry\u001b[0m\u001b[0;34m:\u001b[0m\u001b[0;34m\u001b[0m\u001b[0;34m\u001b[0m\u001b[0m\n\u001b[0;32m--> 163\u001b[0;31m             \u001b[0mtrial\u001b[0m \u001b[0;34m=\u001b[0m \u001b[0m_run_trial\u001b[0m\u001b[0;34m(\u001b[0m\u001b[0mstudy\u001b[0m\u001b[0;34m,\u001b[0m \u001b[0mfunc\u001b[0m\u001b[0;34m,\u001b[0m \u001b[0mcatch\u001b[0m\u001b[0;34m)\u001b[0m\u001b[0;34m\u001b[0m\u001b[0;34m\u001b[0m\u001b[0m\n\u001b[0m\u001b[1;32m    164\u001b[0m         \u001b[0;32mexcept\u001b[0m \u001b[0mException\u001b[0m\u001b[0;34m:\u001b[0m\u001b[0;34m\u001b[0m\u001b[0;34m\u001b[0m\u001b[0m\n\u001b[1;32m    165\u001b[0m             \u001b[0;32mraise\u001b[0m\u001b[0;34m\u001b[0m\u001b[0;34m\u001b[0m\u001b[0m\n",
            "\u001b[0;32m/usr/local/lib/python3.7/dist-packages/optuna/study/_optimize.py\u001b[0m in \u001b[0;36m_run_trial\u001b[0;34m(study, func, catch)\u001b[0m\n\u001b[1;32m    211\u001b[0m \u001b[0;34m\u001b[0m\u001b[0m\n\u001b[1;32m    212\u001b[0m     \u001b[0;32mtry\u001b[0m\u001b[0;34m:\u001b[0m\u001b[0;34m\u001b[0m\u001b[0;34m\u001b[0m\u001b[0m\n\u001b[0;32m--> 213\u001b[0;31m         \u001b[0mvalue_or_values\u001b[0m \u001b[0;34m=\u001b[0m \u001b[0mfunc\u001b[0m\u001b[0;34m(\u001b[0m\u001b[0mtrial\u001b[0m\u001b[0;34m)\u001b[0m\u001b[0;34m\u001b[0m\u001b[0;34m\u001b[0m\u001b[0m\n\u001b[0m\u001b[1;32m    214\u001b[0m     \u001b[0;32mexcept\u001b[0m \u001b[0mexceptions\u001b[0m\u001b[0;34m.\u001b[0m\u001b[0mTrialPruned\u001b[0m \u001b[0;32mas\u001b[0m \u001b[0me\u001b[0m\u001b[0;34m:\u001b[0m\u001b[0;34m\u001b[0m\u001b[0;34m\u001b[0m\u001b[0m\n\u001b[1;32m    215\u001b[0m         \u001b[0;31m# TODO(mamu): Handle multi-objective cases.\u001b[0m\u001b[0;34m\u001b[0m\u001b[0;34m\u001b[0m\u001b[0;34m\u001b[0m\u001b[0m\n",
            "\u001b[0;32m<ipython-input-191-4dea8024967b>\u001b[0m in \u001b[0;36mobjective\u001b[0;34m(trial)\u001b[0m\n\u001b[1;32m     15\u001b[0m             \u001b[0;31m# forward\u001b[0m\u001b[0;34m\u001b[0m\u001b[0;34m\u001b[0m\u001b[0;34m\u001b[0m\u001b[0m\n\u001b[1;32m     16\u001b[0m             \u001b[0mmodel\u001b[0m\u001b[0;34m.\u001b[0m\u001b[0mtrain\u001b[0m\u001b[0;34m(\u001b[0m\u001b[0;34m)\u001b[0m\u001b[0;34m\u001b[0m\u001b[0;34m\u001b[0m\u001b[0m\n\u001b[0;32m---> 17\u001b[0;31m             \u001b[0mloss\u001b[0m \u001b[0;34m=\u001b[0m \u001b[0mforward_step\u001b[0m\u001b[0;34m(\u001b[0m\u001b[0mtrain_batch\u001b[0m\u001b[0;34m,\u001b[0m \u001b[0mmodel\u001b[0m\u001b[0;34m,\u001b[0m \u001b[0mtokenizer\u001b[0m\u001b[0;34m)\u001b[0m\u001b[0;34m\u001b[0m\u001b[0;34m\u001b[0m\u001b[0m\n\u001b[0m\u001b[1;32m     18\u001b[0m             \u001b[0;31m# backward\u001b[0m\u001b[0;34m\u001b[0m\u001b[0;34m\u001b[0m\u001b[0;34m\u001b[0m\u001b[0m\n\u001b[1;32m     19\u001b[0m             \u001b[0mloss\u001b[0m\u001b[0;34m.\u001b[0m\u001b[0mbackward\u001b[0m\u001b[0;34m(\u001b[0m\u001b[0;34m)\u001b[0m\u001b[0;34m\u001b[0m\u001b[0;34m\u001b[0m\u001b[0m\n",
            "\u001b[0;32m<ipython-input-189-010d85d5e837>\u001b[0m in \u001b[0;36mforward_step\u001b[0;34m(batch_data, model, tokenizer, Predict)\u001b[0m\n\u001b[1;32m     12\u001b[0m     \u001b[0mys\u001b[0m \u001b[0;34m=\u001b[0m \u001b[0mtorch\u001b[0m\u001b[0;34m.\u001b[0m\u001b[0mLongTensor\u001b[0m\u001b[0;34m(\u001b[0m\u001b[0mys\u001b[0m\u001b[0;34m)\u001b[0m\u001b[0;34m.\u001b[0m\u001b[0mto\u001b[0m\u001b[0;34m(\u001b[0m\u001b[0mdevice\u001b[0m\u001b[0;34m)\u001b[0m\u001b[0;34m\u001b[0m\u001b[0;34m\u001b[0m\u001b[0m\n\u001b[1;32m     13\u001b[0m     \u001b[0;31m# forward\u001b[0m\u001b[0;34m\u001b[0m\u001b[0;34m\u001b[0m\u001b[0;34m\u001b[0m\u001b[0m\n\u001b[0;32m---> 14\u001b[0;31m     \u001b[0moutputs\u001b[0m \u001b[0;34m=\u001b[0m \u001b[0mmodel\u001b[0m\u001b[0;34m(\u001b[0m\u001b[0mxs_pad\u001b[0m\u001b[0;34m,\u001b[0m\u001b[0mxmsk\u001b[0m\u001b[0;34m)\u001b[0m\u001b[0;34m\u001b[0m\u001b[0;34m\u001b[0m\u001b[0m\n\u001b[0m\u001b[1;32m     15\u001b[0m     \u001b[0;32mif\u001b[0m \u001b[0mPredict\u001b[0m\u001b[0;34m:\u001b[0m\u001b[0;34m\u001b[0m\u001b[0;34m\u001b[0m\u001b[0m\n\u001b[1;32m     16\u001b[0m         \u001b[0mpred\u001b[0m \u001b[0;34m=\u001b[0m \u001b[0mtorch\u001b[0m\u001b[0;34m.\u001b[0m\u001b[0margmax\u001b[0m\u001b[0;34m(\u001b[0m\u001b[0msoftmax\u001b[0m\u001b[0;34m(\u001b[0m\u001b[0moutputs\u001b[0m\u001b[0;34m)\u001b[0m\u001b[0;34m,\u001b[0m\u001b[0mdim\u001b[0m\u001b[0;34m=\u001b[0m\u001b[0;36m1\u001b[0m\u001b[0;34m)\u001b[0m\u001b[0;34m\u001b[0m\u001b[0;34m\u001b[0m\u001b[0m\n",
            "\u001b[0;32m/usr/local/lib/python3.7/dist-packages/torch/nn/modules/module.py\u001b[0m in \u001b[0;36m_call_impl\u001b[0;34m(self, *input, **kwargs)\u001b[0m\n\u001b[1;32m   1100\u001b[0m         if not (self._backward_hooks or self._forward_hooks or self._forward_pre_hooks or _global_backward_hooks\n\u001b[1;32m   1101\u001b[0m                 or _global_forward_hooks or _global_forward_pre_hooks):\n\u001b[0;32m-> 1102\u001b[0;31m             \u001b[0;32mreturn\u001b[0m \u001b[0mforward_call\u001b[0m\u001b[0;34m(\u001b[0m\u001b[0;34m*\u001b[0m\u001b[0minput\u001b[0m\u001b[0;34m,\u001b[0m \u001b[0;34m**\u001b[0m\u001b[0mkwargs\u001b[0m\u001b[0;34m)\u001b[0m\u001b[0;34m\u001b[0m\u001b[0;34m\u001b[0m\u001b[0m\n\u001b[0m\u001b[1;32m   1103\u001b[0m         \u001b[0;31m# Do not call functions when jit is used\u001b[0m\u001b[0;34m\u001b[0m\u001b[0;34m\u001b[0m\u001b[0;34m\u001b[0m\u001b[0m\n\u001b[1;32m   1104\u001b[0m         \u001b[0mfull_backward_hooks\u001b[0m\u001b[0;34m,\u001b[0m \u001b[0mnon_full_backward_hooks\u001b[0m \u001b[0;34m=\u001b[0m \u001b[0;34m[\u001b[0m\u001b[0;34m]\u001b[0m\u001b[0;34m,\u001b[0m \u001b[0;34m[\u001b[0m\u001b[0;34m]\u001b[0m\u001b[0;34m\u001b[0m\u001b[0;34m\u001b[0m\u001b[0m\n",
            "\u001b[0;32m<ipython-input-185-3bc660562c9e>\u001b[0m in \u001b[0;36mforward\u001b[0;34m(self, x1, x2)\u001b[0m\n\u001b[1;32m      7\u001b[0m \u001b[0;34m\u001b[0m\u001b[0m\n\u001b[1;32m      8\u001b[0m     \u001b[0;32mdef\u001b[0m \u001b[0mforward\u001b[0m\u001b[0;34m(\u001b[0m\u001b[0mself\u001b[0m\u001b[0;34m,\u001b[0m\u001b[0mx1\u001b[0m\u001b[0;34m,\u001b[0m\u001b[0mx2\u001b[0m\u001b[0;34m)\u001b[0m\u001b[0;34m:\u001b[0m\u001b[0;34m\u001b[0m\u001b[0;34m\u001b[0m\u001b[0m\n\u001b[0;32m----> 9\u001b[0;31m         \u001b[0mbout\u001b[0m \u001b[0;34m=\u001b[0m \u001b[0mself\u001b[0m\u001b[0;34m.\u001b[0m\u001b[0mbert\u001b[0m\u001b[0;34m(\u001b[0m\u001b[0minput_ids\u001b[0m\u001b[0;34m=\u001b[0m\u001b[0mx1\u001b[0m\u001b[0;34m,\u001b[0m \u001b[0mattention_mask\u001b[0m\u001b[0;34m=\u001b[0m\u001b[0mx2\u001b[0m\u001b[0;34m)\u001b[0m\u001b[0;34m\u001b[0m\u001b[0;34m\u001b[0m\u001b[0m\n\u001b[0m\u001b[1;32m     10\u001b[0m         \u001b[0mbs\u001b[0m   \u001b[0;34m=\u001b[0m \u001b[0mlen\u001b[0m\u001b[0;34m(\u001b[0m\u001b[0mbout\u001b[0m\u001b[0;34m[\u001b[0m\u001b[0;36m0\u001b[0m\u001b[0;34m]\u001b[0m\u001b[0;34m)\u001b[0m\u001b[0;34m\u001b[0m\u001b[0;34m\u001b[0m\u001b[0m\n\u001b[1;32m     11\u001b[0m         \u001b[0mh0\u001b[0m   \u001b[0;34m=\u001b[0m \u001b[0;34m[\u001b[0m\u001b[0mbout\u001b[0m\u001b[0;34m[\u001b[0m\u001b[0;36m0\u001b[0m\u001b[0;34m]\u001b[0m\u001b[0;34m[\u001b[0m\u001b[0mi\u001b[0m\u001b[0;34m]\u001b[0m\u001b[0;34m[\u001b[0m\u001b[0;36m0\u001b[0m\u001b[0;34m]\u001b[0m \u001b[0;32mfor\u001b[0m \u001b[0mi\u001b[0m \u001b[0;32min\u001b[0m \u001b[0mrange\u001b[0m\u001b[0;34m(\u001b[0m\u001b[0mbs\u001b[0m\u001b[0;34m)\u001b[0m\u001b[0;34m]\u001b[0m\u001b[0;34m\u001b[0m\u001b[0;34m\u001b[0m\u001b[0m\n",
            "\u001b[0;32m/usr/local/lib/python3.7/dist-packages/torch/nn/modules/module.py\u001b[0m in \u001b[0;36m_call_impl\u001b[0;34m(self, *input, **kwargs)\u001b[0m\n\u001b[1;32m   1100\u001b[0m         if not (self._backward_hooks or self._forward_hooks or self._forward_pre_hooks or _global_backward_hooks\n\u001b[1;32m   1101\u001b[0m                 or _global_forward_hooks or _global_forward_pre_hooks):\n\u001b[0;32m-> 1102\u001b[0;31m             \u001b[0;32mreturn\u001b[0m \u001b[0mforward_call\u001b[0m\u001b[0;34m(\u001b[0m\u001b[0;34m*\u001b[0m\u001b[0minput\u001b[0m\u001b[0;34m,\u001b[0m \u001b[0;34m**\u001b[0m\u001b[0mkwargs\u001b[0m\u001b[0;34m)\u001b[0m\u001b[0;34m\u001b[0m\u001b[0;34m\u001b[0m\u001b[0m\n\u001b[0m\u001b[1;32m   1103\u001b[0m         \u001b[0;31m# Do not call functions when jit is used\u001b[0m\u001b[0;34m\u001b[0m\u001b[0;34m\u001b[0m\u001b[0;34m\u001b[0m\u001b[0m\n\u001b[1;32m   1104\u001b[0m         \u001b[0mfull_backward_hooks\u001b[0m\u001b[0;34m,\u001b[0m \u001b[0mnon_full_backward_hooks\u001b[0m \u001b[0;34m=\u001b[0m \u001b[0;34m[\u001b[0m\u001b[0;34m]\u001b[0m\u001b[0;34m,\u001b[0m \u001b[0;34m[\u001b[0m\u001b[0;34m]\u001b[0m\u001b[0;34m\u001b[0m\u001b[0;34m\u001b[0m\u001b[0m\n",
            "\u001b[0;32m/usr/local/lib/python3.7/dist-packages/transformers/models/bert/modeling_bert.py\u001b[0m in \u001b[0;36mforward\u001b[0;34m(self, input_ids, attention_mask, token_type_ids, position_ids, head_mask, inputs_embeds, encoder_hidden_states, encoder_attention_mask, past_key_values, use_cache, output_attentions, output_hidden_states, return_dict)\u001b[0m\n\u001b[1;32m   1004\u001b[0m             \u001b[0moutput_attentions\u001b[0m\u001b[0;34m=\u001b[0m\u001b[0moutput_attentions\u001b[0m\u001b[0;34m,\u001b[0m\u001b[0;34m\u001b[0m\u001b[0;34m\u001b[0m\u001b[0m\n\u001b[1;32m   1005\u001b[0m             \u001b[0moutput_hidden_states\u001b[0m\u001b[0;34m=\u001b[0m\u001b[0moutput_hidden_states\u001b[0m\u001b[0;34m,\u001b[0m\u001b[0;34m\u001b[0m\u001b[0;34m\u001b[0m\u001b[0m\n\u001b[0;32m-> 1006\u001b[0;31m             \u001b[0mreturn_dict\u001b[0m\u001b[0;34m=\u001b[0m\u001b[0mreturn_dict\u001b[0m\u001b[0;34m,\u001b[0m\u001b[0;34m\u001b[0m\u001b[0;34m\u001b[0m\u001b[0m\n\u001b[0m\u001b[1;32m   1007\u001b[0m         )\n\u001b[1;32m   1008\u001b[0m         \u001b[0msequence_output\u001b[0m \u001b[0;34m=\u001b[0m \u001b[0mencoder_outputs\u001b[0m\u001b[0;34m[\u001b[0m\u001b[0;36m0\u001b[0m\u001b[0;34m]\u001b[0m\u001b[0;34m\u001b[0m\u001b[0;34m\u001b[0m\u001b[0m\n",
            "\u001b[0;32m/usr/local/lib/python3.7/dist-packages/torch/nn/modules/module.py\u001b[0m in \u001b[0;36m_call_impl\u001b[0;34m(self, *input, **kwargs)\u001b[0m\n\u001b[1;32m   1100\u001b[0m         if not (self._backward_hooks or self._forward_hooks or self._forward_pre_hooks or _global_backward_hooks\n\u001b[1;32m   1101\u001b[0m                 or _global_forward_hooks or _global_forward_pre_hooks):\n\u001b[0;32m-> 1102\u001b[0;31m             \u001b[0;32mreturn\u001b[0m \u001b[0mforward_call\u001b[0m\u001b[0;34m(\u001b[0m\u001b[0;34m*\u001b[0m\u001b[0minput\u001b[0m\u001b[0;34m,\u001b[0m \u001b[0;34m**\u001b[0m\u001b[0mkwargs\u001b[0m\u001b[0;34m)\u001b[0m\u001b[0;34m\u001b[0m\u001b[0;34m\u001b[0m\u001b[0m\n\u001b[0m\u001b[1;32m   1103\u001b[0m         \u001b[0;31m# Do not call functions when jit is used\u001b[0m\u001b[0;34m\u001b[0m\u001b[0;34m\u001b[0m\u001b[0;34m\u001b[0m\u001b[0m\n\u001b[1;32m   1104\u001b[0m         \u001b[0mfull_backward_hooks\u001b[0m\u001b[0;34m,\u001b[0m \u001b[0mnon_full_backward_hooks\u001b[0m \u001b[0;34m=\u001b[0m \u001b[0;34m[\u001b[0m\u001b[0;34m]\u001b[0m\u001b[0;34m,\u001b[0m \u001b[0;34m[\u001b[0m\u001b[0;34m]\u001b[0m\u001b[0;34m\u001b[0m\u001b[0;34m\u001b[0m\u001b[0m\n",
            "\u001b[0;32m/usr/local/lib/python3.7/dist-packages/transformers/models/bert/modeling_bert.py\u001b[0m in \u001b[0;36mforward\u001b[0;34m(self, hidden_states, attention_mask, head_mask, encoder_hidden_states, encoder_attention_mask, past_key_values, use_cache, output_attentions, output_hidden_states, return_dict)\u001b[0m\n\u001b[1;32m    590\u001b[0m                     \u001b[0mencoder_attention_mask\u001b[0m\u001b[0;34m,\u001b[0m\u001b[0;34m\u001b[0m\u001b[0;34m\u001b[0m\u001b[0m\n\u001b[1;32m    591\u001b[0m                     \u001b[0mpast_key_value\u001b[0m\u001b[0;34m,\u001b[0m\u001b[0;34m\u001b[0m\u001b[0;34m\u001b[0m\u001b[0m\n\u001b[0;32m--> 592\u001b[0;31m                     \u001b[0moutput_attentions\u001b[0m\u001b[0;34m,\u001b[0m\u001b[0;34m\u001b[0m\u001b[0;34m\u001b[0m\u001b[0m\n\u001b[0m\u001b[1;32m    593\u001b[0m                 )\n\u001b[1;32m    594\u001b[0m \u001b[0;34m\u001b[0m\u001b[0m\n",
            "\u001b[0;32m/usr/local/lib/python3.7/dist-packages/torch/nn/modules/module.py\u001b[0m in \u001b[0;36m_call_impl\u001b[0;34m(self, *input, **kwargs)\u001b[0m\n\u001b[1;32m   1100\u001b[0m         if not (self._backward_hooks or self._forward_hooks or self._forward_pre_hooks or _global_backward_hooks\n\u001b[1;32m   1101\u001b[0m                 or _global_forward_hooks or _global_forward_pre_hooks):\n\u001b[0;32m-> 1102\u001b[0;31m             \u001b[0;32mreturn\u001b[0m \u001b[0mforward_call\u001b[0m\u001b[0;34m(\u001b[0m\u001b[0;34m*\u001b[0m\u001b[0minput\u001b[0m\u001b[0;34m,\u001b[0m \u001b[0;34m**\u001b[0m\u001b[0mkwargs\u001b[0m\u001b[0;34m)\u001b[0m\u001b[0;34m\u001b[0m\u001b[0;34m\u001b[0m\u001b[0m\n\u001b[0m\u001b[1;32m   1103\u001b[0m         \u001b[0;31m# Do not call functions when jit is used\u001b[0m\u001b[0;34m\u001b[0m\u001b[0;34m\u001b[0m\u001b[0;34m\u001b[0m\u001b[0m\n\u001b[1;32m   1104\u001b[0m         \u001b[0mfull_backward_hooks\u001b[0m\u001b[0;34m,\u001b[0m \u001b[0mnon_full_backward_hooks\u001b[0m \u001b[0;34m=\u001b[0m \u001b[0;34m[\u001b[0m\u001b[0;34m]\u001b[0m\u001b[0;34m,\u001b[0m \u001b[0;34m[\u001b[0m\u001b[0;34m]\u001b[0m\u001b[0;34m\u001b[0m\u001b[0;34m\u001b[0m\u001b[0m\n",
            "\u001b[0;32m/usr/local/lib/python3.7/dist-packages/transformers/models/bert/modeling_bert.py\u001b[0m in \u001b[0;36mforward\u001b[0;34m(self, hidden_states, attention_mask, head_mask, encoder_hidden_states, encoder_attention_mask, past_key_value, output_attentions)\u001b[0m\n\u001b[1;32m    475\u001b[0m             \u001b[0mhead_mask\u001b[0m\u001b[0;34m,\u001b[0m\u001b[0;34m\u001b[0m\u001b[0;34m\u001b[0m\u001b[0m\n\u001b[1;32m    476\u001b[0m             \u001b[0moutput_attentions\u001b[0m\u001b[0;34m=\u001b[0m\u001b[0moutput_attentions\u001b[0m\u001b[0;34m,\u001b[0m\u001b[0;34m\u001b[0m\u001b[0;34m\u001b[0m\u001b[0m\n\u001b[0;32m--> 477\u001b[0;31m             \u001b[0mpast_key_value\u001b[0m\u001b[0;34m=\u001b[0m\u001b[0mself_attn_past_key_value\u001b[0m\u001b[0;34m,\u001b[0m\u001b[0;34m\u001b[0m\u001b[0;34m\u001b[0m\u001b[0m\n\u001b[0m\u001b[1;32m    478\u001b[0m         )\n\u001b[1;32m    479\u001b[0m         \u001b[0mattention_output\u001b[0m \u001b[0;34m=\u001b[0m \u001b[0mself_attention_outputs\u001b[0m\u001b[0;34m[\u001b[0m\u001b[0;36m0\u001b[0m\u001b[0;34m]\u001b[0m\u001b[0;34m\u001b[0m\u001b[0;34m\u001b[0m\u001b[0m\n",
            "\u001b[0;32m/usr/local/lib/python3.7/dist-packages/torch/nn/modules/module.py\u001b[0m in \u001b[0;36m_call_impl\u001b[0;34m(self, *input, **kwargs)\u001b[0m\n\u001b[1;32m   1100\u001b[0m         if not (self._backward_hooks or self._forward_hooks or self._forward_pre_hooks or _global_backward_hooks\n\u001b[1;32m   1101\u001b[0m                 or _global_forward_hooks or _global_forward_pre_hooks):\n\u001b[0;32m-> 1102\u001b[0;31m             \u001b[0;32mreturn\u001b[0m \u001b[0mforward_call\u001b[0m\u001b[0;34m(\u001b[0m\u001b[0;34m*\u001b[0m\u001b[0minput\u001b[0m\u001b[0;34m,\u001b[0m \u001b[0;34m**\u001b[0m\u001b[0mkwargs\u001b[0m\u001b[0;34m)\u001b[0m\u001b[0;34m\u001b[0m\u001b[0;34m\u001b[0m\u001b[0m\n\u001b[0m\u001b[1;32m   1103\u001b[0m         \u001b[0;31m# Do not call functions when jit is used\u001b[0m\u001b[0;34m\u001b[0m\u001b[0;34m\u001b[0m\u001b[0;34m\u001b[0m\u001b[0m\n\u001b[1;32m   1104\u001b[0m         \u001b[0mfull_backward_hooks\u001b[0m\u001b[0;34m,\u001b[0m \u001b[0mnon_full_backward_hooks\u001b[0m \u001b[0;34m=\u001b[0m \u001b[0;34m[\u001b[0m\u001b[0;34m]\u001b[0m\u001b[0;34m,\u001b[0m \u001b[0;34m[\u001b[0m\u001b[0;34m]\u001b[0m\u001b[0;34m\u001b[0m\u001b[0;34m\u001b[0m\u001b[0m\n",
            "\u001b[0;32m/usr/local/lib/python3.7/dist-packages/transformers/models/bert/modeling_bert.py\u001b[0m in \u001b[0;36mforward\u001b[0;34m(self, hidden_states, attention_mask, head_mask, encoder_hidden_states, encoder_attention_mask, past_key_value, output_attentions)\u001b[0m\n\u001b[1;32m    407\u001b[0m             \u001b[0mencoder_attention_mask\u001b[0m\u001b[0;34m,\u001b[0m\u001b[0;34m\u001b[0m\u001b[0;34m\u001b[0m\u001b[0m\n\u001b[1;32m    408\u001b[0m             \u001b[0mpast_key_value\u001b[0m\u001b[0;34m,\u001b[0m\u001b[0;34m\u001b[0m\u001b[0;34m\u001b[0m\u001b[0m\n\u001b[0;32m--> 409\u001b[0;31m             \u001b[0moutput_attentions\u001b[0m\u001b[0;34m,\u001b[0m\u001b[0;34m\u001b[0m\u001b[0;34m\u001b[0m\u001b[0m\n\u001b[0m\u001b[1;32m    410\u001b[0m         )\n\u001b[1;32m    411\u001b[0m         \u001b[0mattention_output\u001b[0m \u001b[0;34m=\u001b[0m \u001b[0mself\u001b[0m\u001b[0;34m.\u001b[0m\u001b[0moutput\u001b[0m\u001b[0;34m(\u001b[0m\u001b[0mself_outputs\u001b[0m\u001b[0;34m[\u001b[0m\u001b[0;36m0\u001b[0m\u001b[0;34m]\u001b[0m\u001b[0;34m,\u001b[0m \u001b[0mhidden_states\u001b[0m\u001b[0;34m)\u001b[0m\u001b[0;34m\u001b[0m\u001b[0;34m\u001b[0m\u001b[0m\n",
            "\u001b[0;32m/usr/local/lib/python3.7/dist-packages/torch/nn/modules/module.py\u001b[0m in \u001b[0;36m_call_impl\u001b[0;34m(self, *input, **kwargs)\u001b[0m\n\u001b[1;32m   1100\u001b[0m         if not (self._backward_hooks or self._forward_hooks or self._forward_pre_hooks or _global_backward_hooks\n\u001b[1;32m   1101\u001b[0m                 or _global_forward_hooks or _global_forward_pre_hooks):\n\u001b[0;32m-> 1102\u001b[0;31m             \u001b[0;32mreturn\u001b[0m \u001b[0mforward_call\u001b[0m\u001b[0;34m(\u001b[0m\u001b[0;34m*\u001b[0m\u001b[0minput\u001b[0m\u001b[0;34m,\u001b[0m \u001b[0;34m**\u001b[0m\u001b[0mkwargs\u001b[0m\u001b[0;34m)\u001b[0m\u001b[0;34m\u001b[0m\u001b[0;34m\u001b[0m\u001b[0m\n\u001b[0m\u001b[1;32m   1103\u001b[0m         \u001b[0;31m# Do not call functions when jit is used\u001b[0m\u001b[0;34m\u001b[0m\u001b[0;34m\u001b[0m\u001b[0;34m\u001b[0m\u001b[0m\n\u001b[1;32m   1104\u001b[0m         \u001b[0mfull_backward_hooks\u001b[0m\u001b[0;34m,\u001b[0m \u001b[0mnon_full_backward_hooks\u001b[0m \u001b[0;34m=\u001b[0m \u001b[0;34m[\u001b[0m\u001b[0;34m]\u001b[0m\u001b[0;34m,\u001b[0m \u001b[0;34m[\u001b[0m\u001b[0;34m]\u001b[0m\u001b[0;34m\u001b[0m\u001b[0;34m\u001b[0m\u001b[0m\n",
            "\u001b[0;32m/usr/local/lib/python3.7/dist-packages/transformers/models/bert/modeling_bert.py\u001b[0m in \u001b[0;36mforward\u001b[0;34m(self, hidden_states, attention_mask, head_mask, encoder_hidden_states, encoder_attention_mask, past_key_value, output_attentions)\u001b[0m\n\u001b[1;32m    338\u001b[0m             \u001b[0mattention_probs\u001b[0m \u001b[0;34m=\u001b[0m \u001b[0mattention_probs\u001b[0m \u001b[0;34m*\u001b[0m \u001b[0mhead_mask\u001b[0m\u001b[0;34m\u001b[0m\u001b[0;34m\u001b[0m\u001b[0m\n\u001b[1;32m    339\u001b[0m \u001b[0;34m\u001b[0m\u001b[0m\n\u001b[0;32m--> 340\u001b[0;31m         \u001b[0mcontext_layer\u001b[0m \u001b[0;34m=\u001b[0m \u001b[0mtorch\u001b[0m\u001b[0;34m.\u001b[0m\u001b[0mmatmul\u001b[0m\u001b[0;34m(\u001b[0m\u001b[0mattention_probs\u001b[0m\u001b[0;34m,\u001b[0m \u001b[0mvalue_layer\u001b[0m\u001b[0;34m)\u001b[0m\u001b[0;34m\u001b[0m\u001b[0;34m\u001b[0m\u001b[0m\n\u001b[0m\u001b[1;32m    341\u001b[0m \u001b[0;34m\u001b[0m\u001b[0m\n\u001b[1;32m    342\u001b[0m         \u001b[0mcontext_layer\u001b[0m \u001b[0;34m=\u001b[0m \u001b[0mcontext_layer\u001b[0m\u001b[0;34m.\u001b[0m\u001b[0mpermute\u001b[0m\u001b[0;34m(\u001b[0m\u001b[0;36m0\u001b[0m\u001b[0;34m,\u001b[0m \u001b[0;36m2\u001b[0m\u001b[0;34m,\u001b[0m \u001b[0;36m1\u001b[0m\u001b[0;34m,\u001b[0m \u001b[0;36m3\u001b[0m\u001b[0;34m)\u001b[0m\u001b[0;34m.\u001b[0m\u001b[0mcontiguous\u001b[0m\u001b[0;34m(\u001b[0m\u001b[0;34m)\u001b[0m\u001b[0;34m\u001b[0m\u001b[0;34m\u001b[0m\u001b[0m\n",
            "\u001b[0;31mKeyboardInterrupt\u001b[0m: "
          ]
        }
      ],
      "source": [
        "study = optuna.create_study(direction=\"maximize\")\n",
        "study.optimize(objective, n_trials=100)\n",
        "\n",
        "pruned_trials = study.get_trials(deepcopy=False, states=[TrialState.PRUNED])\n",
        "complete_trials = study.get_trials(deepcopy=False, states=[TrialState.COMPLETE])\n",
        "\n",
        "print(\"Study statistics: \")\n",
        "print(\"  Number of finished trials: \", len(study.trials))\n",
        "print(\"  Number of pruned trials: \", len(pruned_trials))\n",
        "print(\"  Number of complete trials: \", len(complete_trials))\n",
        "\n",
        "print(\"Best trial:\")\n",
        "trial = study.best_trial\n",
        "\n",
        "print(\"  Value: \", trial.value)\n",
        "\n",
        "print(\"  Params: \")\n",
        "for key, value in trial.params.items():\n",
        "    print(\"    {}: {}\".format(key, value))"
      ]
    },
    {
      "cell_type": "code",
      "source": [
        "m = nn.Sigmoid()\n",
        "loss = nn.BCELoss()\n",
        "input = torch.randn(3, requires_grad=True)\n",
        "target = torch.empty(3).random_(2)\n",
        "output = loss(m(input), target)\n",
        "output.backward()"
      ],
      "metadata": {
        "id": "xhu8Y8lkcf_j"
      },
      "execution_count": null,
      "outputs": []
    },
    {
      "cell_type": "code",
      "source": [
        "input"
      ],
      "metadata": {
        "colab": {
          "base_uri": "https://localhost:8080/"
        },
        "id": "RPzK7fxgeU5x",
        "outputId": "7c8d91e2-3799-43b7-d4d0-11d7346d1c18"
      },
      "execution_count": null,
      "outputs": [
        {
          "output_type": "execute_result",
          "data": {
            "text/plain": [
              "tensor([-1.1882,  0.3420,  0.6289], requires_grad=True)"
            ]
          },
          "metadata": {},
          "execution_count": 194
        }
      ]
    },
    {
      "cell_type": "code",
      "source": [
        "target"
      ],
      "metadata": {
        "colab": {
          "base_uri": "https://localhost:8080/"
        },
        "id": "kae60rQufWdF",
        "outputId": "ebb9518e-457e-4e96-db2e-f1a0631ba336"
      },
      "execution_count": null,
      "outputs": [
        {
          "output_type": "execute_result",
          "data": {
            "text/plain": [
              "tensor([1., 1., 0.])"
            ]
          },
          "metadata": {},
          "execution_count": 195
        }
      ]
    },
    {
      "cell_type": "code",
      "source": [
        "m(input)"
      ],
      "metadata": {
        "colab": {
          "base_uri": "https://localhost:8080/"
        },
        "id": "WMxk9MNYfXkA",
        "outputId": "c463de37-e3dd-475a-f8ec-a12e19c221ce"
      },
      "execution_count": null,
      "outputs": [
        {
          "output_type": "execute_result",
          "data": {
            "text/plain": [
              "tensor([0.2336, 0.5847, 0.6522], grad_fn=<SigmoidBackward0>)"
            ]
          },
          "metadata": {},
          "execution_count": 196
        }
      ]
    },
    {
      "cell_type": "code",
      "source": [
        "output"
      ],
      "metadata": {
        "colab": {
          "base_uri": "https://localhost:8080/"
        },
        "id": "RAhNfMW2fZcE",
        "outputId": "f1af543a-ac2e-48bc-bd62-e6381460e914"
      },
      "execution_count": null,
      "outputs": [
        {
          "output_type": "execute_result",
          "data": {
            "text/plain": [
              "tensor(1.0157, grad_fn=<BinaryCrossEntropyBackward0>)"
            ]
          },
          "metadata": {},
          "execution_count": 197
        }
      ]
    },
    {
      "cell_type": "code",
      "source": [
        "# criterion = nn.BCELoss()\n",
        "# nn.Linear(768, 1)\n",
        "# Pytorchの本確認\n"
      ],
      "metadata": {
        "id": "l2Sjmo_7fcuN"
      },
      "execution_count": null,
      "outputs": []
    },
    {
      "cell_type": "code",
      "source": [
        "# loss accumulating\n",
        "\"\"\" \n",
        "loss = criterion()\n",
        "loss = loss / config.accumulating_step\n",
        "loss.backward()\n",
        "\n",
        "if n_step % config.n_accum_steps == 0:\n",
        "  optimizer.step()\n",
        "  optimizer.zero_grad()\n",
        "  del loss\n",
        "\"\"\""
      ],
      "metadata": {
        "id": "gT28_vdcn-dR"
      },
      "execution_count": null,
      "outputs": []
    },
    {
      "cell_type": "markdown",
      "source": [
        "# 俯瞰解析検証"
      ],
      "metadata": {
        "id": "MsyGYOQkqajN"
      }
    },
    {
      "cell_type": "markdown",
      "source": [
        "tSNEの実装<br>\n",
        "https://qiita.com/stfate/items/8988d01aad9596f9d586"
      ],
      "metadata": {
        "id": "C4k4CkcW1gw5"
      }
    },
    {
      "cell_type": "code",
      "source": [
        "!pip install bhtsne |tail -n 1"
      ],
      "metadata": {
        "colab": {
          "base_uri": "https://localhost:8080/"
        },
        "id": "UaeuYsAYq3F_",
        "outputId": "57438912-44e7-4e56-c129-085adcaed15d"
      },
      "execution_count": null,
      "outputs": [
        {
          "output_type": "stream",
          "name": "stdout",
          "text": [
            "Successfully installed bhtsne-0.1.9\n"
          ]
        }
      ]
    },
    {
      "cell_type": "code",
      "source": [
        "import scipy as sp\n",
        "import numpy as np\n",
        "from sklearn.datasets import fetch_openml\n",
        "import sklearn.base\n",
        "from bhtsne import tsne\n",
        "import matplotlib.pyplot as plt"
      ],
      "metadata": {
        "id": "D5hvF7OIvoWz"
      },
      "execution_count": null,
      "outputs": []
    },
    {
      "cell_type": "code",
      "source": [
        "class BHTSNE(sklearn.base.BaseEstimator, sklearn.base.TransformerMixin):\n",
        "    def __init__(self, dimensions=2, perplexity=30.0, theta=0.5, rand_seed=-1):#, max_iter=100):\n",
        "        self.dimensions = dimensions\n",
        "        self.perplexity = perplexity\n",
        "        self.theta = theta\n",
        "        self.rand_seed = rand_seed\n",
        "        #self.max_iter = max_iter\n",
        "\n",
        "    def fit_transform(self, X):\n",
        "        return tsne(\n",
        "            X.astype(np.float64),\n",
        "            dimensions=self.dimensions,\n",
        "            perplexity=self.perplexity,\n",
        "            theta=self.theta,\n",
        "            rand_seed=self.rand_seed,\n",
        "            #max_iter=self.max_iter\n",
        "        )"
      ],
      "metadata": {
        "id": "359Liz-wqcdt"
      },
      "execution_count": null,
      "outputs": []
    },
    {
      "cell_type": "code",
      "source": [
        "mnist_X, mnist_y = fetch_openml('mnist_784', version=1, data_home=\".\", return_X_y=True)\n",
        "mnist_data = mnist_X.astype(np.float32) / 255\n",
        "mnist_labels = mnist_y.astype(np.int32)"
      ],
      "metadata": {
        "id": "jd_cGNdRvBDp"
      },
      "execution_count": null,
      "outputs": []
    },
    {
      "cell_type": "code",
      "source": [
        "mnist_data = mnist_data[:10000]\n",
        "mnist_labels = mnist_labels[:10000]"
      ],
      "metadata": {
        "id": "8n3CcZYufJiz"
      },
      "execution_count": null,
      "outputs": []
    },
    {
      "cell_type": "code",
      "source": [
        "bhtsne = BHTSNE(dimensions=2, perplexity=30.0, theta=0.5, rand_seed=-1)#, max_iter=10000)\n",
        "mnist_tsne = bhtsne.fit_transform(mnist_data)\n",
        "\n",
        "xmin = mnist_tsne[:,0].min()\n",
        "xmax = mnist_tsne[:,0].max()\n",
        "ymin = mnist_tsne[:,1].min()\n",
        "ymax = mnist_tsne[:,1].max()\n",
        "\n",
        "plt.figure( figsize=(16,12) )\n",
        "for _y,_label in zip(mnist_tsne[::4],mnist_labels[::4]):\n",
        "    plt.text(_y[0], _y[1], _label)\n",
        "plt.axis([xmin,xmax,ymin,ymax])\n",
        "plt.xlabel(\"component 0\")\n",
        "plt.ylabel(\"component 1\")\n",
        "plt.title(\"MNIST t-SNE visualization\")\n",
        "plt.show()"
      ],
      "metadata": {
        "colab": {
          "base_uri": "https://localhost:8080/",
          "height": 54
        },
        "id": "5VBu6b8NqqhJ",
        "outputId": "4148b1cb-c3d7-4795-bc1d-34b13f92c4fa"
      },
      "execution_count": null,
      "outputs": [
        {
          "output_type": "display_data",
          "data": {
            "image/png": "[encoded data removed]",
            "text/plain": [
              "<Figure size 1152x864 with 1 Axes>"
            ]
          },
          "metadata": {
            "needs_background": "light"
          }
        }
      ]
    },
    {
      "cell_type": "code",
      "source": [
        ""
      ],
      "metadata": {
        "id": "XvdAJP3ov2rn"
      },
      "execution_count": null,
      "outputs": []
    }
  ],
  "metadata": {
    "colab": {
      "collapsed_sections": [],
      "name": "NS_0201w.ipynb",
      "provenance": [],
      "mount_file_id": "1Z5OwZAmq9vwit3dF3hmHRCO_-m236Vcy",
      "authorship_tag": "ABX9TyPq2u+cNn8Anf5RM+wg2QT2",
      "include_colab_link": true
    },
    "kernelspec": {
      "display_name": "Python 3",
      "name": "python3"
    },
    "language_info": {
      "name": "python"
    },
    "widgets": {
      "application/vnd.jupyter.widget-state+json": {
        "9aa61f14d4e94848a7dfa821fb8524c8": {
          "model_module": "@jupyter-widgets/controls",
          "model_name": "HBoxModel",
          "model_module_version": "1.5.0",
          "state": {
            "_view_name": "HBoxView",
            "_dom_classes": [],
            "_model_name": "HBoxModel",
            "_view_module": "@jupyter-widgets/controls",
            "_model_module_version": "1.5.0",
            "_view_count": null,
            "_view_module_version": "1.5.0",
            "box_style": "",
            "layout": "IPY_MODEL_4b5b5569320043d1905054805beb592a",
            "_model_module": "@jupyter-widgets/controls",
            "children": [
              "IPY_MODEL_d1dd44cf4d114c5b92bf3f8a8b7e3352",
              "IPY_MODEL_3ff4d9dd426f459b9fdac8220119d37a",
              "IPY_MODEL_1f3fb8f4a0874f73b4e5c94a85e8a94b"
            ]
          }
        },
        "4b5b5569320043d1905054805beb592a": {
          "model_module": "@jupyter-widgets/base",
          "model_name": "LayoutModel",
          "model_module_version": "1.2.0",
          "state": {
            "_view_name": "LayoutView",
            "grid_template_rows": null,
            "right": null,
            "justify_content": null,
            "_view_module": "@jupyter-widgets/base",
            "overflow": null,
            "_model_module_version": "1.2.0",
            "_view_count": null,
            "flex_flow": null,
            "width": null,
            "min_width": null,
            "border": null,
            "align_items": null,
            "bottom": null,
            "_model_module": "@jupyter-widgets/base",
            "top": null,
            "grid_column": null,
            "overflow_y": null,
            "overflow_x": null,
            "grid_auto_flow": null,
            "grid_area": null,
            "grid_template_columns": null,
            "flex": null,
            "_model_name": "LayoutModel",
            "justify_items": null,
            "grid_row": null,
            "max_height": null,
            "align_content": null,
            "visibility": null,
            "align_self": null,
            "height": null,
            "min_height": null,
            "padding": null,
            "grid_auto_rows": null,
            "grid_gap": null,
            "max_width": null,
            "order": null,
            "_view_module_version": "1.2.0",
            "grid_template_areas": null,
            "object_position": null,
            "object_fit": null,
            "grid_auto_columns": null,
            "margin": null,
            "display": null,
            "left": null
          }
        },
        "d1dd44cf4d114c5b92bf3f8a8b7e3352": {
          "model_module": "@jupyter-widgets/controls",
          "model_name": "HTMLModel",
          "model_module_version": "1.5.0",
          "state": {
            "_view_name": "HTMLView",
            "style": "IPY_MODEL_d58951dd0c244c249a72b997cd8ef9d6",
            "_dom_classes": [],
            "description": "",
            "_model_name": "HTMLModel",
            "placeholder": "​",
            "_view_module": "@jupyter-widgets/controls",
            "_model_module_version": "1.5.0",
            "value": "Downloading: 100%",
            "_view_count": null,
            "_view_module_version": "1.5.0",
            "description_tooltip": null,
            "_model_module": "@jupyter-widgets/controls",
            "layout": "IPY_MODEL_e1a56e8334d94df69c09da5511dc76ec"
          }
        },
        "3ff4d9dd426f459b9fdac8220119d37a": {
          "model_module": "@jupyter-widgets/controls",
          "model_name": "FloatProgressModel",
          "model_module_version": "1.5.0",
          "state": {
            "_view_name": "ProgressView",
            "style": "IPY_MODEL_6960698f54b64682870ad226c0875b3a",
            "_dom_classes": [],
            "description": "",
            "_model_name": "FloatProgressModel",
            "bar_style": "success",
            "max": 110,
            "_view_module": "@jupyter-widgets/controls",
            "_model_module_version": "1.5.0",
            "value": 110,
            "_view_count": null,
            "_view_module_version": "1.5.0",
            "orientation": "horizontal",
            "min": 0,
            "description_tooltip": null,
            "_model_module": "@jupyter-widgets/controls",
            "layout": "IPY_MODEL_9f9a7be0946b46048da6432a980b0e18"
          }
        },
        "1f3fb8f4a0874f73b4e5c94a85e8a94b": {
          "model_module": "@jupyter-widgets/controls",
          "model_name": "HTMLModel",
          "model_module_version": "1.5.0",
          "state": {
            "_view_name": "HTMLView",
            "style": "IPY_MODEL_7346337ac03247f0a42b005912b74ac7",
            "_dom_classes": [],
            "description": "",
            "_model_name": "HTMLModel",
            "placeholder": "​",
            "_view_module": "@jupyter-widgets/controls",
            "_model_module_version": "1.5.0",
            "value": " 110/110 [00:00&lt;00:00, 623B/s]",
            "_view_count": null,
            "_view_module_version": "1.5.0",
            "description_tooltip": null,
            "_model_module": "@jupyter-widgets/controls",
            "layout": "IPY_MODEL_88c67ec3e0eb4b54a696be870db9255a"
          }
        },
        "d58951dd0c244c249a72b997cd8ef9d6": {
          "model_module": "@jupyter-widgets/controls",
          "model_name": "DescriptionStyleModel",
          "model_module_version": "1.5.0",
          "state": {
            "_view_name": "StyleView",
            "_model_name": "DescriptionStyleModel",
            "description_width": "",
            "_view_module": "@jupyter-widgets/base",
            "_model_module_version": "1.5.0",
            "_view_count": null,
            "_view_module_version": "1.2.0",
            "_model_module": "@jupyter-widgets/controls"
          }
        },
        "e1a56e8334d94df69c09da5511dc76ec": {
          "model_module": "@jupyter-widgets/base",
          "model_name": "LayoutModel",
          "model_module_version": "1.2.0",
          "state": {
            "_view_name": "LayoutView",
            "grid_template_rows": null,
            "right": null,
            "justify_content": null,
            "_view_module": "@jupyter-widgets/base",
            "overflow": null,
            "_model_module_version": "1.2.0",
            "_view_count": null,
            "flex_flow": null,
            "width": null,
            "min_width": null,
            "border": null,
            "align_items": null,
            "bottom": null,
            "_model_module": "@jupyter-widgets/base",
            "top": null,
            "grid_column": null,
            "overflow_y": null,
            "overflow_x": null,
            "grid_auto_flow": null,
            "grid_area": null,
            "grid_template_columns": null,
            "flex": null,
            "_model_name": "LayoutModel",
            "justify_items": null,
            "grid_row": null,
            "max_height": null,
            "align_content": null,
            "visibility": null,
            "align_self": null,
            "height": null,
            "min_height": null,
            "padding": null,
            "grid_auto_rows": null,
            "grid_gap": null,
            "max_width": null,
            "order": null,
            "_view_module_version": "1.2.0",
            "grid_template_areas": null,
            "object_position": null,
            "object_fit": null,
            "grid_auto_columns": null,
            "margin": null,
            "display": null,
            "left": null
          }
        },
        "6960698f54b64682870ad226c0875b3a": {
          "model_module": "@jupyter-widgets/controls",
          "model_name": "ProgressStyleModel",
          "model_module_version": "1.5.0",
          "state": {
            "_view_name": "StyleView",
            "_model_name": "ProgressStyleModel",
            "description_width": "",
            "_view_module": "@jupyter-widgets/base",
            "_model_module_version": "1.5.0",
            "_view_count": null,
            "_view_module_version": "1.2.0",
            "bar_color": null,
            "_model_module": "@jupyter-widgets/controls"
          }
        },
        "9f9a7be0946b46048da6432a980b0e18": {
          "model_module": "@jupyter-widgets/base",
          "model_name": "LayoutModel",
          "model_module_version": "1.2.0",
          "state": {
            "_view_name": "LayoutView",
            "grid_template_rows": null,
            "right": null,
            "justify_content": null,
            "_view_module": "@jupyter-widgets/base",
            "overflow": null,
            "_model_module_version": "1.2.0",
            "_view_count": null,
            "flex_flow": null,
            "width": null,
            "min_width": null,
            "border": null,
            "align_items": null,
            "bottom": null,
            "_model_module": "@jupyter-widgets/base",
            "top": null,
            "grid_column": null,
            "overflow_y": null,
            "overflow_x": null,
            "grid_auto_flow": null,
            "grid_area": null,
            "grid_template_columns": null,
            "flex": null,
            "_model_name": "LayoutModel",
            "justify_items": null,
            "grid_row": null,
            "max_height": null,
            "align_content": null,
            "visibility": null,
            "align_self": null,
            "height": null,
            "min_height": null,
            "padding": null,
            "grid_auto_rows": null,
            "grid_gap": null,
            "max_width": null,
            "order": null,
            "_view_module_version": "1.2.0",
            "grid_template_areas": null,
            "object_position": null,
            "object_fit": null,
            "grid_auto_columns": null,
            "margin": null,
            "display": null,
            "left": null
          }
        },
        "7346337ac03247f0a42b005912b74ac7": {
          "model_module": "@jupyter-widgets/controls",
          "model_name": "DescriptionStyleModel",
          "model_module_version": "1.5.0",
          "state": {
            "_view_name": "StyleView",
            "_model_name": "DescriptionStyleModel",
            "description_width": "",
            "_view_module": "@jupyter-widgets/base",
            "_model_module_version": "1.5.0",
            "_view_count": null,
            "_view_module_version": "1.2.0",
            "_model_module": "@jupyter-widgets/controls"
          }
        },
        "88c67ec3e0eb4b54a696be870db9255a": {
          "model_module": "@jupyter-widgets/base",
          "model_name": "LayoutModel",
          "model_module_version": "1.2.0",
          "state": {
            "_view_name": "LayoutView",
            "grid_template_rows": null,
            "right": null,
            "justify_content": null,
            "_view_module": "@jupyter-widgets/base",
            "overflow": null,
            "_model_module_version": "1.2.0",
            "_view_count": null,
            "flex_flow": null,
            "width": null,
            "min_width": null,
            "border": null,
            "align_items": null,
            "bottom": null,
            "_model_module": "@jupyter-widgets/base",
            "top": null,
            "grid_column": null,
            "overflow_y": null,
            "overflow_x": null,
            "grid_auto_flow": null,
            "grid_area": null,
            "grid_template_columns": null,
            "flex": null,
            "_model_name": "LayoutModel",
            "justify_items": null,
            "grid_row": null,
            "max_height": null,
            "align_content": null,
            "visibility": null,
            "align_self": null,
            "height": null,
            "min_height": null,
            "padding": null,
            "grid_auto_rows": null,
            "grid_gap": null,
            "max_width": null,
            "order": null,
            "_view_module_version": "1.2.0",
            "grid_template_areas": null,
            "object_position": null,
            "object_fit": null,
            "grid_auto_columns": null,
            "margin": null,
            "display": null,
            "left": null
          }
        },
        "7a54498d046a4e29864d700cc0eadd15": {
          "model_module": "@jupyter-widgets/controls",
          "model_name": "HBoxModel",
          "model_module_version": "1.5.0",
          "state": {
            "_view_name": "HBoxView",
            "_dom_classes": [],
            "_model_name": "HBoxModel",
            "_view_module": "@jupyter-widgets/controls",
            "_model_module_version": "1.5.0",
            "_view_count": null,
            "_view_module_version": "1.5.0",
            "box_style": "",
            "layout": "IPY_MODEL_49e49c1e30fc4fada957443d0b376910",
            "_model_module": "@jupyter-widgets/controls",
            "children": [
              "IPY_MODEL_db770bd5d2db4c388a7818285c9bc89b",
              "IPY_MODEL_fd12f1a6dc4347059abd0efc60e4b8ed",
              "IPY_MODEL_8601fdc15fe64cd9b9d5e402ed7a6356"
            ]
          }
        },
        "49e49c1e30fc4fada957443d0b376910": {
          "model_module": "@jupyter-widgets/base",
          "model_name": "LayoutModel",
          "model_module_version": "1.2.0",
          "state": {
            "_view_name": "LayoutView",
            "grid_template_rows": null,
            "right": null,
            "justify_content": null,
            "_view_module": "@jupyter-widgets/base",
            "overflow": null,
            "_model_module_version": "1.2.0",
            "_view_count": null,
            "flex_flow": null,
            "width": null,
            "min_width": null,
            "border": null,
            "align_items": null,
            "bottom": null,
            "_model_module": "@jupyter-widgets/base",
            "top": null,
            "grid_column": null,
            "overflow_y": null,
            "overflow_x": null,
            "grid_auto_flow": null,
            "grid_area": null,
            "grid_template_columns": null,
            "flex": null,
            "_model_name": "LayoutModel",
            "justify_items": null,
            "grid_row": null,
            "max_height": null,
            "align_content": null,
            "visibility": null,
            "align_self": null,
            "height": null,
            "min_height": null,
            "padding": null,
            "grid_auto_rows": null,
            "grid_gap": null,
            "max_width": null,
            "order": null,
            "_view_module_version": "1.2.0",
            "grid_template_areas": null,
            "object_position": null,
            "object_fit": null,
            "grid_auto_columns": null,
            "margin": null,
            "display": null,
            "left": null
          }
        },
        "db770bd5d2db4c388a7818285c9bc89b": {
          "model_module": "@jupyter-widgets/controls",
          "model_name": "HTMLModel",
          "model_module_version": "1.5.0",
          "state": {
            "_view_name": "HTMLView",
            "style": "IPY_MODEL_5f2d51e648f14b4caa3470983a4768d4",
            "_dom_classes": [],
            "description": "",
            "_model_name": "HTMLModel",
            "placeholder": "​",
            "_view_module": "@jupyter-widgets/controls",
            "_model_module_version": "1.5.0",
            "value": "Downloading: 100%",
            "_view_count": null,
            "_view_module_version": "1.5.0",
            "description_tooltip": null,
            "_model_module": "@jupyter-widgets/controls",
            "layout": "IPY_MODEL_f0d2954525e343999219c0ed8e429921"
          }
        },
        "fd12f1a6dc4347059abd0efc60e4b8ed": {
          "model_module": "@jupyter-widgets/controls",
          "model_name": "FloatProgressModel",
          "model_module_version": "1.5.0",
          "state": {
            "_view_name": "ProgressView",
            "style": "IPY_MODEL_f1d3db1cb80e499bba7a1e4762e6bfe5",
            "_dom_classes": [],
            "description": "",
            "_model_name": "FloatProgressModel",
            "bar_style": "success",
            "max": 479,
            "_view_module": "@jupyter-widgets/controls",
            "_model_module_version": "1.5.0",
            "value": 479,
            "_view_count": null,
            "_view_module_version": "1.5.0",
            "orientation": "horizontal",
            "min": 0,
            "description_tooltip": null,
            "_model_module": "@jupyter-widgets/controls",
            "layout": "IPY_MODEL_3dfb9aa550e84a34b8641b1846d74a0a"
          }
        },
        "8601fdc15fe64cd9b9d5e402ed7a6356": {
          "model_module": "@jupyter-widgets/controls",
          "model_name": "HTMLModel",
          "model_module_version": "1.5.0",
          "state": {
            "_view_name": "HTMLView",
            "style": "IPY_MODEL_eddeb5e8fc0f45cd9156521e17640f80",
            "_dom_classes": [],
            "description": "",
            "_model_name": "HTMLModel",
            "placeholder": "​",
            "_view_module": "@jupyter-widgets/controls",
            "_model_module_version": "1.5.0",
            "value": " 479/479 [00:00&lt;00:00, 3.02kB/s]",
            "_view_count": null,
            "_view_module_version": "1.5.0",
            "description_tooltip": null,
            "_model_module": "@jupyter-widgets/controls",
            "layout": "IPY_MODEL_86b6e6ba402640a78dbc11bc5a2d1844"
          }
        },
        "5f2d51e648f14b4caa3470983a4768d4": {
          "model_module": "@jupyter-widgets/controls",
          "model_name": "DescriptionStyleModel",
          "model_module_version": "1.5.0",
          "state": {
            "_view_name": "StyleView",
            "_model_name": "DescriptionStyleModel",
            "description_width": "",
            "_view_module": "@jupyter-widgets/base",
            "_model_module_version": "1.5.0",
            "_view_count": null,
            "_view_module_version": "1.2.0",
            "_model_module": "@jupyter-widgets/controls"
          }
        },
        "f0d2954525e343999219c0ed8e429921": {
          "model_module": "@jupyter-widgets/base",
          "model_name": "LayoutModel",
          "model_module_version": "1.2.0",
          "state": {
            "_view_name": "LayoutView",
            "grid_template_rows": null,
            "right": null,
            "justify_content": null,
            "_view_module": "@jupyter-widgets/base",
            "overflow": null,
            "_model_module_version": "1.2.0",
            "_view_count": null,
            "flex_flow": null,
            "width": null,
            "min_width": null,
            "border": null,
            "align_items": null,
            "bottom": null,
            "_model_module": "@jupyter-widgets/base",
            "top": null,
            "grid_column": null,
            "overflow_y": null,
            "overflow_x": null,
            "grid_auto_flow": null,
            "grid_area": null,
            "grid_template_columns": null,
            "flex": null,
            "_model_name": "LayoutModel",
            "justify_items": null,
            "grid_row": null,
            "max_height": null,
            "align_content": null,
            "visibility": null,
            "align_self": null,
            "height": null,
            "min_height": null,
            "padding": null,
            "grid_auto_rows": null,
            "grid_gap": null,
            "max_width": null,
            "order": null,
            "_view_module_version": "1.2.0",
            "grid_template_areas": null,
            "object_position": null,
            "object_fit": null,
            "grid_auto_columns": null,
            "margin": null,
            "display": null,
            "left": null
          }
        },
        "f1d3db1cb80e499bba7a1e4762e6bfe5": {
          "model_module": "@jupyter-widgets/controls",
          "model_name": "ProgressStyleModel",
          "model_module_version": "1.5.0",
          "state": {
            "_view_name": "StyleView",
            "_model_name": "ProgressStyleModel",
            "description_width": "",
            "_view_module": "@jupyter-widgets/base",
            "_model_module_version": "1.5.0",
            "_view_count": null,
            "_view_module_version": "1.2.0",
            "bar_color": null,
            "_model_module": "@jupyter-widgets/controls"
          }
        },
        "3dfb9aa550e84a34b8641b1846d74a0a": {
          "model_module": "@jupyter-widgets/base",
          "model_name": "LayoutModel",
          "model_module_version": "1.2.0",
          "state": {
            "_view_name": "LayoutView",
            "grid_template_rows": null,
            "right": null,
            "justify_content": null,
            "_view_module": "@jupyter-widgets/base",
            "overflow": null,
            "_model_module_version": "1.2.0",
            "_view_count": null,
            "flex_flow": null,
            "width": null,
            "min_width": null,
            "border": null,
            "align_items": null,
            "bottom": null,
            "_model_module": "@jupyter-widgets/base",
            "top": null,
            "grid_column": null,
            "overflow_y": null,
            "overflow_x": null,
            "grid_auto_flow": null,
            "grid_area": null,
            "grid_template_columns": null,
            "flex": null,
            "_model_name": "LayoutModel",
            "justify_items": null,
            "grid_row": null,
            "max_height": null,
            "align_content": null,
            "visibility": null,
            "align_self": null,
            "height": null,
            "min_height": null,
            "padding": null,
            "grid_auto_rows": null,
            "grid_gap": null,
            "max_width": null,
            "order": null,
            "_view_module_version": "1.2.0",
            "grid_template_areas": null,
            "object_position": null,
            "object_fit": null,
            "grid_auto_columns": null,
            "margin": null,
            "display": null,
            "left": null
          }
        },
        "eddeb5e8fc0f45cd9156521e17640f80": {
          "model_module": "@jupyter-widgets/controls",
          "model_name": "DescriptionStyleModel",
          "model_module_version": "1.5.0",
          "state": {
            "_view_name": "StyleView",
            "_model_name": "DescriptionStyleModel",
            "description_width": "",
            "_view_module": "@jupyter-widgets/base",
            "_model_module_version": "1.5.0",
            "_view_count": null,
            "_view_module_version": "1.2.0",
            "_model_module": "@jupyter-widgets/controls"
          }
        },
        "86b6e6ba402640a78dbc11bc5a2d1844": {
          "model_module": "@jupyter-widgets/base",
          "model_name": "LayoutModel",
          "model_module_version": "1.2.0",
          "state": {
            "_view_name": "LayoutView",
            "grid_template_rows": null,
            "right": null,
            "justify_content": null,
            "_view_module": "@jupyter-widgets/base",
            "overflow": null,
            "_model_module_version": "1.2.0",
            "_view_count": null,
            "flex_flow": null,
            "width": null,
            "min_width": null,
            "border": null,
            "align_items": null,
            "bottom": null,
            "_model_module": "@jupyter-widgets/base",
            "top": null,
            "grid_column": null,
            "overflow_y": null,
            "overflow_x": null,
            "grid_auto_flow": null,
            "grid_area": null,
            "grid_template_columns": null,
            "flex": null,
            "_model_name": "LayoutModel",
            "justify_items": null,
            "grid_row": null,
            "max_height": null,
            "align_content": null,
            "visibility": null,
            "align_self": null,
            "height": null,
            "min_height": null,
            "padding": null,
            "grid_auto_rows": null,
            "grid_gap": null,
            "max_width": null,
            "order": null,
            "_view_module_version": "1.2.0",
            "grid_template_areas": null,
            "object_position": null,
            "object_fit": null,
            "grid_auto_columns": null,
            "margin": null,
            "display": null,
            "left": null
          }
        },
        "4b2201da9ef14f09aa92d790633da1f6": {
          "model_module": "@jupyter-widgets/controls",
          "model_name": "HBoxModel",
          "model_module_version": "1.5.0",
          "state": {
            "_view_name": "HBoxView",
            "_dom_classes": [],
            "_model_name": "HBoxModel",
            "_view_module": "@jupyter-widgets/controls",
            "_model_module_version": "1.5.0",
            "_view_count": null,
            "_view_module_version": "1.5.0",
            "box_style": "",
            "layout": "IPY_MODEL_96101d409d4b407aa619f78547002d0d",
            "_model_module": "@jupyter-widgets/controls",
            "children": [
              "IPY_MODEL_af2e7058a4f041d7ba820538d0b63e70",
              "IPY_MODEL_5f21922657ff4e7089f2a9d229c9aa36",
              "IPY_MODEL_a81ce3dce6e64cc796e1fd2c369d7c4c"
            ]
          }
        },
        "96101d409d4b407aa619f78547002d0d": {
          "model_module": "@jupyter-widgets/base",
          "model_name": "LayoutModel",
          "model_module_version": "1.2.0",
          "state": {
            "_view_name": "LayoutView",
            "grid_template_rows": null,
            "right": null,
            "justify_content": null,
            "_view_module": "@jupyter-widgets/base",
            "overflow": null,
            "_model_module_version": "1.2.0",
            "_view_count": null,
            "flex_flow": null,
            "width": null,
            "min_width": null,
            "border": null,
            "align_items": null,
            "bottom": null,
            "_model_module": "@jupyter-widgets/base",
            "top": null,
            "grid_column": null,
            "overflow_y": null,
            "overflow_x": null,
            "grid_auto_flow": null,
            "grid_area": null,
            "grid_template_columns": null,
            "flex": null,
            "_model_name": "LayoutModel",
            "justify_items": null,
            "grid_row": null,
            "max_height": null,
            "align_content": null,
            "visibility": null,
            "align_self": null,
            "height": null,
            "min_height": null,
            "padding": null,
            "grid_auto_rows": null,
            "grid_gap": null,
            "max_width": null,
            "order": null,
            "_view_module_version": "1.2.0",
            "grid_template_areas": null,
            "object_position": null,
            "object_fit": null,
            "grid_auto_columns": null,
            "margin": null,
            "display": null,
            "left": null
          }
        },
        "af2e7058a4f041d7ba820538d0b63e70": {
          "model_module": "@jupyter-widgets/controls",
          "model_name": "HTMLModel",
          "model_module_version": "1.5.0",
          "state": {
            "_view_name": "HTMLView",
            "style": "IPY_MODEL_35ab2705edf5405cb6ee03b5dd5161c0",
            "_dom_classes": [],
            "description": "",
            "_model_name": "HTMLModel",
            "placeholder": "​",
            "_view_module": "@jupyter-widgets/controls",
            "_model_module_version": "1.5.0",
            "value": "Downloading: 100%",
            "_view_count": null,
            "_view_module_version": "1.5.0",
            "description_tooltip": null,
            "_model_module": "@jupyter-widgets/controls",
            "layout": "IPY_MODEL_37e5be18973c498d866bf753f9440c72"
          }
        },
        "5f21922657ff4e7089f2a9d229c9aa36": {
          "model_module": "@jupyter-widgets/controls",
          "model_name": "FloatProgressModel",
          "model_module_version": "1.5.0",
          "state": {
            "_view_name": "ProgressView",
            "style": "IPY_MODEL_3da8469b569241908c0d1100aab2043a",
            "_dom_classes": [],
            "description": "",
            "_model_name": "FloatProgressModel",
            "bar_style": "success",
            "max": 257706,
            "_view_module": "@jupyter-widgets/controls",
            "_model_module_version": "1.5.0",
            "value": 257706,
            "_view_count": null,
            "_view_module_version": "1.5.0",
            "orientation": "horizontal",
            "min": 0,
            "description_tooltip": null,
            "_model_module": "@jupyter-widgets/controls",
            "layout": "IPY_MODEL_31185c2f73b34a4b9e8eb6aa077804fd"
          }
        },
        "a81ce3dce6e64cc796e1fd2c369d7c4c": {
          "model_module": "@jupyter-widgets/controls",
          "model_name": "HTMLModel",
          "model_module_version": "1.5.0",
          "state": {
            "_view_name": "HTMLView",
            "style": "IPY_MODEL_e07edf6ebb194d6aaf49ba555cfdfa72",
            "_dom_classes": [],
            "description": "",
            "_model_name": "HTMLModel",
            "placeholder": "​",
            "_view_module": "@jupyter-widgets/controls",
            "_model_module_version": "1.5.0",
            "value": " 252k/252k [00:00&lt;00:00, 587kB/s]",
            "_view_count": null,
            "_view_module_version": "1.5.0",
            "description_tooltip": null,
            "_model_module": "@jupyter-widgets/controls",
            "layout": "IPY_MODEL_e7b3b94a154d49ca9c8b0f38673f3297"
          }
        },
        "35ab2705edf5405cb6ee03b5dd5161c0": {
          "model_module": "@jupyter-widgets/controls",
          "model_name": "DescriptionStyleModel",
          "model_module_version": "1.5.0",
          "state": {
            "_view_name": "StyleView",
            "_model_name": "DescriptionStyleModel",
            "description_width": "",
            "_view_module": "@jupyter-widgets/base",
            "_model_module_version": "1.5.0",
            "_view_count": null,
            "_view_module_version": "1.2.0",
            "_model_module": "@jupyter-widgets/controls"
          }
        },
        "37e5be18973c498d866bf753f9440c72": {
          "model_module": "@jupyter-widgets/base",
          "model_name": "LayoutModel",
          "model_module_version": "1.2.0",
          "state": {
            "_view_name": "LayoutView",
            "grid_template_rows": null,
            "right": null,
            "justify_content": null,
            "_view_module": "@jupyter-widgets/base",
            "overflow": null,
            "_model_module_version": "1.2.0",
            "_view_count": null,
            "flex_flow": null,
            "width": null,
            "min_width": null,
            "border": null,
            "align_items": null,
            "bottom": null,
            "_model_module": "@jupyter-widgets/base",
            "top": null,
            "grid_column": null,
            "overflow_y": null,
            "overflow_x": null,
            "grid_auto_flow": null,
            "grid_area": null,
            "grid_template_columns": null,
            "flex": null,
            "_model_name": "LayoutModel",
            "justify_items": null,
            "grid_row": null,
            "max_height": null,
            "align_content": null,
            "visibility": null,
            "align_self": null,
            "height": null,
            "min_height": null,
            "padding": null,
            "grid_auto_rows": null,
            "grid_gap": null,
            "max_width": null,
            "order": null,
            "_view_module_version": "1.2.0",
            "grid_template_areas": null,
            "object_position": null,
            "object_fit": null,
            "grid_auto_columns": null,
            "margin": null,
            "display": null,
            "left": null
          }
        },
        "3da8469b569241908c0d1100aab2043a": {
          "model_module": "@jupyter-widgets/controls",
          "model_name": "ProgressStyleModel",
          "model_module_version": "1.5.0",
          "state": {
            "_view_name": "StyleView",
            "_model_name": "ProgressStyleModel",
            "description_width": "",
            "_view_module": "@jupyter-widgets/base",
            "_model_module_version": "1.5.0",
            "_view_count": null,
            "_view_module_version": "1.2.0",
            "bar_color": null,
            "_model_module": "@jupyter-widgets/controls"
          }
        },
        "31185c2f73b34a4b9e8eb6aa077804fd": {
          "model_module": "@jupyter-widgets/base",
          "model_name": "LayoutModel",
          "model_module_version": "1.2.0",
          "state": {
            "_view_name": "LayoutView",
            "grid_template_rows": null,
            "right": null,
            "justify_content": null,
            "_view_module": "@jupyter-widgets/base",
            "overflow": null,
            "_model_module_version": "1.2.0",
            "_view_count": null,
            "flex_flow": null,
            "width": null,
            "min_width": null,
            "border": null,
            "align_items": null,
            "bottom": null,
            "_model_module": "@jupyter-widgets/base",
            "top": null,
            "grid_column": null,
            "overflow_y": null,
            "overflow_x": null,
            "grid_auto_flow": null,
            "grid_area": null,
            "grid_template_columns": null,
            "flex": null,
            "_model_name": "LayoutModel",
            "justify_items": null,
            "grid_row": null,
            "max_height": null,
            "align_content": null,
            "visibility": null,
            "align_self": null,
            "height": null,
            "min_height": null,
            "padding": null,
            "grid_auto_rows": null,
            "grid_gap": null,
            "max_width": null,
            "order": null,
            "_view_module_version": "1.2.0",
            "grid_template_areas": null,
            "object_position": null,
            "object_fit": null,
            "grid_auto_columns": null,
            "margin": null,
            "display": null,
            "left": null
          }
        },
        "e07edf6ebb194d6aaf49ba555cfdfa72": {
          "model_module": "@jupyter-widgets/controls",
          "model_name": "DescriptionStyleModel",
          "model_module_version": "1.5.0",
          "state": {
            "_view_name": "StyleView",
            "_model_name": "DescriptionStyleModel",
            "description_width": "",
            "_view_module": "@jupyter-widgets/base",
            "_model_module_version": "1.5.0",
            "_view_count": null,
            "_view_module_version": "1.2.0",
            "_model_module": "@jupyter-widgets/controls"
          }
        },
        "e7b3b94a154d49ca9c8b0f38673f3297": {
          "model_module": "@jupyter-widgets/base",
          "model_name": "LayoutModel",
          "model_module_version": "1.2.0",
          "state": {
            "_view_name": "LayoutView",
            "grid_template_rows": null,
            "right": null,
            "justify_content": null,
            "_view_module": "@jupyter-widgets/base",
            "overflow": null,
            "_model_module_version": "1.2.0",
            "_view_count": null,
            "flex_flow": null,
            "width": null,
            "min_width": null,
            "border": null,
            "align_items": null,
            "bottom": null,
            "_model_module": "@jupyter-widgets/base",
            "top": null,
            "grid_column": null,
            "overflow_y": null,
            "overflow_x": null,
            "grid_auto_flow": null,
            "grid_area": null,
            "grid_template_columns": null,
            "flex": null,
            "_model_name": "LayoutModel",
            "justify_items": null,
            "grid_row": null,
            "max_height": null,
            "align_content": null,
            "visibility": null,
            "align_self": null,
            "height": null,
            "min_height": null,
            "padding": null,
            "grid_auto_rows": null,
            "grid_gap": null,
            "max_width": null,
            "order": null,
            "_view_module_version": "1.2.0",
            "grid_template_areas": null,
            "object_position": null,
            "object_fit": null,
            "grid_auto_columns": null,
            "margin": null,
            "display": null,
            "left": null
          }
        }
      }
    }
  },
  "nbformat": 4,
  "nbformat_minor": 0
}